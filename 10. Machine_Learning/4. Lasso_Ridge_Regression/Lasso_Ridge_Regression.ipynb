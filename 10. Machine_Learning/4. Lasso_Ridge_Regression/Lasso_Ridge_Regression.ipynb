{
 "cells": [
  {
   "cell_type": "markdown",
   "id": "5431ae46-21a0-40c6-8b3b-222009b0e745",
   "metadata": {},
   "source": [
    "# Featurization, Model Selection & Tuning - Linear Regression"
   ]
  },
  {
   "cell_type": "markdown",
   "id": "b373fc08-32e0-41b8-999e-8d465d73a03d",
   "metadata": {},
   "source": [
    "**Why is regularization required ?**\n",
    "\n",
    "We are well aware of the issue of 'Curse of dimensionality', where the no. of columns are so huge that the no. of rows does not cover all the permutation and combinations that is applicable for this dataset.\n",
    "For eg: Data having 10 columns should have 10! rows but it has only 1000 rows\n",
    "\n",
    "Therefore,when we depict this graphically there would be lot of white spaces as the datapoints for those regions may not be covered in the dataset.\n",
    "\n",
    "If a  linear regression model is tested over such a data, the model will tend to overfit this data by having sharp peaks & slopes. Such a model would have 100% training accuracy but would definitely fail in the test environment.\n",
    "\n",
    "Thus arose the need of introducing slight errors in the form of giving smooth bends instead of sharp peaks (thereby reducing overfit).This is achieved by tweaking the model parameters (coefficients) and the hyperparameters (penalty factor). "
   ]
  },
  {
   "cell_type": "markdown",
   "id": "5b946ba7-991b-4aa0-bc7b-ded0fd3df51f",
   "metadata": {},
   "source": [
    "## Agenda\n",
    "\n",
    "* Perform basic EDA\n",
    "* Scale data and apply Linear, Ridge & Lasso Regression with Regularization \n",
    "* Compare the r^2 score to determine which of the above regression methods gives the highest score\n",
    "* Compute Root mean squared error (RMSE) which inturn gives a better score than r^2\n",
    "* Finally use a scatter plot to graphically depict the correlation between actual and predicted mpg values"
   ]
  },
  {
   "cell_type": "markdown",
   "id": "b0274518-cab4-411f-9b53-7d0bbddc12b7",
   "metadata": {},
   "source": [
    "# 1. Import packages and observe dataset"
   ]
  },
  {
   "cell_type": "code",
   "execution_count": 1,
   "id": "b850ba86-1ea4-476f-9d90-2f1b592afd26",
   "metadata": {},
   "outputs": [],
   "source": [
    "# Import Numerical Libraries\n",
    "import pandas as pd\n",
    "import numpy as np"
   ]
  },
  {
   "cell_type": "code",
   "execution_count": 2,
   "id": "19542426-473c-4378-a5f2-0e0a97ae7f7b",
   "metadata": {},
   "outputs": [],
   "source": [
    "# Import Graphical Plotting libraries\n",
    "import seaborn as sns\n",
    "import matplotlib.pyplot as plt"
   ]
  },
  {
   "cell_type": "code",
   "execution_count": 3,
   "id": "19c365cd-0581-43b5-a3d3-ee4344989984",
   "metadata": {},
   "outputs": [],
   "source": [
    "# Import Linear Regression Machine Learning libraries\n",
    "from sklearn import preprocessing\n",
    "from sklearn.preprocessing import PolynomialFeatures\n",
    "from sklearn.model_selection import train_test_split\n",
    "\n",
    "from sklearn.linear_model import LinearRegression, Ridge, Lasso\n",
    "from sklearn.metrics import r2_score"
   ]
  },
  {
   "cell_type": "code",
   "execution_count": 4,
   "id": "09c91c55-d2e8-453f-8f6f-d0707460026b",
   "metadata": {},
   "outputs": [
    {
     "data": {
      "text/html": [
       "<div>\n",
       "<style scoped>\n",
       "    .dataframe tbody tr th:only-of-type {\n",
       "        vertical-align: middle;\n",
       "    }\n",
       "\n",
       "    .dataframe tbody tr th {\n",
       "        vertical-align: top;\n",
       "    }\n",
       "\n",
       "    .dataframe thead th {\n",
       "        text-align: right;\n",
       "    }\n",
       "</style>\n",
       "<table border=\"1\" class=\"dataframe\">\n",
       "  <thead>\n",
       "    <tr style=\"text-align: right;\">\n",
       "      <th></th>\n",
       "      <th>mpg</th>\n",
       "      <th>cyl</th>\n",
       "      <th>disp</th>\n",
       "      <th>hp</th>\n",
       "      <th>wt</th>\n",
       "      <th>acc</th>\n",
       "      <th>yr</th>\n",
       "      <th>origin</th>\n",
       "      <th>car_type</th>\n",
       "      <th>car_name</th>\n",
       "    </tr>\n",
       "  </thead>\n",
       "  <tbody>\n",
       "    <tr>\n",
       "      <th>0</th>\n",
       "      <td>18.0</td>\n",
       "      <td>8</td>\n",
       "      <td>307.0</td>\n",
       "      <td>130</td>\n",
       "      <td>3504</td>\n",
       "      <td>12.0</td>\n",
       "      <td>70</td>\n",
       "      <td>1</td>\n",
       "      <td>0</td>\n",
       "      <td>chevrolet chevelle malibu</td>\n",
       "    </tr>\n",
       "    <tr>\n",
       "      <th>1</th>\n",
       "      <td>15.0</td>\n",
       "      <td>8</td>\n",
       "      <td>350.0</td>\n",
       "      <td>165</td>\n",
       "      <td>3693</td>\n",
       "      <td>11.5</td>\n",
       "      <td>70</td>\n",
       "      <td>1</td>\n",
       "      <td>0</td>\n",
       "      <td>buick skylark 320</td>\n",
       "    </tr>\n",
       "    <tr>\n",
       "      <th>2</th>\n",
       "      <td>18.0</td>\n",
       "      <td>8</td>\n",
       "      <td>318.0</td>\n",
       "      <td>150</td>\n",
       "      <td>3436</td>\n",
       "      <td>11.0</td>\n",
       "      <td>70</td>\n",
       "      <td>1</td>\n",
       "      <td>0</td>\n",
       "      <td>plymouth satellite</td>\n",
       "    </tr>\n",
       "    <tr>\n",
       "      <th>3</th>\n",
       "      <td>16.0</td>\n",
       "      <td>8</td>\n",
       "      <td>304.0</td>\n",
       "      <td>150</td>\n",
       "      <td>3433</td>\n",
       "      <td>12.0</td>\n",
       "      <td>70</td>\n",
       "      <td>1</td>\n",
       "      <td>0</td>\n",
       "      <td>amc rebel sst</td>\n",
       "    </tr>\n",
       "    <tr>\n",
       "      <th>4</th>\n",
       "      <td>17.0</td>\n",
       "      <td>8</td>\n",
       "      <td>302.0</td>\n",
       "      <td>140</td>\n",
       "      <td>3449</td>\n",
       "      <td>10.5</td>\n",
       "      <td>70</td>\n",
       "      <td>1</td>\n",
       "      <td>0</td>\n",
       "      <td>ford torino</td>\n",
       "    </tr>\n",
       "    <tr>\n",
       "      <th>...</th>\n",
       "      <td>...</td>\n",
       "      <td>...</td>\n",
       "      <td>...</td>\n",
       "      <td>...</td>\n",
       "      <td>...</td>\n",
       "      <td>...</td>\n",
       "      <td>...</td>\n",
       "      <td>...</td>\n",
       "      <td>...</td>\n",
       "      <td>...</td>\n",
       "    </tr>\n",
       "    <tr>\n",
       "      <th>393</th>\n",
       "      <td>27.0</td>\n",
       "      <td>4</td>\n",
       "      <td>140.0</td>\n",
       "      <td>86</td>\n",
       "      <td>2790</td>\n",
       "      <td>15.6</td>\n",
       "      <td>82</td>\n",
       "      <td>1</td>\n",
       "      <td>1</td>\n",
       "      <td>ford mustang gl</td>\n",
       "    </tr>\n",
       "    <tr>\n",
       "      <th>394</th>\n",
       "      <td>44.0</td>\n",
       "      <td>4</td>\n",
       "      <td>97.0</td>\n",
       "      <td>52</td>\n",
       "      <td>2130</td>\n",
       "      <td>24.6</td>\n",
       "      <td>82</td>\n",
       "      <td>2</td>\n",
       "      <td>1</td>\n",
       "      <td>vw pickup</td>\n",
       "    </tr>\n",
       "    <tr>\n",
       "      <th>395</th>\n",
       "      <td>32.0</td>\n",
       "      <td>4</td>\n",
       "      <td>135.0</td>\n",
       "      <td>84</td>\n",
       "      <td>2295</td>\n",
       "      <td>11.6</td>\n",
       "      <td>82</td>\n",
       "      <td>1</td>\n",
       "      <td>1</td>\n",
       "      <td>dodge rampage</td>\n",
       "    </tr>\n",
       "    <tr>\n",
       "      <th>396</th>\n",
       "      <td>28.0</td>\n",
       "      <td>4</td>\n",
       "      <td>120.0</td>\n",
       "      <td>79</td>\n",
       "      <td>2625</td>\n",
       "      <td>18.6</td>\n",
       "      <td>82</td>\n",
       "      <td>1</td>\n",
       "      <td>1</td>\n",
       "      <td>ford ranger</td>\n",
       "    </tr>\n",
       "    <tr>\n",
       "      <th>397</th>\n",
       "      <td>31.0</td>\n",
       "      <td>4</td>\n",
       "      <td>119.0</td>\n",
       "      <td>82</td>\n",
       "      <td>2720</td>\n",
       "      <td>19.4</td>\n",
       "      <td>82</td>\n",
       "      <td>1</td>\n",
       "      <td>1</td>\n",
       "      <td>chevy s-10</td>\n",
       "    </tr>\n",
       "  </tbody>\n",
       "</table>\n",
       "<p>398 rows × 10 columns</p>\n",
       "</div>"
      ],
      "text/plain": [
       "      mpg  cyl   disp   hp    wt   acc  yr  origin  car_type  \\\n",
       "0    18.0    8  307.0  130  3504  12.0  70       1         0   \n",
       "1    15.0    8  350.0  165  3693  11.5  70       1         0   \n",
       "2    18.0    8  318.0  150  3436  11.0  70       1         0   \n",
       "3    16.0    8  304.0  150  3433  12.0  70       1         0   \n",
       "4    17.0    8  302.0  140  3449  10.5  70       1         0   \n",
       "..    ...  ...    ...  ...   ...   ...  ..     ...       ...   \n",
       "393  27.0    4  140.0   86  2790  15.6  82       1         1   \n",
       "394  44.0    4   97.0   52  2130  24.6  82       2         1   \n",
       "395  32.0    4  135.0   84  2295  11.6  82       1         1   \n",
       "396  28.0    4  120.0   79  2625  18.6  82       1         1   \n",
       "397  31.0    4  119.0   82  2720  19.4  82       1         1   \n",
       "\n",
       "                      car_name  \n",
       "0    chevrolet chevelle malibu  \n",
       "1            buick skylark 320  \n",
       "2           plymouth satellite  \n",
       "3                amc rebel sst  \n",
       "4                  ford torino  \n",
       "..                         ...  \n",
       "393            ford mustang gl  \n",
       "394                  vw pickup  \n",
       "395              dodge rampage  \n",
       "396                ford ranger  \n",
       "397                 chevy s-10  \n",
       "\n",
       "[398 rows x 10 columns]"
      ]
     },
     "execution_count": 4,
     "metadata": {},
     "output_type": "execute_result"
    }
   ],
   "source": [
    "data = pd.read_csv(r'C:\\Users\\Windows10 Pro\\Downloads\\DataScience_AI\\2025\\3. Jun2025\\21062025\\Lasso_Ridge_Regression\\car-mpg.csv')\n",
    "data"
   ]
  },
  {
   "cell_type": "code",
   "execution_count": 5,
   "id": "33a072d6-d5b2-4fde-82ce-daadaf965253",
   "metadata": {},
   "outputs": [
    {
     "data": {
      "text/html": [
       "<div>\n",
       "<style scoped>\n",
       "    .dataframe tbody tr th:only-of-type {\n",
       "        vertical-align: middle;\n",
       "    }\n",
       "\n",
       "    .dataframe tbody tr th {\n",
       "        vertical-align: top;\n",
       "    }\n",
       "\n",
       "    .dataframe thead th {\n",
       "        text-align: right;\n",
       "    }\n",
       "</style>\n",
       "<table border=\"1\" class=\"dataframe\">\n",
       "  <thead>\n",
       "    <tr style=\"text-align: right;\">\n",
       "      <th></th>\n",
       "      <th>mpg</th>\n",
       "      <th>cyl</th>\n",
       "      <th>disp</th>\n",
       "      <th>hp</th>\n",
       "      <th>wt</th>\n",
       "      <th>acc</th>\n",
       "      <th>yr</th>\n",
       "      <th>origin</th>\n",
       "      <th>car_type</th>\n",
       "      <th>car_name</th>\n",
       "    </tr>\n",
       "  </thead>\n",
       "  <tbody>\n",
       "    <tr>\n",
       "      <th>0</th>\n",
       "      <td>18.0</td>\n",
       "      <td>8</td>\n",
       "      <td>307.0</td>\n",
       "      <td>130</td>\n",
       "      <td>3504</td>\n",
       "      <td>12.0</td>\n",
       "      <td>70</td>\n",
       "      <td>1</td>\n",
       "      <td>0</td>\n",
       "      <td>chevrolet chevelle malibu</td>\n",
       "    </tr>\n",
       "    <tr>\n",
       "      <th>1</th>\n",
       "      <td>15.0</td>\n",
       "      <td>8</td>\n",
       "      <td>350.0</td>\n",
       "      <td>165</td>\n",
       "      <td>3693</td>\n",
       "      <td>11.5</td>\n",
       "      <td>70</td>\n",
       "      <td>1</td>\n",
       "      <td>0</td>\n",
       "      <td>buick skylark 320</td>\n",
       "    </tr>\n",
       "    <tr>\n",
       "      <th>2</th>\n",
       "      <td>18.0</td>\n",
       "      <td>8</td>\n",
       "      <td>318.0</td>\n",
       "      <td>150</td>\n",
       "      <td>3436</td>\n",
       "      <td>11.0</td>\n",
       "      <td>70</td>\n",
       "      <td>1</td>\n",
       "      <td>0</td>\n",
       "      <td>plymouth satellite</td>\n",
       "    </tr>\n",
       "    <tr>\n",
       "      <th>3</th>\n",
       "      <td>16.0</td>\n",
       "      <td>8</td>\n",
       "      <td>304.0</td>\n",
       "      <td>150</td>\n",
       "      <td>3433</td>\n",
       "      <td>12.0</td>\n",
       "      <td>70</td>\n",
       "      <td>1</td>\n",
       "      <td>0</td>\n",
       "      <td>amc rebel sst</td>\n",
       "    </tr>\n",
       "    <tr>\n",
       "      <th>4</th>\n",
       "      <td>17.0</td>\n",
       "      <td>8</td>\n",
       "      <td>302.0</td>\n",
       "      <td>140</td>\n",
       "      <td>3449</td>\n",
       "      <td>10.5</td>\n",
       "      <td>70</td>\n",
       "      <td>1</td>\n",
       "      <td>0</td>\n",
       "      <td>ford torino</td>\n",
       "    </tr>\n",
       "  </tbody>\n",
       "</table>\n",
       "</div>"
      ],
      "text/plain": [
       "    mpg  cyl   disp   hp    wt   acc  yr  origin  car_type  \\\n",
       "0  18.0    8  307.0  130  3504  12.0  70       1         0   \n",
       "1  15.0    8  350.0  165  3693  11.5  70       1         0   \n",
       "2  18.0    8  318.0  150  3436  11.0  70       1         0   \n",
       "3  16.0    8  304.0  150  3433  12.0  70       1         0   \n",
       "4  17.0    8  302.0  140  3449  10.5  70       1         0   \n",
       "\n",
       "                    car_name  \n",
       "0  chevrolet chevelle malibu  \n",
       "1          buick skylark 320  \n",
       "2         plymouth satellite  \n",
       "3              amc rebel sst  \n",
       "4                ford torino  "
      ]
     },
     "execution_count": 5,
     "metadata": {},
     "output_type": "execute_result"
    }
   ],
   "source": [
    "data.head()   # mpg is dependent (y) varible"
   ]
  },
  {
   "cell_type": "code",
   "execution_count": 6,
   "id": "8ca56d07-0a30-47d5-81ce-5090b5ced72e",
   "metadata": {},
   "outputs": [],
   "source": [
    "# Drop Car Name\n",
    "# Replace origin into 1,2,3,  don't forget dummies\n",
    "# Replace ? with nan\n",
    "# Replace all nan with median\n",
    "\n",
    "data = data.drop(['car_name'], axis=1)\n",
    "data['origin'] = data['origin'].replace({1:'america', 2: 'europe', 3:'asia'})\n",
    "data = pd.get_dummies(data,columns = ['origin'],dtype=int)   # converts categroical into Numerical\n",
    "data = data.replace('?', np.nan)\n",
    "data = data.apply(lambda x:x.fillna(x.median()), axis=0)"
   ]
  },
  {
   "cell_type": "code",
   "execution_count": 7,
   "id": "f79af59e-6339-41d3-bcdc-ee39226446d9",
   "metadata": {},
   "outputs": [
    {
     "data": {
      "text/html": [
       "<div>\n",
       "<style scoped>\n",
       "    .dataframe tbody tr th:only-of-type {\n",
       "        vertical-align: middle;\n",
       "    }\n",
       "\n",
       "    .dataframe tbody tr th {\n",
       "        vertical-align: top;\n",
       "    }\n",
       "\n",
       "    .dataframe thead th {\n",
       "        text-align: right;\n",
       "    }\n",
       "</style>\n",
       "<table border=\"1\" class=\"dataframe\">\n",
       "  <thead>\n",
       "    <tr style=\"text-align: right;\">\n",
       "      <th></th>\n",
       "      <th>mpg</th>\n",
       "      <th>cyl</th>\n",
       "      <th>disp</th>\n",
       "      <th>hp</th>\n",
       "      <th>wt</th>\n",
       "      <th>acc</th>\n",
       "      <th>yr</th>\n",
       "      <th>car_type</th>\n",
       "      <th>origin_america</th>\n",
       "      <th>origin_asia</th>\n",
       "      <th>origin_europe</th>\n",
       "    </tr>\n",
       "  </thead>\n",
       "  <tbody>\n",
       "    <tr>\n",
       "      <th>0</th>\n",
       "      <td>18.0</td>\n",
       "      <td>8</td>\n",
       "      <td>307.0</td>\n",
       "      <td>130</td>\n",
       "      <td>3504</td>\n",
       "      <td>12.0</td>\n",
       "      <td>70</td>\n",
       "      <td>0</td>\n",
       "      <td>1</td>\n",
       "      <td>0</td>\n",
       "      <td>0</td>\n",
       "    </tr>\n",
       "    <tr>\n",
       "      <th>1</th>\n",
       "      <td>15.0</td>\n",
       "      <td>8</td>\n",
       "      <td>350.0</td>\n",
       "      <td>165</td>\n",
       "      <td>3693</td>\n",
       "      <td>11.5</td>\n",
       "      <td>70</td>\n",
       "      <td>0</td>\n",
       "      <td>1</td>\n",
       "      <td>0</td>\n",
       "      <td>0</td>\n",
       "    </tr>\n",
       "    <tr>\n",
       "      <th>2</th>\n",
       "      <td>18.0</td>\n",
       "      <td>8</td>\n",
       "      <td>318.0</td>\n",
       "      <td>150</td>\n",
       "      <td>3436</td>\n",
       "      <td>11.0</td>\n",
       "      <td>70</td>\n",
       "      <td>0</td>\n",
       "      <td>1</td>\n",
       "      <td>0</td>\n",
       "      <td>0</td>\n",
       "    </tr>\n",
       "    <tr>\n",
       "      <th>3</th>\n",
       "      <td>16.0</td>\n",
       "      <td>8</td>\n",
       "      <td>304.0</td>\n",
       "      <td>150</td>\n",
       "      <td>3433</td>\n",
       "      <td>12.0</td>\n",
       "      <td>70</td>\n",
       "      <td>0</td>\n",
       "      <td>1</td>\n",
       "      <td>0</td>\n",
       "      <td>0</td>\n",
       "    </tr>\n",
       "    <tr>\n",
       "      <th>4</th>\n",
       "      <td>17.0</td>\n",
       "      <td>8</td>\n",
       "      <td>302.0</td>\n",
       "      <td>140</td>\n",
       "      <td>3449</td>\n",
       "      <td>10.5</td>\n",
       "      <td>70</td>\n",
       "      <td>0</td>\n",
       "      <td>1</td>\n",
       "      <td>0</td>\n",
       "      <td>0</td>\n",
       "    </tr>\n",
       "  </tbody>\n",
       "</table>\n",
       "</div>"
      ],
      "text/plain": [
       "    mpg  cyl   disp   hp    wt   acc  yr  car_type  origin_america  \\\n",
       "0  18.0    8  307.0  130  3504  12.0  70         0               1   \n",
       "1  15.0    8  350.0  165  3693  11.5  70         0               1   \n",
       "2  18.0    8  318.0  150  3436  11.0  70         0               1   \n",
       "3  16.0    8  304.0  150  3433  12.0  70         0               1   \n",
       "4  17.0    8  302.0  140  3449  10.5  70         0               1   \n",
       "\n",
       "   origin_asia  origin_europe  \n",
       "0            0              0  \n",
       "1            0              0  \n",
       "2            0              0  \n",
       "3            0              0  \n",
       "4            0              0  "
      ]
     },
     "execution_count": 7,
     "metadata": {},
     "output_type": "execute_result"
    }
   ],
   "source": [
    "data.head()"
   ]
  },
  {
   "cell_type": "markdown",
   "id": "04b369ba-3d17-4252-b06e-c54c9abe160e",
   "metadata": {},
   "source": [
    "# 2. Model Building"
   ]
  },
  {
   "cell_type": "markdown",
   "id": "d104fee6-2170-4931-8909-4125260b11bc",
   "metadata": {},
   "source": [
    "Here we would like to scale the data as the columns are varied which would result in 1 column dominating the others.\n",
    "\n",
    "First we divide the data into independent (X) and dependent data (y) then we scale it. \n",
    "\n",
    "#### Tip!: ####\n",
    "\n",
    "*The reason we don't scale the entire data before and then divide it into train(X) & test(y) is because once you scale the data, the type(data_s) would be numpy.ndarray. It's impossible to divide this data when it's an array. \n",
    "*\n",
    "\n",
    "Hence we divide type(data) pandas.DataFrame, then proceed to scaling it."
   ]
  },
  {
   "cell_type": "code",
   "execution_count": 8,
   "id": "81869c28-c8d0-4c05-ac72-36868919333e",
   "metadata": {},
   "outputs": [],
   "source": [
    "X = data.drop(['mpg'], axis=1)  # independent variable\n",
    "y = data[['mpg']]   # independent variable"
   ]
  },
  {
   "cell_type": "code",
   "execution_count": 9,
   "id": "1227f953-ad21-41c1-8165-1274c6a188a1",
   "metadata": {},
   "outputs": [],
   "source": [
    "# Scaling data\n",
    "\n",
    "X_s = preprocessing.scale(X)\n",
    "X_s = pd.DataFrame(X_s,  columns = X.columns)  # converting scaled data into dataframe\n",
    "\n",
    "y_s = preprocessing.scale(y)\n",
    "y_s = pd.DataFrame(y_s, columns = y.columns)   # ideally train, test data should be in columns"
   ]
  },
  {
   "cell_type": "code",
   "execution_count": 16,
   "id": "a1bdc663-2462-4078-bf8c-302dbce154ed",
   "metadata": {},
   "outputs": [
    {
     "data": {
      "text/plain": [
       "(318, 10)"
      ]
     },
     "execution_count": 16,
     "metadata": {},
     "output_type": "execute_result"
    }
   ],
   "source": [
    "# Split into Train, test set\n",
    "X_train, X_test, y_train, y_test = train_test_split(X_s,y_s,test_size=0.20, random_state=0)\n",
    "X_train.shape"
   ]
  },
  {
   "cell_type": "markdown",
   "id": "7ae4272a-4293-4687-8bb5-2a5ce92bcd2d",
   "metadata": {},
   "source": [
    "# 2.a Simple Linear Model"
   ]
  },
  {
   "cell_type": "code",
   "execution_count": 12,
   "id": "71b11554-01ac-4632-9c84-0479507cdb76",
   "metadata": {},
   "outputs": [
    {
     "name": "stdout",
     "output_type": "stream",
     "text": [
      "The coefficient for cyl is 0.24638776053571634\n",
      "The coefficient for disp is 0.2917709209866447\n",
      "The coefficient for hp is -0.18081621820393684\n",
      "The coefficient for wt is -0.667553060986813\n",
      "The coefficient for acc is 0.06537309205777046\n",
      "The coefficient for yr is 0.3481770259426718\n",
      "The coefficient for car_type is 0.3339231253960359\n",
      "The coefficient for origin_america is -0.08117984631927032\n",
      "The coefficient for origin_asia is 0.0698609820966492\n",
      "The coefficient for origin_europe is 0.030003161242288048\n",
      "The intercept is -0.018006831370923237\n"
     ]
    }
   ],
   "source": [
    "#Fit simple linear model and find coefficients\n",
    "regression_model = LinearRegression()\n",
    "regression_model.fit(X_train, y_train)\n",
    "\n",
    "for idx, col_name in enumerate(X_train.columns):\n",
    "    print('The coefficient for {} is {}'.format(col_name, regression_model.coef_[0][idx]))\n",
    "    \n",
    "intercept = regression_model.intercept_[0]\n",
    "print('The intercept is {}'.format(intercept))"
   ]
  },
  {
   "cell_type": "markdown",
   "id": "489c6c7a-83de-4a60-bdd0-ba52e3f809e1",
   "metadata": {},
   "source": [
    "## 2.b Regularized Ridge Regression"
   ]
  },
  {
   "cell_type": "code",
   "execution_count": 13,
   "id": "1b2252f3-1f4f-405f-b9e6-f0f9044e26f2",
   "metadata": {},
   "outputs": [
    {
     "name": "stdout",
     "output_type": "stream",
     "text": [
      "Ridge model coef: [[ 0.24342352  0.28293268 -0.18074242 -0.65967997  0.06398366  0.34745486\n",
      "   0.33096428 -0.08087356  0.06988696  0.0295866 ]]\n"
     ]
    }
   ],
   "source": [
    "#alpha factor here is lambda (penalty term) which helps to reduce the magnitude of coeff\n",
    "\n",
    "ridge_model = Ridge(alpha = 0.3)\n",
    "ridge_model.fit(X_train, y_train)\n",
    "\n",
    "print('Ridge model coef: {}'.format(ridge_model.coef_))\n",
    "#As the data has 10 columns hence 10 coefficients appear here    "
   ]
  },
  {
   "cell_type": "markdown",
   "id": "9a42da3f-bd28-4f85-9b8b-c68c3900d81f",
   "metadata": {},
   "source": [
    "## 2.c Regularized Lasso Regression"
   ]
  },
  {
   "cell_type": "code",
   "execution_count": 14,
   "id": "e5ee18ea-4d4e-4f40-a51f-3b6431df2ba7",
   "metadata": {},
   "outputs": [
    {
     "name": "stdout",
     "output_type": "stream",
     "text": [
      "Lasso model coef: [-0.         -0.         -0.07247557 -0.45867691  0.          0.2698134\n",
      "  0.11341188 -0.04988145  0.          0.        ]\n"
     ]
    }
   ],
   "source": [
    "#alpha factor here is lambda (penalty term) which helps to reduce the magnitude of coeff\n",
    "\n",
    "lasso_model = Lasso(alpha = 0.1)\n",
    "lasso_model.fit(X_train, y_train)\n",
    "\n",
    "print('Lasso model coef: {}'.format(lasso_model.coef_))\n",
    "#As the data has 10 columns hence 10 coefficients appear here   "
   ]
  },
  {
   "cell_type": "markdown",
   "id": "dd468aa9-a8ed-42c6-8182-e82ba672257b",
   "metadata": {},
   "source": [
    "# 3. Score Comparison"
   ]
  },
  {
   "cell_type": "code",
   "execution_count": 17,
   "id": "592d6f93-2cc5-47d7-ae5d-3ab57502cadd",
   "metadata": {},
   "outputs": [
    {
     "name": "stdout",
     "output_type": "stream",
     "text": [
      "0.8373422857977738\n",
      "0.8474768646673948\n",
      "*************************\n",
      "0.837332956087454\n",
      "0.847263786646594\n",
      "*************************\n",
      "0.8007202116330951\n",
      "0.8283046020148332\n"
     ]
    }
   ],
   "source": [
    "#Model score - r^2 or coeff of determinant\n",
    "#r^2 = 1-(RSS/TSS) = Regression error/TSS \n",
    "\n",
    "\n",
    "#Simple Linear Model\n",
    "print(regression_model.score(X_train, y_train))\n",
    "print(regression_model.score(X_test, y_test))\n",
    "\n",
    "print('*************************')\n",
    "#Ridge\n",
    "print(ridge_model.score(X_train, y_train))\n",
    "print(ridge_model.score(X_test, y_test))\n",
    "\n",
    "print('*************************')\n",
    "#Lasso\n",
    "print(lasso_model.score(X_train, y_train))\n",
    "print(lasso_model.score(X_test, y_test))"
   ]
  },
  {
   "cell_type": "markdown",
   "id": "4b6d450a-8373-490e-892e-d5104f3f15d3",
   "metadata": {},
   "source": [
    "## Polynomial Features"
   ]
  },
  {
   "cell_type": "markdown",
   "id": "0d23d0c7-0a85-489c-bb39-064690f66c23",
   "metadata": {},
   "source": [
    "If you wish to further compute polynomial features, you can use the below code."
   ]
  },
  {
   "cell_type": "code",
   "execution_count": 18,
   "id": "8c40f3dd-77d6-42c4-b351-7f8f7f1e9e2a",
   "metadata": {},
   "outputs": [],
   "source": [
    "#poly = PolynomialFeatures(degree = 2, interaction_only = True)\n",
    "\n",
    "#Fit calculates u and std dev while transform applies the transformation to a particular set of examples\n",
    "#Here fit_transform helps to fit and transform the X_s\n",
    "#Hence type(X_poly) is numpy.array while type(X_s) is pandas.DataFrame \n",
    "#X_poly = poly.fit_transform(X_s)\n",
    "#Similarly capture the coefficients and intercepts of this polynomial feature model"
   ]
  },
  {
   "cell_type": "markdown",
   "id": "d4a1e5c1-884b-42c1-bb9f-b43682f1f1b7",
   "metadata": {},
   "source": [
    "# 4. Model Parameter Tuning"
   ]
  },
  {
   "cell_type": "markdown",
   "id": "5b2deddc-8900-43e7-a278-f4964a112420",
   "metadata": {},
   "source": [
    "* r^2 is not a reliable metric as it always increases with addition of more attributes even if the attributes have no influence on the predicted variable. Instead we use adjusted r^2 which removes the statistical chance that improves r^2 \n",
    "\n",
    "(adjusted r^2 = r^2 - fluke)\n",
    "* Scikit does not provide a facility for adjusted r^2... so we use statsmodel, a library that gives results similar to what you obtain in R language\n",
    "* This library expects the X and Y to be given in one single dataframe"
   ]
  },
  {
   "cell_type": "code",
   "execution_count": 19,
   "id": "38535015-6f24-4fc7-a5e6-cdb23a3c0077",
   "metadata": {},
   "outputs": [
    {
     "data": {
      "text/html": [
       "<div>\n",
       "<style scoped>\n",
       "    .dataframe tbody tr th:only-of-type {\n",
       "        vertical-align: middle;\n",
       "    }\n",
       "\n",
       "    .dataframe tbody tr th {\n",
       "        vertical-align: top;\n",
       "    }\n",
       "\n",
       "    .dataframe thead th {\n",
       "        text-align: right;\n",
       "    }\n",
       "</style>\n",
       "<table border=\"1\" class=\"dataframe\">\n",
       "  <thead>\n",
       "    <tr style=\"text-align: right;\">\n",
       "      <th></th>\n",
       "      <th>cyl</th>\n",
       "      <th>disp</th>\n",
       "      <th>hp</th>\n",
       "      <th>wt</th>\n",
       "      <th>acc</th>\n",
       "      <th>yr</th>\n",
       "      <th>car_type</th>\n",
       "      <th>origin_america</th>\n",
       "      <th>origin_asia</th>\n",
       "      <th>origin_europe</th>\n",
       "      <th>mpg</th>\n",
       "    </tr>\n",
       "  </thead>\n",
       "  <tbody>\n",
       "    <tr>\n",
       "      <th>64</th>\n",
       "      <td>1.498191</td>\n",
       "      <td>1.196232</td>\n",
       "      <td>1.197027</td>\n",
       "      <td>1.376929</td>\n",
       "      <td>-0.750880</td>\n",
       "      <td>-1.085858</td>\n",
       "      <td>-1.062235</td>\n",
       "      <td>0.773559</td>\n",
       "      <td>-0.497643</td>\n",
       "      <td>-0.461968</td>\n",
       "      <td>-1.090751</td>\n",
       "    </tr>\n",
       "    <tr>\n",
       "      <th>55</th>\n",
       "      <td>-0.856321</td>\n",
       "      <td>-0.925936</td>\n",
       "      <td>-1.160564</td>\n",
       "      <td>-1.343645</td>\n",
       "      <td>1.246054</td>\n",
       "      <td>-1.356642</td>\n",
       "      <td>0.941412</td>\n",
       "      <td>-1.292726</td>\n",
       "      <td>-0.497643</td>\n",
       "      <td>2.164651</td>\n",
       "      <td>0.446497</td>\n",
       "    </tr>\n",
       "    <tr>\n",
       "      <th>317</th>\n",
       "      <td>-0.856321</td>\n",
       "      <td>-0.925936</td>\n",
       "      <td>-0.689046</td>\n",
       "      <td>-0.925095</td>\n",
       "      <td>0.084201</td>\n",
       "      <td>1.080415</td>\n",
       "      <td>0.941412</td>\n",
       "      <td>-1.292726</td>\n",
       "      <td>-0.497643</td>\n",
       "      <td>2.164651</td>\n",
       "      <td>1.381656</td>\n",
       "    </tr>\n",
       "    <tr>\n",
       "      <th>102</th>\n",
       "      <td>-0.856321</td>\n",
       "      <td>-0.925936</td>\n",
       "      <td>-1.527300</td>\n",
       "      <td>-1.206493</td>\n",
       "      <td>1.972212</td>\n",
       "      <td>-0.815074</td>\n",
       "      <td>0.941412</td>\n",
       "      <td>-1.292726</td>\n",
       "      <td>-0.497643</td>\n",
       "      <td>2.164651</td>\n",
       "      <td>0.318393</td>\n",
       "    </tr>\n",
       "    <tr>\n",
       "      <th>358</th>\n",
       "      <td>-0.856321</td>\n",
       "      <td>-0.705077</td>\n",
       "      <td>-0.793827</td>\n",
       "      <td>-0.396587</td>\n",
       "      <td>0.991899</td>\n",
       "      <td>1.351199</td>\n",
       "      <td>0.941412</td>\n",
       "      <td>-1.292726</td>\n",
       "      <td>2.009471</td>\n",
       "      <td>-0.461968</td>\n",
       "      <td>1.035775</td>\n",
       "    </tr>\n",
       "  </tbody>\n",
       "</table>\n",
       "</div>"
      ],
      "text/plain": [
       "          cyl      disp        hp        wt       acc        yr  car_type  \\\n",
       "64   1.498191  1.196232  1.197027  1.376929 -0.750880 -1.085858 -1.062235   \n",
       "55  -0.856321 -0.925936 -1.160564 -1.343645  1.246054 -1.356642  0.941412   \n",
       "317 -0.856321 -0.925936 -0.689046 -0.925095  0.084201  1.080415  0.941412   \n",
       "102 -0.856321 -0.925936 -1.527300 -1.206493  1.972212 -0.815074  0.941412   \n",
       "358 -0.856321 -0.705077 -0.793827 -0.396587  0.991899  1.351199  0.941412   \n",
       "\n",
       "     origin_america  origin_asia  origin_europe       mpg  \n",
       "64         0.773559    -0.497643      -0.461968 -1.090751  \n",
       "55        -1.292726    -0.497643       2.164651  0.446497  \n",
       "317       -1.292726    -0.497643       2.164651  1.381656  \n",
       "102       -1.292726    -0.497643       2.164651  0.318393  \n",
       "358       -1.292726     2.009471      -0.461968  1.035775  "
      ]
     },
     "execution_count": 19,
     "metadata": {},
     "output_type": "execute_result"
    }
   ],
   "source": [
    "data_train_test = pd.concat([X_train, y_train], axis =1)\n",
    "data_train_test.head()"
   ]
  },
  {
   "cell_type": "code",
   "execution_count": 20,
   "id": "f99654c3-1792-4165-8f71-73a4acb13ffa",
   "metadata": {},
   "outputs": [
    {
     "data": {
      "text/plain": [
       "Intercept        -0.018007\n",
       "cyl               0.246388\n",
       "disp              0.291771\n",
       "hp               -0.180816\n",
       "wt               -0.667553\n",
       "acc               0.065373\n",
       "yr                0.348177\n",
       "car_type          0.333923\n",
       "origin_america   -0.081180\n",
       "origin_europe     0.030003\n",
       "origin_asia       0.069861\n",
       "dtype: float64"
      ]
     },
     "execution_count": 20,
     "metadata": {},
     "output_type": "execute_result"
    }
   ],
   "source": [
    "import statsmodels.formula.api as smf\n",
    "ols1 = smf.ols(formula = 'mpg ~ cyl+disp+hp+wt+acc+yr+car_type+origin_america+origin_europe+origin_asia', data = data_train_test).fit()\n",
    "ols1.params"
   ]
  },
  {
   "cell_type": "code",
   "execution_count": 21,
   "id": "f7a2c799-6b7f-462f-a08f-3bd76c9a4015",
   "metadata": {},
   "outputs": [
    {
     "name": "stdout",
     "output_type": "stream",
     "text": [
      "                            OLS Regression Results                            \n",
      "==============================================================================\n",
      "Dep. Variable:                    mpg   R-squared:                       0.837\n",
      "Model:                            OLS   Adj. R-squared:                  0.833\n",
      "Method:                 Least Squares   F-statistic:                     176.2\n",
      "Date:                Sun, 22 Jun 2025   Prob (F-statistic):          7.60e-116\n",
      "Time:                        15:29:38   Log-Likelihood:                -160.75\n",
      "No. Observations:                 318   AIC:                             341.5\n",
      "Df Residuals:                     308   BIC:                             379.1\n",
      "Df Model:                           9                                         \n",
      "Covariance Type:            nonrobust                                         \n",
      "==================================================================================\n",
      "                     coef    std err          t      P>|t|      [0.025      0.975]\n",
      "----------------------------------------------------------------------------------\n",
      "Intercept         -0.0180      0.023     -0.786      0.433      -0.063       0.027\n",
      "cyl                0.2464      0.096      2.571      0.011       0.058       0.435\n",
      "disp               0.2918      0.112      2.606      0.010       0.071       0.512\n",
      "hp                -0.1808      0.073     -2.481      0.014      -0.324      -0.037\n",
      "wt                -0.6676      0.076     -8.797      0.000      -0.817      -0.518\n",
      "acc                0.0654      0.037      1.768      0.078      -0.007       0.138\n",
      "yr                 0.3482      0.026     13.266      0.000       0.297       0.400\n",
      "car_type           0.3339      0.061      5.518      0.000       0.215       0.453\n",
      "origin_america    -0.0812      0.018     -4.448      0.000      -0.117      -0.045\n",
      "origin_europe      0.0300      0.019      1.600      0.111      -0.007       0.067\n",
      "origin_asia        0.0699      0.019      3.752      0.000       0.033       0.106\n",
      "==============================================================================\n",
      "Omnibus:                       33.608   Durbin-Watson:                   1.862\n",
      "Prob(Omnibus):                  0.000   Jarque-Bera (JB):               58.482\n",
      "Skew:                           0.625   Prob(JB):                     2.00e-13\n",
      "Kurtosis:                       4.688   Cond. No.                     6.58e+15\n",
      "==============================================================================\n",
      "\n",
      "Notes:\n",
      "[1] Standard Errors assume that the covariance matrix of the errors is correctly specified.\n",
      "[2] The smallest eigenvalue is 4.21e-29. This might indicate that there are\n",
      "strong multicollinearity problems or that the design matrix is singular.\n"
     ]
    }
   ],
   "source": [
    "print(ols1.summary())"
   ]
  },
  {
   "cell_type": "code",
   "execution_count": 22,
   "id": "fb580769-f018-49e7-8ee4-4daf9534e709",
   "metadata": {},
   "outputs": [
    {
     "name": "stdout",
     "output_type": "stream",
     "text": [
      "Root Mean Squared Error: 0.39853963361814243\n"
     ]
    }
   ],
   "source": [
    "#Lets check Sum of Squared Errors (SSE) by predicting value of y for test cases and subtracting from the actual y for the test cases\n",
    "mse  = np.mean((regression_model.predict(X_test)-y_test)**2)\n",
    "\n",
    "# root of mean_sq_error is standard deviation i.e. avg variance between predicted and actual\n",
    "import math\n",
    "rmse = math.sqrt(mse)\n",
    "print('Root Mean Squared Error: {}'.format(rmse))"
   ]
  },
  {
   "cell_type": "markdown",
   "id": "4bed7c83-aef4-481e-9893-9fcdb60aa4f3",
   "metadata": {},
   "source": [
    "**So there is an avg. mpg difference of 0.37 from real mpg**"
   ]
  },
  {
   "cell_type": "code",
   "execution_count": 23,
   "id": "51efb7bc-656c-4b82-9e2d-b52138fed83c",
   "metadata": {},
   "outputs": [
    {
     "data": {
      "text/plain": [
       "<Axes: xlabel='acc', ylabel='mpg'>"
      ]
     },
     "execution_count": 23,
     "metadata": {},
     "output_type": "execute_result"
    },
    {
     "data": {
      "image/png": "[encoded data removed]",
      "text/plain": [
       "<Figure size 1000x800 with 1 Axes>"
      ]
     },
     "metadata": {},
     "output_type": "display_data"
    },
    {
     "data": {
      "image/png": "[encoded data removed]",
      "text/plain": [
       "<Figure size 1000x800 with 1 Axes>"
      ]
     },
     "metadata": {},
     "output_type": "display_data"
    }
   ],
   "source": [
    "# Is OLS a good model ? Lets check the residuals for some of these predictor.\n",
    "\n",
    "fig = plt.figure(figsize=(10,8))\n",
    "sns.residplot(x= X_test['hp'], y= y_test['mpg'], color='green', lowess=True )\n",
    "\n",
    "\n",
    "fig = plt.figure(figsize=(10,8))\n",
    "sns.residplot(x= X_test['acc'], y= y_test['mpg'], color='green', lowess=True )"
   ]
  },
  {
   "cell_type": "code",
   "execution_count": 24,
   "id": "459acb48-6647-45f6-acdc-9bc7a10003d7",
   "metadata": {},
   "outputs": [
    {
     "data": {
      "text/plain": [
       "<matplotlib.collections.PathCollection at 0x2253db012b0>"
      ]
     },
     "execution_count": 24,
     "metadata": {},
     "output_type": "execute_result"
    },
    {
     "data": {
      "image/png": "[encoded data removed]",
      "text/plain": [
       "<Figure size 640x480 with 1 Axes>"
      ]
     },
     "metadata": {},
     "output_type": "display_data"
    }
   ],
   "source": [
    "# predict mileage (mpg) for a set of attributes not in the training or test set\n",
    "y_pred = regression_model.predict(X_test)\n",
    "\n",
    "# Since this is regression, plot the predicted y value vs actual y values for the test data\n",
    "# A good model's prediction will be close to actual leading to high R and R2 values\n",
    "#plt.rcParams['figure.dpi'] = 500\n",
    "plt.scatter(y_test['mpg'], y_pred)"
   ]
  },
  {
   "cell_type": "markdown",
   "id": "2577158a-f466-40fd-83fa-5b13f3515a4f",
   "metadata": {},
   "source": [
    "# 5. Inference"
   ]
  },
  {
   "cell_type": "markdown",
   "id": "6926b6c8-24e8-4289-9553-ccf2bcf942e0",
   "metadata": {},
   "source": [
    "**Both Ridge & Lasso regularization performs very well on this data, though Ridge gives a better score. The above scatter plot depicts the correlation between the actual and predicted mpg values.**\n",
    "\n",
    "***This kernel is a work in progress.***"
   ]
  },
  {
   "cell_type": "code",
   "execution_count": null,
   "id": "1870a08e-9b3d-4e86-bc9e-eeb04e1a210f",
   "metadata": {},
   "outputs": [],
   "source": []
  }
 ],
 "metadata": {
  "kernelspec": {
   "display_name": "Python 3 (ipykernel)",
   "language": "python",
   "name": "python3"
  },
  "language_info": {
   "codemirror_mode": {
    "name": "ipython",
    "version": 3
   },
   "file_extension": ".py",
   "mimetype": "text/x-python",
   "name": "python",
   "nbconvert_exporter": "python",
   "pygments_lexer": "ipython3",
   "version": "3.12.4"
  }
 },
 "nbformat": 4,
 "nbformat_minor": 5
}
