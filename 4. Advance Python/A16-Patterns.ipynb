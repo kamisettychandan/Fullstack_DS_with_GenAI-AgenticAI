{
 "cells": [
  {
   "cell_type": "markdown",
   "id": "c42b85f0-fc90-4865-8cf9-1aa8b414d4be",
   "metadata": {},
   "source": [
    "# 1. Right Angle Triangle Pattern"
   ]
  },
  {
   "cell_type": "code",
   "execution_count": 3,
   "id": "8e39277b-0189-4675-887a-ab5c617a99e3",
   "metadata": {},
   "outputs": [
    {
     "name": "stdout",
     "output_type": "stream",
     "text": [
      " * \n",
      " *  * \n",
      " *  *  * \n",
      " *  *  *  * \n",
      " *  *  *  *  * \n"
     ]
    }
   ],
   "source": [
    "for i in range(1,6):\n",
    "    print(' * ' *i)"
   ]
  },
  {
   "cell_type": "markdown",
   "id": "bf5e8141-484c-4cd0-ae7c-faf77a42b3d2",
   "metadata": {},
   "source": [
    "# 2. Inverted Right Angle Triangle Pattern"
   ]
  },
  {
   "cell_type": "code",
   "execution_count": 4,
   "id": "d628f65a-4a44-44b2-8b6d-3ad9bad4f7c1",
   "metadata": {},
   "outputs": [
    {
     "name": "stdout",
     "output_type": "stream",
     "text": [
      " *  *  *  *  * \n",
      " *  *  *  * \n",
      " *  *  * \n",
      " *  * \n",
      " * \n"
     ]
    }
   ],
   "source": [
    "for i in range(5,0,-1):\n",
    "    print(' * ' *i)"
   ]
  },
  {
   "cell_type": "markdown",
   "id": "23f8d73a-4f40-4cd5-972f-4785f24b645d",
   "metadata": {},
   "source": [
    "# 3. Pyramid Pattern"
   ]
  },
  {
   "cell_type": "code",
   "execution_count": 5,
   "id": "774cebf8-5355-4f70-aadf-b3b3605fbc58",
   "metadata": {},
   "outputs": [
    {
     "name": "stdout",
     "output_type": "stream",
     "text": [
      " * \n",
      " *  *  * \n",
      " *  *  *  *  * \n",
      " *  *  *  *  *  *  * \n",
      " *  *  *  *  *  *  *  *  * \n"
     ]
    }
   ],
   "source": [
    "for i in range(1,6):\n",
    "    print(''*(5-i)+' * ' * (2*i-1))"
   ]
  },
  {
   "cell_type": "markdown",
   "id": "8e4457fe-60b0-434b-9f8a-889ef490f92e",
   "metadata": {},
   "source": [
    "# 4. Inverted Pyramid Pattern"
   ]
  },
  {
   "cell_type": "code",
   "execution_count": 6,
   "id": "58863052-63d3-4ff5-a1aa-4f5a0b5e27ad",
   "metadata": {},
   "outputs": [
    {
     "name": "stdout",
     "output_type": "stream",
     "text": [
      " *  *  *  *  *  *  *  *  * \n",
      " *  *  *  *  *  *  * \n",
      " *  *  *  *  * \n",
      " *  *  * \n",
      " * \n"
     ]
    }
   ],
   "source": [
    "for i in range (5,0,-1):\n",
    "    print(''*(5-i)+' * ' *(2*i-1))"
   ]
  },
  {
   "cell_type": "markdown",
   "id": "da839a75-0e09-4b0a-b20f-c3e3ef2a1443",
   "metadata": {},
   "source": [
    "# 5. Diamond Pattern"
   ]
  },
  {
   "cell_type": "code",
   "execution_count": 9,
   "id": "ae52ce8b-076d-4f9d-90f6-e6a62b0ad32e",
   "metadata": {},
   "outputs": [
    {
     "name": "stdout",
     "output_type": "stream",
     "text": [
      " * \n",
      " *  *  * \n",
      " *  *  *  *  * \n",
      " *  *  *  *  *  *  * \n",
      " *  *  *  *  *  *  *  *  * \n",
      " *  *  *  *  *  *  * \n",
      " *  *  *  *  * \n",
      " *  *  * \n",
      " * \n"
     ]
    }
   ],
   "source": [
    "for i in range(1,6):\n",
    "    print(''*(5-i)+' * '*(2*i-1))\n",
    "for i in range(4,0,-1):\n",
    "    print(''*(5-i)+' * '*(2*i-1))"
   ]
  },
  {
   "cell_type": "markdown",
   "id": "42e23c2d-8d65-4768-a7a9-154d219be587",
   "metadata": {},
   "source": [
    "# 6. Hallow Square Pattern"
   ]
  },
  {
   "cell_type": "code",
   "execution_count": 8,
   "id": "e471001a-5fde-4fc4-a6c4-986d606248fe",
   "metadata": {},
   "outputs": [
    {
     "name": "stdout",
     "output_type": "stream",
     "text": [
      "*****\n",
      "*   *\n",
      "*   *\n",
      "*   *\n",
      "*****\n"
     ]
    }
   ],
   "source": [
    "for i in range(5):\n",
    "    for j in range(5):\n",
    "        if i==0 or i==4 or j==0 or j==4:\n",
    "            print('*',end='')\n",
    "        else:\n",
    "            print(' ',end='')\n",
    "    print()"
   ]
  },
  {
   "cell_type": "markdown",
   "id": "535e0f9a-76db-4d6b-939a-e778a713bc6c",
   "metadata": {},
   "source": [
    "# 7. Full Square Pattern"
   ]
  },
  {
   "cell_type": "code",
   "execution_count": 10,
   "id": "64a8f1ae-43e6-425c-9802-37a8dbed1dc1",
   "metadata": {},
   "outputs": [
    {
     "name": "stdout",
     "output_type": "stream",
     "text": [
      " *  *  *  *  * \n",
      " *  *  *  *  * \n",
      " *  *  *  *  * \n",
      " *  *  *  *  * \n",
      " *  *  *  *  * \n"
     ]
    }
   ],
   "source": [
    "for i in range(5):\n",
    "    print(' * '*5)"
   ]
  },
  {
   "cell_type": "markdown",
   "id": "bf3ae30f-e63d-45a5-9d6e-09bc02061d92",
   "metadata": {},
   "source": [
    "# 8. Right Angle Triangle (Number Pattern)"
   ]
  },
  {
   "cell_type": "code",
   "execution_count": 13,
   "id": "b610f23c-d386-4bf3-b0c8-d0d24eb269d4",
   "metadata": {},
   "outputs": [
    {
     "name": "stdout",
     "output_type": "stream",
     "text": [
      "1\n",
      "1 2\n",
      "1 2 3\n",
      "1 2 3 4\n",
      "1 2 3 4 5\n"
     ]
    }
   ],
   "source": [
    "for i in range(1,6):\n",
    "    print(' '.join(str(x) for x in range(1,i+1)))"
   ]
  },
  {
   "cell_type": "markdown",
   "id": "f36e3a8a-7e31-46ec-950f-9a144edda4c7",
   "metadata": {},
   "source": [
    "# 9. Inverted Right Angle Triangle (Number Pattern)"
   ]
  },
  {
   "cell_type": "code",
   "execution_count": 14,
   "id": "0f5e0477-eb33-45aa-9160-1a49c3e066aa",
   "metadata": {},
   "outputs": [
    {
     "name": "stdout",
     "output_type": "stream",
     "text": [
      "1 2 3 4 5\n",
      "1 2 3 4\n",
      "1 2 3\n",
      "1 2\n",
      "1\n"
     ]
    }
   ],
   "source": [
    "for i in range(5,0,-1):\n",
    "    print(' '.join(str(x)for x in range(1,i+1)))"
   ]
  },
  {
   "cell_type": "markdown",
   "id": "87238f7b-7df1-45ee-a4a4-1d23f6120848",
   "metadata": {},
   "source": [
    "# 10. Floyd's Triangle"
   ]
  },
  {
   "cell_type": "code",
   "execution_count": 15,
   "id": "00ba1c0e-9fdc-4efe-8c75-c79f1c357a76",
   "metadata": {},
   "outputs": [
    {
     "name": "stdout",
     "output_type": "stream",
     "text": [
      "1 \n",
      "2 3 \n",
      "4 5 6 \n",
      "7 8 9 10 \n",
      "11 12 13 14 15 \n"
     ]
    }
   ],
   "source": [
    "num=1\n",
    "for i in range(1,6):\n",
    "    for j in range(1,i+1):\n",
    "        print(num, end=' ')\n",
    "        num+=1\n",
    "    print()"
   ]
  },
  {
   "cell_type": "markdown",
   "id": "1d89b8cf-7ce5-4681-ad7d-dd0a45d193fb",
   "metadata": {},
   "source": [
    "# 11 Hallow Right Angle Triangle"
   ]
  },
  {
   "cell_type": "code",
   "execution_count": 17,
   "id": "cdd27e99-ca22-4121-94b1-2cc0dc23e9f1",
   "metadata": {},
   "outputs": [
    {
     "name": "stdout",
     "output_type": "stream",
     "text": [
      "* \n",
      "*   \n",
      "*     \n",
      "*       \n",
      "* * * * * \n"
     ]
    }
   ],
   "source": [
    "for i in range(1,6):\n",
    "    for j in range(1,i+1):\n",
    "        if j==1 or j==1 or i==5:\n",
    "            print('*',end=' ' )\n",
    "        else:\n",
    "            print(' ',end=' ' )\n",
    "    print()"
   ]
  },
  {
   "cell_type": "markdown",
   "id": "22603c39-cfc2-4e70-b34d-341424ada2e3",
   "metadata": {},
   "source": [
    "# 12. Hallow Pyramid Pattern"
   ]
  },
  {
   "cell_type": "code",
   "execution_count": 18,
   "id": "e69e2bae-8c5e-4b34-b138-79f1c6c22dea",
   "metadata": {},
   "outputs": [
    {
     "name": "stdout",
     "output_type": "stream",
     "text": [
      "* \n",
      "* * \n",
      "* * \n",
      "* * \n",
      "* * * * * * * * * \n"
     ]
    }
   ],
   "source": [
    "for i in range(1,6):\n",
    "    for j in range(5-i):\n",
    "        print('',end='')\n",
    "    for j in range(2*i-1):\n",
    "        if j==0 or j==2*i-2 or i==5:\n",
    "            print('*', end=' ')\n",
    "        else:\n",
    "            print('', end='')\n",
    "    print()"
   ]
  },
  {
   "cell_type": "markdown",
   "id": "cfdce002-2bb8-4db7-a8e2-745daf5b7d0c",
   "metadata": {},
   "source": [
    "# 13. Hallow Diamond Pattern"
   ]
  },
  {
   "cell_type": "code",
   "execution_count": 19,
   "id": "3c30f4fc-7ff8-42e0-9ec0-4c6d65825558",
   "metadata": {},
   "outputs": [
    {
     "name": "stdout",
     "output_type": "stream",
     "text": [
      "*\n",
      "**\n",
      "**\n",
      "**\n",
      "**\n",
      "**\n",
      "**\n",
      "**\n",
      "*\n"
     ]
    }
   ],
   "source": [
    "n=5\n",
    "for i in range(1,n+1):\n",
    "    for j in range(n-i):\n",
    "        print('',end='')\n",
    "    for j in range(2*i-1):\n",
    "        if j==0 or j==2*i-2:\n",
    "            print('*',end='')\n",
    "        else:\n",
    "            print('',end='')\n",
    "    print()\n",
    "\n",
    "for i in range(n-1,0,-1):\n",
    "    for j in range(n-i):\n",
    "        print('',end='')\n",
    "    for j in range(2*i-1):\n",
    "        if j==0 or j==2*i-2:\n",
    "            print('*',end='')\n",
    "        else:\n",
    "            print('',end='')\n",
    "    print()"
   ]
  },
  {
   "cell_type": "markdown",
   "id": "9d53f505-4b92-4fbc-b301-503df29a6650",
   "metadata": {},
   "source": [
    "# 14. Hallow Diamond (Number Pattern)"
   ]
  },
  {
   "cell_type": "code",
   "execution_count": 20,
   "id": "8850533b-7487-4589-8778-a7a6bcd9c770",
   "metadata": {},
   "outputs": [
    {
     "name": "stdout",
     "output_type": "stream",
     "text": [
      "1\n",
      "22\n",
      "33\n",
      "44\n",
      "55\n",
      "44\n",
      "33\n",
      "22\n",
      "1\n"
     ]
    }
   ],
   "source": [
    "n=5\n",
    "for i in range(1,n+1):\n",
    "    for j in range(n-i):\n",
    "        print('',end='')\n",
    "    for j in range(2*i-1):\n",
    "        if j==0 or j==2*i-2:\n",
    "            print(i,end='')\n",
    "        else:\n",
    "            print('',end='')\n",
    "    print()\n",
    "\n",
    "for i in range(n-1,0,-1):\n",
    "    for j in range(n-i):\n",
    "        print('',end='')\n",
    "    for j in range(2*i-1):\n",
    "        if j==0 or j==2*i-2:\n",
    "            print(i,end='')\n",
    "        else:\n",
    "            print('',end='')\n",
    "    print()"
   ]
  },
  {
   "cell_type": "markdown",
   "id": "bc66c0f1-1c52-4a72-9700-942cdf7c5f3d",
   "metadata": {},
   "source": [
    "# Buttefly Pattern"
   ]
  },
  {
   "cell_type": "code",
   "execution_count": 24,
   "id": "8be229b6-6259-46b3-bc92-5ae5e3875545",
   "metadata": {},
   "outputs": [
    {
     "name": "stdout",
     "output_type": "stream",
     "text": [
      "1                 7 \n",
      "1 2             5 5 \n",
      "1 2 3         3 3 3 \n",
      "1 2 3 4     1 1 1 1 \n",
      "1 2 3 4 5 5 5 5 5 5 \n",
      "1 2 3 4 5 1 2 3 4 5 \n",
      "1 2 3 4     1 2 3 4 \n",
      "1 2 3         1 2 3 \n",
      "1 2             1 2 \n",
      "1                 1 \n",
      "*                 * \n",
      "* *             * * \n",
      "* * *         * * * \n",
      "* * * *     * * * * \n",
      "* * * * * * * * * * \n",
      "* * * * * * * * * * \n",
      "* * * *   * * * * \n",
      "* * *     * * * \n",
      "* *       * * \n",
      "*         * \n",
      "* * * * * * * * * * \n",
      "* * * *     * * * * \n",
      "* * *         * * * \n",
      "* *             * * \n",
      "*                 * \n"
     ]
    }
   ],
   "source": [
    "n=5\n",
    "for i in range(1,n+1):\n",
    "    for j in range(1,i+1):\n",
    "        print(j, end=' ')\n",
    "    for j in range(2*(n-i)):\n",
    "        print(' ',end=' ')\n",
    "    for i in range(1,i+1):\n",
    "        print(j,end=' ')\n",
    "    print()\n",
    "for i in range(n,0,-1):\n",
    "    for j in range(1,i+1):\n",
    "        print(j, end=' ')\n",
    "    for j in range(2*(n-i)):\n",
    "        print(' ',end=' ')\n",
    "    for j in range(1,i+1):\n",
    "        print(j, end=' ')\n",
    "    print()\n",
    "\n",
    "n=5\n",
    "for i in range(1,n+1):\n",
    "    for j in range(i):\n",
    "        print('*',end=' ')\n",
    "    for j in range(2*(n-i)):\n",
    "        print(' ',end=' ')\n",
    "    for j in range(i):\n",
    "        print('*',end=' ')\n",
    "    print()\n",
    "for i in range(n,0,-1):\n",
    "        for j in range(i):\n",
    "            print('*',end=' ')\n",
    "        for j in range(2*(n-i)):\n",
    "            print('',end=' ')\n",
    "        for j in range(i):\n",
    "            print('*',end=' ')\n",
    "        print()\n",
    "for i in range(n,0,-1):\n",
    "    for j in range(i):\n",
    "        print('*',end=' ')\n",
    "    for j in range(2*(n-i)):\n",
    "        print(' ',end=' ')\n",
    "    for j in range(i):\n",
    "        print('*',end=' ')\n",
    "    print()"
   ]
  },
  {
   "cell_type": "markdown",
   "id": "4bc02abf-c5e9-4fab-aad3-f2e8626436fe",
   "metadata": {},
   "source": [
    "# 16. Hallow Number Pyramid"
   ]
  },
  {
   "cell_type": "code",
   "execution_count": 26,
   "id": "059ee4b3-778c-4e69-94eb-decc38f9815c",
   "metadata": {},
   "outputs": [
    {
     "name": "stdout",
     "output_type": "stream",
     "text": [
      "        1 \n",
      "      2   2 \n",
      "    3       3 \n",
      "  4           4 \n",
      "5 5 5 5 5 5 5 5 5 \n"
     ]
    }
   ],
   "source": [
    "n=5\n",
    "for i in range(1,n+1):\n",
    "    for j in range(n-i):\n",
    "        print(' ',end=' ')\n",
    "\n",
    "    for j in range(1,2*i):\n",
    "        if j==1 or j==2 * i-1 or i==n:\n",
    "            print(i, end=' ')\n",
    "        else:\n",
    "            print(' ', end=' ')\n",
    "    print()"
   ]
  },
  {
   "cell_type": "markdown",
   "id": "0e1302c3-6883-4d1e-8bbc-c403f8e5584c",
   "metadata": {},
   "source": [
    "# 17. Full Star Pyramid"
   ]
  },
  {
   "cell_type": "code",
   "execution_count": 27,
   "id": "3e6e37b2-6ed8-4541-968b-fed4254cc315",
   "metadata": {},
   "outputs": [
    {
     "name": "stdout",
     "output_type": "stream",
     "text": [
      "        *\n",
      "      ***\n",
      "    *****\n",
      "  *******\n",
      "*********\n"
     ]
    }
   ],
   "source": [
    "n=5\n",
    "for i in range(1, n+1):\n",
    "\n",
    "    for j in range(n-i):\n",
    "        print(' ',end=' ' )\n",
    "\n",
    "    for j in range(2*i-1):\n",
    "        print('*',end='')\n",
    "    print()"
   ]
  },
  {
   "cell_type": "markdown",
   "id": "d5341b23-05fe-4db5-b85f-825664757456",
   "metadata": {},
   "source": [
    "# 18. Inverted Full Star Pyramid"
   ]
  },
  {
   "cell_type": "code",
   "execution_count": 28,
   "id": "6d6deb20-e5b2-4ce1-ad7c-ad210a2d5aae",
   "metadata": {},
   "outputs": [
    {
     "name": "stdout",
     "output_type": "stream",
     "text": [
      "* * * * * * * * * \n",
      "  * * * * * * * \n",
      "    * * * * * \n",
      "      * * * \n",
      "        * \n"
     ]
    }
   ],
   "source": [
    "n=5\n",
    "for i in range(n,0,-1):\n",
    "    for j in range(n-i):\n",
    "        print(' ' ,end=' ' )\n",
    "\n",
    "    for j in range(2*i-1):\n",
    "        print('*',end=' ')\n",
    "    print()"
   ]
  },
  {
   "cell_type": "markdown",
   "id": "c12d6134-a52b-4d40-b3b3-663e9c24bcc4",
   "metadata": {},
   "source": [
    "# 19. Left Aligned Pyramid Pattern"
   ]
  },
  {
   "cell_type": "code",
   "execution_count": 29,
   "id": "f5d824dc-834a-47d7-8535-72ccf9910054",
   "metadata": {},
   "outputs": [
    {
     "name": "stdout",
     "output_type": "stream",
     "text": [
      "* \n",
      "* * \n",
      "* * * \n",
      "* * * * \n",
      "* * * * * \n",
      "1 \n",
      "1 2 \n",
      "1 2 3 \n",
      "1 2 3 4 \n",
      "1 2 3 4 5 \n"
     ]
    }
   ],
   "source": [
    "n=5\n",
    "for i in range(1,n+1):\n",
    "    for j in range(i):\n",
    "        print('*',end=' ')\n",
    "    print()\n",
    "\n",
    "n=5\n",
    "for i in range(1,n+1):\n",
    "    for j in range(1,i+1):\n",
    "        print(j, end=' ')\n",
    "    print()"
   ]
  },
  {
   "cell_type": "markdown",
   "id": "34b6af26-48ef-47a3-a1a6-f73f9f5d5102",
   "metadata": {},
   "source": [
    "# 20. Right Aligned Pyramid Pattern"
   ]
  },
  {
   "cell_type": "code",
   "execution_count": 30,
   "id": "8a9c29de-c98f-4998-941b-de0df2300777",
   "metadata": {},
   "outputs": [
    {
     "name": "stdout",
     "output_type": "stream",
     "text": [
      "        1 \n",
      "      1 2 \n",
      "    1 2 3 \n",
      "  1 2 3 4 \n",
      "1 2 3 4 5 \n",
      "* \n",
      "* * \n",
      "* * * \n",
      "* * * * \n",
      "* * * * * \n"
     ]
    }
   ],
   "source": [
    "n=5\n",
    "for i in range(1,n+1):\n",
    "    for j in range(n-i):\n",
    "        print(' ',end=' ')\n",
    "\n",
    "    for j in range(1,i+1):\n",
    "        print(j,end=' ' )\n",
    "    print()\n",
    "\n",
    "n=5\n",
    "for i in range(1,n+1):\n",
    "    for j in range(n-i):\n",
    "        print('',end='')\n",
    "    for j in range(i):\n",
    "        print('*', end=' ')\n",
    "    print()"
   ]
  },
  {
   "cell_type": "code",
   "execution_count": null,
   "id": "79207e11-3547-46b7-9624-092df5d68574",
   "metadata": {},
   "outputs": [],
   "source": []
  }
 ],
 "metadata": {
  "kernelspec": {
   "display_name": "Python 3 (ipykernel)",
   "language": "python",
   "name": "python3"
  },
  "language_info": {
   "codemirror_mode": {
    "name": "ipython",
    "version": 3
   },
   "file_extension": ".py",
   "mimetype": "text/x-python",
   "name": "python",
   "nbconvert_exporter": "python",
   "pygments_lexer": "ipython3",
   "version": "3.12.4"
  }
 },
 "nbformat": 4,
 "nbformat_minor": 5
}
