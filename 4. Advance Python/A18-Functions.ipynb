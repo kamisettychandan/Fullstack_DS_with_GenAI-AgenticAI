{
 "cells": [
  {
   "cell_type": "markdown",
   "id": "16045e33-94f3-41b7-993e-f535f3b24567",
   "metadata": {},
   "source": [
    "# Functions"
   ]
  },
  {
   "cell_type": "code",
   "execution_count": 1,
   "id": "3cb2620b-fa37-4630-b74a-c7ce5decb3d5",
   "metadata": {},
   "outputs": [],
   "source": [
    "def greet():    # We just define the function\n",
    "    print('Good Evening')   # print the statement"
   ]
  },
  {
   "cell_type": "code",
   "execution_count": 2,
   "id": "6d7247fa-f758-425e-ad72-77fc10a90813",
   "metadata": {},
   "outputs": [
    {
     "name": "stdout",
     "output_type": "stream",
     "text": [
      "Good Evening\n"
     ]
    }
   ],
   "source": [
    "def greet():    # We just define the function\n",
    "    print('Good Evening')   # print the statement\n",
    "greet()             # calling function"
   ]
  },
  {
   "cell_type": "code",
   "execution_count": 3,
   "id": "80c6eead-1492-4876-b1c9-62a2f3a5f122",
   "metadata": {},
   "outputs": [
    {
     "name": "stdout",
     "output_type": "stream",
     "text": [
      "Good Evening\n",
      "Good Evening\n",
      "Good Evening\n"
     ]
    }
   ],
   "source": [
    "# to print 3 times\n",
    "def greet():    # We just define the function\n",
    "    print('Good Evening')   # print the statement\n",
    "greet()             # calling function\n",
    "\n",
    "def greet():    # We just define the function\n",
    "    print('Good Evening')   # print the statement\n",
    "greet()             # calling function\n",
    "\n",
    "def greet():    # We just define the function\n",
    "    print('Good Evening')   # print the statement\n",
    "greet()             # calling function"
   ]
  },
  {
   "cell_type": "code",
   "execution_count": 4,
   "id": "353f798a-d03a-44aa-b4b9-8709aedb83b9",
   "metadata": {},
   "outputs": [
    {
     "name": "stdout",
     "output_type": "stream",
     "text": [
      "Good Evening\n",
      "\n",
      "Good Evening\n",
      "\n",
      "Good Evening\n",
      "\n",
      "Good Evening\n"
     ]
    }
   ],
   "source": [
    "def greet():    # We just define the function\n",
    "    print('Good Evening')   # print the statement\n",
    "greet()             # calling function\n",
    "print()\n",
    "greet()\n",
    "print()\n",
    "greet()\n",
    "print()\n",
    "greet()"
   ]
  },
  {
   "cell_type": "code",
   "execution_count": 5,
   "id": "35ce0488-a1f1-454f-9fdf-8489cc901d61",
   "metadata": {},
   "outputs": [
    {
     "name": "stdout",
     "output_type": "stream",
     "text": [
      "11\n"
     ]
    }
   ],
   "source": [
    "def add(x,y):\n",
    "    c=x+y\n",
    "    print(c)\n",
    "add(5,6)"
   ]
  },
  {
   "cell_type": "code",
   "execution_count": 6,
   "id": "0e1bd804-c018-49ab-bb19-5514350815f7",
   "metadata": {},
   "outputs": [
    {
     "ename": "TypeError",
     "evalue": "add() takes 1 positional argument but 2 were given",
     "output_type": "error",
     "traceback": [
      "\u001b[1;31m---------------------------------------------------------------------------\u001b[0m",
      "\u001b[1;31mTypeError\u001b[0m                                 Traceback (most recent call last)",
      "Cell \u001b[1;32mIn[6], line 5\u001b[0m\n\u001b[0;32m      2\u001b[0m     x\u001b[38;5;241m=\u001b[39mx\u001b[38;5;241m+\u001b[39my\n\u001b[0;32m      3\u001b[0m     \u001b[38;5;28mprint\u001b[39m(x)\n\u001b[1;32m----> 5\u001b[0m \u001b[43madd\u001b[49m\u001b[43m(\u001b[49m\u001b[38;5;241;43m5\u001b[39;49m\u001b[43m,\u001b[49m\u001b[38;5;241;43m6\u001b[39;49m\u001b[43m)\u001b[49m\n",
      "\u001b[1;31mTypeError\u001b[0m: add() takes 1 positional argument but 2 were given"
     ]
    }
   ],
   "source": [
    "def add(x):\n",
    "    x=x+y\n",
    "    print(x)\n",
    "\n",
    "add(5,6)"
   ]
  },
  {
   "cell_type": "code",
   "execution_count": 7,
   "id": "9ceb2911-ab65-484c-b4c3-e3618f0fb164",
   "metadata": {},
   "outputs": [
    {
     "ename": "TypeError",
     "evalue": "add() missing 1 required positional argument: 'z'",
     "output_type": "error",
     "traceback": [
      "\u001b[1;31m---------------------------------------------------------------------------\u001b[0m",
      "\u001b[1;31mTypeError\u001b[0m                                 Traceback (most recent call last)",
      "Cell \u001b[1;32mIn[7], line 4\u001b[0m\n\u001b[0;32m      2\u001b[0m     c\u001b[38;5;241m=\u001b[39mx\u001b[38;5;241m+\u001b[39my\n\u001b[0;32m      3\u001b[0m     \u001b[38;5;28mprint\u001b[39m(c)\n\u001b[1;32m----> 4\u001b[0m \u001b[43madd\u001b[49m\u001b[43m(\u001b[49m\u001b[38;5;241;43m5\u001b[39;49m\u001b[43m,\u001b[49m\u001b[38;5;241;43m6\u001b[39;49m\u001b[43m)\u001b[49m\n",
      "\u001b[1;31mTypeError\u001b[0m: add() missing 1 required positional argument: 'z'"
     ]
    }
   ],
   "source": [
    "def add(x,y,z):\n",
    "    c=x+y\n",
    "    print(c)\n",
    "add(5,6)"
   ]
  },
  {
   "cell_type": "code",
   "execution_count": 8,
   "id": "3ec0b3f7-5972-4db4-863d-061cc5ee0639",
   "metadata": {},
   "outputs": [
    {
     "ename": "TypeError",
     "evalue": "add() takes 2 positional arguments but 3 were given",
     "output_type": "error",
     "traceback": [
      "\u001b[1;31m---------------------------------------------------------------------------\u001b[0m",
      "\u001b[1;31mTypeError\u001b[0m                                 Traceback (most recent call last)",
      "Cell \u001b[1;32mIn[8], line 4\u001b[0m\n\u001b[0;32m      2\u001b[0m     c\u001b[38;5;241m=\u001b[39mx\u001b[38;5;241m+\u001b[39my\n\u001b[0;32m      3\u001b[0m     \u001b[38;5;28mprint\u001b[39m(c)\n\u001b[1;32m----> 4\u001b[0m \u001b[43madd\u001b[49m\u001b[43m(\u001b[49m\u001b[38;5;241;43m5\u001b[39;49m\u001b[43m,\u001b[49m\u001b[38;5;241;43m6\u001b[39;49m\u001b[43m,\u001b[49m\u001b[38;5;241;43m7\u001b[39;49m\u001b[43m)\u001b[49m\n",
      "\u001b[1;31mTypeError\u001b[0m: add() takes 2 positional arguments but 3 were given"
     ]
    }
   ],
   "source": [
    "def add(x,y):\n",
    "    c=x+y\n",
    "    print(c)\n",
    "add(5,6,7)"
   ]
  },
  {
   "cell_type": "code",
   "execution_count": 9,
   "id": "537e4d8d-2f2a-4380-a294-6c8956e20729",
   "metadata": {},
   "outputs": [
    {
     "name": "stdout",
     "output_type": "stream",
     "text": [
      "Good Evening\n",
      "\n",
      "11\n"
     ]
    }
   ],
   "source": [
    "def greet():\n",
    "    print(\"Good Evening\")\n",
    "greet()\n",
    "print()\n",
    "def add(x,y):\n",
    "    c=x+y\n",
    "    print(c)\n",
    "\n",
    "add(5,6)"
   ]
  },
  {
   "cell_type": "code",
   "execution_count": 11,
   "id": "f9115489-23bd-4547-8588-e7cb7dd68ce9",
   "metadata": {},
   "outputs": [
    {
     "name": "stdout",
     "output_type": "stream",
     "text": [
      "Good Evening\n",
      "\n",
      "11\n"
     ]
    }
   ],
   "source": [
    "# Standard way to write\n",
    "\n",
    "def greet():\n",
    "    print(\"Good Evening\")\n",
    "def add(x,y):\n",
    "    c=x+y\n",
    "    print(c)\n",
    "\n",
    "greet()\n",
    "print()\n",
    "add(5,6)"
   ]
  },
  {
   "cell_type": "code",
   "execution_count": 12,
   "id": "fdd171a2-b1b2-48d0-a938-b52eff42acb7",
   "metadata": {},
   "outputs": [
    {
     "name": "stdout",
     "output_type": "stream",
     "text": [
      "Good Evening\n",
      "\n",
      "11\n",
      "-1\n"
     ]
    }
   ],
   "source": [
    "def greet():\n",
    "    print(\"Good Evening\")\n",
    "def add(x,y):\n",
    "    c=x+y\n",
    "    print(c)\n",
    "def sub(x,y):\n",
    "    c=x-y\n",
    "    print(c)\n",
    "greet()\n",
    "print()\n",
    "add(5,6)\n",
    "sub(5,6)"
   ]
  },
  {
   "cell_type": "code",
   "execution_count": 13,
   "id": "b7a0f8de-195a-4f49-97f6-ea67248c1ae4",
   "metadata": {},
   "outputs": [
    {
     "data": {
      "text/plain": [
       "11"
      ]
     },
     "execution_count": 13,
     "metadata": {},
     "output_type": "execute_result"
    }
   ],
   "source": [
    "def add(x,y):\n",
    "    c=x+y\n",
    "    return c\n",
    "add(5,6)"
   ]
  },
  {
   "cell_type": "code",
   "execution_count": 14,
   "id": "0b4a0bf9-a52c-4d4d-af22-7c1f6bfe5a76",
   "metadata": {},
   "outputs": [
    {
     "data": {
      "text/plain": [
       "10"
      ]
     },
     "execution_count": 14,
     "metadata": {},
     "output_type": "execute_result"
    }
   ],
   "source": [
    "def add(x,y):\n",
    "    c=x+y\n",
    "    return c\n",
    "def sub(x,y):\n",
    "    d=x-y\n",
    "    return d\n",
    "add(20,10)\n",
    "sub(20,10)"
   ]
  },
  {
   "cell_type": "code",
   "execution_count": 15,
   "id": "e5c8f44e-7040-4d2d-a000-a052af29b82b",
   "metadata": {},
   "outputs": [
    {
     "name": "stdout",
     "output_type": "stream",
     "text": [
      "30\n",
      "10\n"
     ]
    }
   ],
   "source": [
    "def add(x,y):\n",
    "    c=x+y\n",
    "    return c\n",
    "def sub(x,y):\n",
    "    d=x-y\n",
    "    return d\n",
    "print(add(20,10))\n",
    "print(sub(20,10))"
   ]
  },
  {
   "cell_type": "code",
   "execution_count": 17,
   "id": "bef88022-c083-4ae5-8c70-33e8ba558f63",
   "metadata": {},
   "outputs": [
    {
     "name": "stdout",
     "output_type": "stream",
     "text": [
      "(30, 10)\n",
      "<class 'tuple'>\n"
     ]
    }
   ],
   "source": [
    "def add_sub(x,y):\n",
    "    c=x+y\n",
    "    d=x-y\n",
    "    return c,d\n",
    "print(add_sub(20,10))\n",
    "result=add_sub(20,10)\n",
    "print(type(result))"
   ]
  },
  {
   "cell_type": "code",
   "execution_count": 19,
   "id": "e7d4d7aa-8e7e-41e9-9b98-28e3680a218c",
   "metadata": {},
   "outputs": [
    {
     "name": "stdout",
     "output_type": "stream",
     "text": [
      "<class 'int'>\n",
      "<class 'int'>\n",
      "30\n",
      "10\n"
     ]
    }
   ],
   "source": [
    "def add_sub(x,y):\n",
    "    c=x+y\n",
    "    d=x-y\n",
    "    return c,d\n",
    "\n",
    "result1, result2=add_sub(20,10)\n",
    "\n",
    "print(type(result1))\n",
    "print(type(result2))\n",
    "print(result1)\n",
    "print(result2)"
   ]
  },
  {
   "cell_type": "code",
   "execution_count": 20,
   "id": "29936905-5ddb-4be3-bc0c-76b8307c2585",
   "metadata": {},
   "outputs": [
    {
     "name": "stdout",
     "output_type": "stream",
     "text": [
      "(30, -10)\n",
      "(30, -10)\n",
      "<class 'tuple'>\n",
      "<class 'tuple'>\n"
     ]
    }
   ],
   "source": [
    "def add_sum(x,y):\n",
    "    c=x+y\n",
    "    d=x-y\n",
    "    return c,d\n",
    "\n",
    "result = add_sub(10,20)\n",
    "result1=add_sub(10,20)\n",
    "print(result)\n",
    "print(result1)\n",
    "print(type(result))\n",
    "print(type(result1))"
   ]
  },
  {
   "cell_type": "markdown",
   "id": "a7f67b5b-c934-4419-99d9-8c9bd378b345",
   "metadata": {},
   "source": [
    "# Functions has main two concepts: 1. Without arg   2. With arg\n",
    "- This is define in 2 parts\n",
    "- 1 Formal arg\n",
    "- 2. Actual arg\n",
    "- This is divide in 4 parts\n",
    "- Possitional arg\n",
    "- Keyword\n",
    "- default\n",
    "- Variable"
   ]
  },
  {
   "cell_type": "code",
   "execution_count": 21,
   "id": "0d2c231b-2ca6-428e-9fa5-9a7ff8f16cea",
   "metadata": {},
   "outputs": [
    {
     "data": {
      "text/plain": [
       "8"
      ]
     },
     "execution_count": 21,
     "metadata": {},
     "output_type": "execute_result"
    }
   ],
   "source": [
    "def update(x):\n",
    "    x=8\n",
    "    return x\n",
    "update(10)"
   ]
  },
  {
   "cell_type": "code",
   "execution_count": 22,
   "id": "62e762cd-c0b5-4d1f-b5d1-6c84aa25986f",
   "metadata": {},
   "outputs": [
    {
     "name": "stdout",
     "output_type": "stream",
     "text": [
      "8\n",
      "10\n"
     ]
    }
   ],
   "source": [
    "def update(x):\n",
    "    x=8\n",
    "    return x\n",
    "a=10\n",
    "print(update(a))\n",
    "print(a)"
   ]
  },
  {
   "cell_type": "code",
   "execution_count": 23,
   "id": "c7a61662-5570-4dd1-960a-b5a20d2105cd",
   "metadata": {},
   "outputs": [
    {
     "data": {
      "text/plain": [
       "9"
      ]
     },
     "execution_count": 23,
     "metadata": {},
     "output_type": "execute_result"
    }
   ],
   "source": [
    "def add(x,y):    # x,y are formal arguments\n",
    "    c=x+y\n",
    "    return c\n",
    "add(4,5)   # 4,5 are Actual arguments"
   ]
  },
  {
   "cell_type": "markdown",
   "id": "7921135a-4a5e-4176-b650-cf9a0122bd65",
   "metadata": {},
   "source": [
    "# Positional Arguments"
   ]
  },
  {
   "cell_type": "code",
   "execution_count": 24,
   "id": "fbd060e3-0ff1-4764-946f-c3274d92d4cd",
   "metadata": {},
   "outputs": [
    {
     "data": {
      "text/plain": [
       "9"
      ]
     },
     "execution_count": 24,
     "metadata": {},
     "output_type": "execute_result"
    }
   ],
   "source": [
    "def add(x,y):    # x,y are Formal arguments\n",
    "    c=x+y\n",
    "    return c\n",
    "add(4,5)    # 4,5 are Actual arguments"
   ]
  },
  {
   "cell_type": "code",
   "execution_count": 25,
   "id": "dd2dd6d6-4cee-4860-b324-93f8ebe00905",
   "metadata": {},
   "outputs": [
    {
     "ename": "TypeError",
     "evalue": "add() missing 1 required positional argument: 'y'",
     "output_type": "error",
     "traceback": [
      "\u001b[1;31m---------------------------------------------------------------------------\u001b[0m",
      "\u001b[1;31mTypeError\u001b[0m                                 Traceback (most recent call last)",
      "Cell \u001b[1;32mIn[25], line 6\u001b[0m\n\u001b[0;32m      4\u001b[0m     c\u001b[38;5;241m=\u001b[39mx\u001b[38;5;241m+\u001b[39my\n\u001b[0;32m      5\u001b[0m     \u001b[38;5;28;01mreturn\u001b[39;00m c\n\u001b[1;32m----> 6\u001b[0m \u001b[43madd\u001b[49m\u001b[43m(\u001b[49m\u001b[38;5;241;43m4\u001b[39;49m\u001b[43m)\u001b[49m\n",
      "\u001b[1;31mTypeError\u001b[0m: add() missing 1 required positional argument: 'y'"
     ]
    }
   ],
   "source": [
    "# Positional arguments\n",
    "\n",
    "def add(x,y):   # x,y are Formal arguments\n",
    "    c=x+y\n",
    "    return c\n",
    "add(4)"
   ]
  },
  {
   "cell_type": "code",
   "execution_count": 26,
   "id": "e61c8180-9ca5-45bd-9573-6ea0b2778a86",
   "metadata": {},
   "outputs": [
    {
     "ename": "TypeError",
     "evalue": "add() takes 1 positional argument but 2 were given",
     "output_type": "error",
     "traceback": [
      "\u001b[1;31m---------------------------------------------------------------------------\u001b[0m",
      "\u001b[1;31mTypeError\u001b[0m                                 Traceback (most recent call last)",
      "Cell \u001b[1;32mIn[26], line 4\u001b[0m\n\u001b[0;32m      2\u001b[0m     c\u001b[38;5;241m=\u001b[39mx\u001b[38;5;241m+\u001b[39my\n\u001b[0;32m      3\u001b[0m     \u001b[38;5;28;01mreturn\u001b[39;00m c\n\u001b[1;32m----> 4\u001b[0m \u001b[43madd\u001b[49m\u001b[43m(\u001b[49m\u001b[38;5;241;43m4\u001b[39;49m\u001b[43m,\u001b[49m\u001b[38;5;241;43m5\u001b[39;49m\u001b[43m)\u001b[49m\n",
      "\u001b[1;31mTypeError\u001b[0m: add() takes 1 positional argument but 2 were given"
     ]
    }
   ],
   "source": [
    "def add(x):   # x,y are Formal arguments\n",
    "    c=x+y\n",
    "    return c\n",
    "add(4,5)"
   ]
  },
  {
   "cell_type": "code",
   "execution_count": 28,
   "id": "e94ddbb5-3d2a-4044-a2fc-fbe7870d430c",
   "metadata": {},
   "outputs": [
    {
     "name": "stdout",
     "output_type": "stream",
     "text": [
      "vihari\n",
      "3\n"
     ]
    }
   ],
   "source": [
    "def person(name,age):\n",
    "    print(name)\n",
    "    print(age)\n",
    "\n",
    "person('vihari',3)"
   ]
  },
  {
   "cell_type": "code",
   "execution_count": 29,
   "id": "90d4a05e-a820-4da2-a983-1d803f2692e3",
   "metadata": {},
   "outputs": [
    {
     "name": "stdout",
     "output_type": "stream",
     "text": [
      "3\n",
      "vihari\n"
     ]
    }
   ],
   "source": [
    "def person(name,age):\n",
    "    print(name)\n",
    "    print(age)\n",
    "\n",
    "person(3,'vihari')"
   ]
  },
  {
   "cell_type": "code",
   "execution_count": 30,
   "id": "bb66994f-6f1a-4805-98c8-d3cfd1f4cae4",
   "metadata": {},
   "outputs": [
    {
     "name": "stdout",
     "output_type": "stream",
     "text": [
      "3\n"
     ]
    },
    {
     "ename": "TypeError",
     "evalue": "can only concatenate str (not \"int\") to str",
     "output_type": "error",
     "traceback": [
      "\u001b[1;31m---------------------------------------------------------------------------\u001b[0m",
      "\u001b[1;31mTypeError\u001b[0m                                 Traceback (most recent call last)",
      "Cell \u001b[1;32mIn[30], line 5\u001b[0m\n\u001b[0;32m      2\u001b[0m     \u001b[38;5;28mprint\u001b[39m(name)\n\u001b[0;32m      3\u001b[0m     \u001b[38;5;28mprint\u001b[39m(age\u001b[38;5;241m+\u001b[39m\u001b[38;5;241m1\u001b[39m)\n\u001b[1;32m----> 5\u001b[0m \u001b[43mperson\u001b[49m\u001b[43m(\u001b[49m\u001b[38;5;241;43m3\u001b[39;49m\u001b[43m,\u001b[49m\u001b[38;5;124;43m'\u001b[39;49m\u001b[38;5;124;43mvihari\u001b[39;49m\u001b[38;5;124;43m'\u001b[39;49m\u001b[43m)\u001b[49m\n",
      "Cell \u001b[1;32mIn[30], line 3\u001b[0m, in \u001b[0;36mperson\u001b[1;34m(name, age)\u001b[0m\n\u001b[0;32m      1\u001b[0m \u001b[38;5;28;01mdef\u001b[39;00m \u001b[38;5;21mperson\u001b[39m(name,age):\n\u001b[0;32m      2\u001b[0m     \u001b[38;5;28mprint\u001b[39m(name)\n\u001b[1;32m----> 3\u001b[0m     \u001b[38;5;28mprint\u001b[39m(\u001b[43mage\u001b[49m\u001b[38;5;241;43m+\u001b[39;49m\u001b[38;5;241;43m1\u001b[39;49m)\n",
      "\u001b[1;31mTypeError\u001b[0m: can only concatenate str (not \"int\") to str"
     ]
    }
   ],
   "source": [
    "def person(name,age):\n",
    "    print(name)\n",
    "    print(age+1)\n",
    "\n",
    "person(3,'vihari')"
   ]
  },
  {
   "cell_type": "markdown",
   "id": "a27e0253-99f5-41db-9f0c-8f38a60d51a9",
   "metadata": {},
   "source": [
    "# Keyword Argument"
   ]
  },
  {
   "cell_type": "code",
   "execution_count": 31,
   "id": "fe05df2e-e8cf-4571-9409-cf709d10ff25",
   "metadata": {},
   "outputs": [
    {
     "name": "stdout",
     "output_type": "stream",
     "text": [
      "vihari\n",
      "4\n"
     ]
    }
   ],
   "source": [
    "def person(name,age):\n",
    "    print(name)\n",
    "    print(age+1)\n",
    "\n",
    "person(age=3,name='vihari')"
   ]
  },
  {
   "cell_type": "code",
   "execution_count": 32,
   "id": "487495e0-f391-4fd4-953e-9d90c85fb4f4",
   "metadata": {},
   "outputs": [
    {
     "ename": "TypeError",
     "evalue": "person() missing 1 required positional argument: 'salary'",
     "output_type": "error",
     "traceback": [
      "\u001b[1;31m---------------------------------------------------------------------------\u001b[0m",
      "\u001b[1;31mTypeError\u001b[0m                                 Traceback (most recent call last)",
      "Cell \u001b[1;32mIn[32], line 5\u001b[0m\n\u001b[0;32m      2\u001b[0m     \u001b[38;5;28mprint\u001b[39m(name)\n\u001b[0;32m      3\u001b[0m     \u001b[38;5;28mprint\u001b[39m(age\u001b[38;5;241m+\u001b[39m\u001b[38;5;241m1\u001b[39m)\n\u001b[1;32m----> 5\u001b[0m \u001b[43mperson\u001b[49m\u001b[43m(\u001b[49m\u001b[43mage\u001b[49m\u001b[38;5;241;43m=\u001b[39;49m\u001b[38;5;241;43m3\u001b[39;49m\u001b[43m,\u001b[49m\u001b[43mname\u001b[49m\u001b[38;5;241;43m=\u001b[39;49m\u001b[38;5;124;43m'\u001b[39;49m\u001b[38;5;124;43mvihari\u001b[39;49m\u001b[38;5;124;43m'\u001b[39;49m\u001b[43m)\u001b[49m\n",
      "\u001b[1;31mTypeError\u001b[0m: person() missing 1 required positional argument: 'salary'"
     ]
    }
   ],
   "source": [
    "def person(name,age,salary):\n",
    "    print(name)\n",
    "    print(age+1)\n",
    "\n",
    "person(age=3,name='vihari')"
   ]
  },
  {
   "cell_type": "markdown",
   "id": "c2bd1de8-ef8e-41f2-bb25-c8597de7e678",
   "metadata": {},
   "source": [
    "# Default Argument"
   ]
  },
  {
   "cell_type": "code",
   "execution_count": 33,
   "id": "27e34ee7-ca41-40d3-8b90-6b22bf5e4f52",
   "metadata": {},
   "outputs": [
    {
     "name": "stdout",
     "output_type": "stream",
     "text": [
      "nit\n",
      "20\n",
      "21\n"
     ]
    }
   ],
   "source": [
    "def person(name, age, age2):\n",
    "    print(name)\n",
    "    print(age)\n",
    "    print(age2)\n",
    "person(age=20, name='nit', age2=21)\n",
    "\n",
    "# this is called as Keyword arguments"
   ]
  },
  {
   "cell_type": "code",
   "execution_count": 34,
   "id": "a7e81a5b-e243-42ea-b6af-740dba5973b9",
   "metadata": {},
   "outputs": [
    {
     "ename": "TypeError",
     "evalue": "person() missing 1 required positional argument: 'age'",
     "output_type": "error",
     "traceback": [
      "\u001b[1;31m---------------------------------------------------------------------------\u001b[0m",
      "\u001b[1;31mTypeError\u001b[0m                                 Traceback (most recent call last)",
      "Cell \u001b[1;32mIn[34], line 5\u001b[0m\n\u001b[0;32m      2\u001b[0m     \u001b[38;5;28mprint\u001b[39m(name)\n\u001b[0;32m      3\u001b[0m     \u001b[38;5;28mprint\u001b[39m(age)\n\u001b[1;32m----> 5\u001b[0m \u001b[43mperson\u001b[49m\u001b[43m(\u001b[49m\u001b[38;5;124;43m'\u001b[39;49m\u001b[38;5;124;43mnit\u001b[39;49m\u001b[38;5;124;43m'\u001b[39;49m\u001b[43m)\u001b[49m\n",
      "\u001b[1;31mTypeError\u001b[0m: person() missing 1 required positional argument: 'age'"
     ]
    }
   ],
   "source": [
    "def person(name,age):\n",
    "    print(name)\n",
    "    print(age)\n",
    "\n",
    "person('nit')"
   ]
  },
  {
   "cell_type": "code",
   "execution_count": 35,
   "id": "86ad9a14-6dd0-4d48-a616-d342abc64340",
   "metadata": {},
   "outputs": [
    {
     "name": "stdout",
     "output_type": "stream",
     "text": [
      "nit\n",
      "18\n"
     ]
    }
   ],
   "source": [
    "def person(name,age=18):\n",
    "    print(name)\n",
    "    print(age)\n",
    "\n",
    "person('nit')"
   ]
  }
 ],
 "metadata": {
  "kernelspec": {
   "display_name": "Python 3 (ipykernel)",
   "language": "python",
   "name": "python3"
  },
  "language_info": {
   "codemirror_mode": {
    "name": "ipython",
    "version": 3
   },
   "file_extension": ".py",
   "mimetype": "text/x-python",
   "name": "python",
   "nbconvert_exporter": "python",
   "pygments_lexer": "ipython3",
   "version": "3.12.4"
  }
 },
 "nbformat": 4,
 "nbformat_minor": 5
}
