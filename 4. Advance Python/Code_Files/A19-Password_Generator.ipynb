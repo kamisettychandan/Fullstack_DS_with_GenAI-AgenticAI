{
 "cells": [
  {
   "cell_type": "markdown",
   "id": "b2fd4340-fa4c-4249-a43d-25b1d48fd706",
   "metadata": {},
   "source": [
    "# Password Generator"
   ]
  },
  {
   "cell_type": "code",
   "execution_count": 3,
   "id": "b5485644-1069-41d6-bd52-b5a89fe9336c",
   "metadata": {},
   "outputs": [],
   "source": [
    "from tkinter import *\n",
    "import random\n",
    "import string\n",
    "\n",
    "# Initialize the main application window\n",
    "root = Tk()\n",
    "root.title(\"PYTHON PROJECT - PASSWORD GENERATOR\")\n",
    "root.geometry(\"400x300\")\n",
    "root.resizable(0, 0)\n",
    "root.config(bg=\"green\")\n",
    "\n",
    "# Heading label\n",
    "Label(root, text='PASSWORD GENERATOR', font='arial 15 bold', bg=\"gray\").pack(pady=10)\n",
    "\n",
    "# Bottom label\n",
    "Label(root, text=\"PythonProjects\", font='arial 10 bold', bg=\"gray\").pack(side=BOTTOM)\n",
    "\n",
    "# Password length label and input\n",
    "Label(root, text=\"PASSWORD LENGTH\", font='arial 10 bold', bg=\"black\", fg=\"white\").pack()\n",
    "pass_len = IntVar(value=12)  # Default length\n",
    "Spinbox(root, from_=4, to_=32, textvariable=pass_len, width=15).pack()\n",
    "\n",
    "# StringVar to hold the password\n",
    "pass_str = StringVar()\n",
    "\n",
    "# Function to generate password\n",
    "def Generator():\n",
    "    password = []\n",
    "    length = pass_len.get()\n",
    "    \n",
    "    if length >= 4:\n",
    "        # Include at least one of each character type\n",
    "        password.append(random.choice(string.ascii_uppercase))\n",
    "        password.append(random.choice(string.ascii_lowercase))\n",
    "        password.append(random.choice(string.digits))\n",
    "        password.append(random.choice(string.punctuation))\n",
    "        \n",
    "        # Fill the rest with random characters\n",
    "        for _ in range(length - 4):\n",
    "            password.append(random.choice(string.ascii_letters + string.digits + string.punctuation))\n",
    "        \n",
    "        random.shuffle(password)  # Shuffle to remove predictability\n",
    "    else:\n",
    "        # For lengths less than 4\n",
    "        for _ in range(length):\n",
    "            password.append(random.choice(string.ascii_letters + string.digits + string.punctuation))\n",
    "    \n",
    "    pass_str.set(\"\".join(password))  # Set password in text field\n",
    "\n",
    "# Function to copy password to clipboard\n",
    "def Copy_password():\n",
    "    root.clipboard_clear()\n",
    "    root.clipboard_append(pass_str.get())\n",
    "    root.update()  # Keeps clipboard data after app closes\n",
    "\n",
    "# Button to generate password\n",
    "Button(root, text=\"Generate Password\", command=Generator).pack(pady=5)\n",
    "\n",
    "# Entry field to show the generated password\n",
    "Entry(root, textvariable=pass_str, width=35, font=(\"consolas\", 10)).pack(pady=5)\n",
    "\n",
    "# Button to copy password to clipboard\n",
    "Button(root, text=\"Copy to Clipboard\", command=Copy_password).pack(pady=5)\n",
    "\n",
    "# Run the Tkinter event loop\n",
    "root.mainloop()\n"
   ]
  }
 ],
 "metadata": {
  "kernelspec": {
   "display_name": "Python 3 (ipykernel)",
   "language": "python",
   "name": "python3"
  },
  "language_info": {
   "codemirror_mode": {
    "name": "ipython",
    "version": 3
   },
   "file_extension": ".py",
   "mimetype": "text/x-python",
   "name": "python",
   "nbconvert_exporter": "python",
   "pygments_lexer": "ipython3",
   "version": "3.12.4"
  }
 },
 "nbformat": 4,
 "nbformat_minor": 5
}
