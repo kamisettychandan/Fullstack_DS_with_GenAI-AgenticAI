{
 "cells": [
  {
   "cell_type": "markdown",
   "id": "ac8a38d0-ace9-4612-9d74-c2dbfc627379",
   "metadata": {},
   "source": [
    "## PYTHON PROGRAMMING LANGUAGE \n",
    "\n",
    "1. Python Became the Best Programming Language & fastest programming language.\n",
    "2. Python is used in Machine Learning, Data Science, Big Data, Web Development, Scripting. \n",
    "3. we will learn pyton from start to end || basic to expert.\n",
    "4. if you are not done programm then that is totally fine. \n",
    "5. I will explain from starting from scratch.\n",
    "6. python software - pycharm || vs code || jupyter || spyder"
   ]
  },
  {
   "cell_type": "markdown",
   "id": "70241973-63ba-40a5-b07c-df639624c75b",
   "metadata": {},
   "source": [
    "## PYTHON INTERPRETTER\n",
    "## IDE (INTEGRATED DEVELOPMENT ENVIRONMENT)\n",
    "\n",
    "PYTHON INTERPRETER -->\r\n",
    "What is Python interpreter?\r\n",
    "A python interpreter is a computer program that converts each high-level program statement into machine code. An interpreter translates the command that you write out into code that the computer can understand\r\n",
    "\r\n",
    "PYTHON INTERPRETER EXAMPLE --> \r\n",
    "You write your Python code in a text file with a name like hello.py . How does that code Run? There is program installed on your computer named \"python3\" or \"python\", and its job is looking at and running your Python code. This type of program is called an \"interpre\n",
    "\n",
    "IDE (INTEGRATED DEVELOPMENT ENVIRONMENT) =>\r\n",
    "- using IDE - one can write code, run the code, debug the code\r\n",
    "- IDE takes care of interpreting the Python code, running python scripts, building executables, and debugging the applications.\r\n",
    "- An IDE enables programmers to combine the different aspects of writing a computer program. \r\n",
    "- if you wnated to be python developer only then you need to install (IDE -- PYCHARM)ter\"."
   ]
  },
  {
   "cell_type": "markdown",
   "id": "5bf727e0-39e8-4aa8-b27a-4ad213fa8a32",
   "metadata": {},
   "source": [
    "## PYTHON INTERPRETER & COMPILER\n",
    "\n",
    "Both compilers and interpreters are used to convert a program written in a high-level language into machine code understood by computers.\n",
    "Interpreter -->\n",
    "- Translates program one statement at a time\n",
    "- Interpreter run every line item \n",
    "- Execut the single, partial line of code\n",
    "- Easy for programming \n",
    "\n",
    "Compiler -->\n",
    "- Scans the entire program and translates it as a whole into machine code.\n",
    "- No execution if an error occurs\n",
    "- you can not fix the bug (debug) line by line "
   ]
  },
  {
   "cell_type": "markdown",
   "id": "dba8dc5a-b39f-42ed-a679-3e0a820efd55",
   "metadata": {},
   "source": [
    "Is Python an interpreter or compiler?\n",
    "1. Python is an interpreted language, which means the source code of a Python program is converted into bytecode that is then executed by the Python virtual machine. \n",
    "2. Python is different from major compiled languages, such as C and C + +, as Python code is not required to be built and linked like code for these languages."
   ]
  },
  {
   "cell_type": "raw",
   "id": "2cc84ea9-1718-4216-a0c9-d47caaab64fa",
   "metadata": {},
   "source": [
    "# How to create python environment variable\n",
    "\n",
    "1- cmd - python ( if it not works)\n",
    "2- find the location where the python is installed -- >\n",
    "         C:\\Users\\kdata\\AppData\\Local\\Programs\\Python\\Python311\\Scripts \n",
    "3- system -- env - environment variable screen will pop up \n",
    "4- select on system variable - click on path - create New \n",
    "5- C:\\Users\\kdata\\AppData\\Local\\Programs\\Python\\Python311\n",
    "6- env - sys variable - path - new - C:\\Users\\kdata\\AppData\\Local\\Programs\\Python\\Python311\\Scripts\n",
    "7- cmd - type python -version\n",
    "8- successfully python install in cmd      "
   ]
  },
  {
   "cell_type": "markdown",
   "id": "8945bf34-da6d-404f-aa83-a916748ea755",
   "metadata": {},
   "source": [
    "## ANACONDA \n",
    "\n",
    "1. Anaconda is a distribution of the Python and R programming languages for scientific computing (data science, machine learning applications, large-scale data processing, predictive analytics, etc.), that aims to simplify package management and deployment."
   ]
  },
  {
   "cell_type": "markdown",
   "id": "d0fed4f1-ff45-471f-a9ea-2302ca957e03",
   "metadata": {},
   "source": [
    "# 15th April 2025"
   ]
  },
  {
   "cell_type": "markdown",
   "id": "8e2423d8-fdcf-4fa0-a1d0-9420a1a3970a",
   "metadata": {},
   "source": [
    "# Variable\n",
    "Variable = Identifier = Object\n",
    "1. Variables never start with digit but ends with digits\n",
    "2. Variables are Case Sensitive\n",
    "3. Special Characters are not allowed\n",
    "4. Keywords or Reserved words never be declare as Variable\n",
    "\n",
    "# Syntax Error\n",
    "The Error made by me is called as Syntax Error"
   ]
  },
  {
   "cell_type": "code",
   "execution_count": 1,
   "id": "f2c9e653-9eca-4268-abb4-da70aaa4df35",
   "metadata": {},
   "outputs": [
    {
     "data": {
      "text/plain": [
       "9"
      ]
     },
     "execution_count": 1,
     "metadata": {},
     "output_type": "execute_result"
    }
   ],
   "source": [
    "va = 9\n",
    "va"
   ]
  },
  {
   "cell_type": "code",
   "execution_count": 2,
   "id": "ab47aa8a-26e8-4063-a31d-fb4230ddadd8",
   "metadata": {},
   "outputs": [
    {
     "data": {
      "text/plain": [
       "140731177581240"
      ]
     },
     "execution_count": 2,
     "metadata": {},
     "output_type": "execute_result"
    }
   ],
   "source": [
    "id(va)     # Address of Memory location is called as 'id'"
   ]
  },
  {
   "cell_type": "code",
   "execution_count": 6,
   "id": "e3e46463-837a-4e0f-8513-a6553e02fd6c",
   "metadata": {},
   "outputs": [
    {
     "ename": "SyntaxError",
     "evalue": "invalid decimal literal (1479807941.py, line 1)",
     "output_type": "error",
     "traceback": [
      "\u001b[1;36m  Cell \u001b[1;32mIn[6], line 1\u001b[1;36m\u001b[0m\n\u001b[1;33m    1nit = 18\u001b[0m\n\u001b[1;37m    ^\u001b[0m\n\u001b[1;31mSyntaxError\u001b[0m\u001b[1;31m:\u001b[0m invalid decimal literal\n"
     ]
    }
   ],
   "source": [
    "1nit = 18   # Variables never start with digit but ends with digits\n",
    "1nit"
   ]
  },
  {
   "cell_type": "code",
   "execution_count": 5,
   "id": "376bce6c-875d-4631-999d-787baea1ed11",
   "metadata": {},
   "outputs": [
    {
     "ename": "NameError",
     "evalue": "name 'NIT2' is not defined",
     "output_type": "error",
     "traceback": [
      "\u001b[1;31m---------------------------------------------------------------------------\u001b[0m",
      "\u001b[1;31mNameError\u001b[0m                                 Traceback (most recent call last)",
      "Cell \u001b[1;32mIn[5], line 2\u001b[0m\n\u001b[0;32m      1\u001b[0m nit2 \u001b[38;5;241m=\u001b[39m \u001b[38;5;241m19\u001b[39m\n\u001b[1;32m----> 2\u001b[0m \u001b[43mNIT2\u001b[49m\n",
      "\u001b[1;31mNameError\u001b[0m: name 'NIT2' is not defined"
     ]
    }
   ],
   "source": [
    "nit2 = 19   # Variables are Case Sensitive\n",
    "NIT2"
   ]
  },
  {
   "cell_type": "code",
   "execution_count": 7,
   "id": "e102b52d-9274-47f1-acc0-aff0bcc7834e",
   "metadata": {},
   "outputs": [
    {
     "ename": "SyntaxError",
     "evalue": "invalid syntax (434845991.py, line 1)",
     "output_type": "error",
     "traceback": [
      "\u001b[1;36m  Cell \u001b[1;32mIn[7], line 1\u001b[1;36m\u001b[0m\n\u001b[1;33m    v$ = 90\u001b[0m\n\u001b[1;37m     ^\u001b[0m\n\u001b[1;31mSyntaxError\u001b[0m\u001b[1;31m:\u001b[0m invalid syntax\n"
     ]
    }
   ],
   "source": [
    "v$ = 90    #Special Characters are not allowed\n",
    "v$"
   ]
  },
  {
   "cell_type": "code",
   "execution_count": 8,
   "id": "8a66506b-6af2-4ec1-90b1-a09de9fb801a",
   "metadata": {},
   "outputs": [
    {
     "data": {
      "text/plain": [
       "90"
      ]
     },
     "execution_count": 8,
     "metadata": {},
     "output_type": "execute_result"
    }
   ],
   "source": [
    "v_ = 90\n",
    "v_"
   ]
  },
  {
   "cell_type": "code",
   "execution_count": 9,
   "id": "5410dda7-27e1-4824-ab45-7245af4fc4ac",
   "metadata": {},
   "outputs": [
    {
     "data": {
      "text/plain": [
       "['False',\n",
       " 'None',\n",
       " 'True',\n",
       " 'and',\n",
       " 'as',\n",
       " 'assert',\n",
       " 'async',\n",
       " 'await',\n",
       " 'break',\n",
       " 'class',\n",
       " 'continue',\n",
       " 'def',\n",
       " 'del',\n",
       " 'elif',\n",
       " 'else',\n",
       " 'except',\n",
       " 'finally',\n",
       " 'for',\n",
       " 'from',\n",
       " 'global',\n",
       " 'if',\n",
       " 'import',\n",
       " 'in',\n",
       " 'is',\n",
       " 'lambda',\n",
       " 'nonlocal',\n",
       " 'not',\n",
       " 'or',\n",
       " 'pass',\n",
       " 'raise',\n",
       " 'return',\n",
       " 'try',\n",
       " 'while',\n",
       " 'with',\n",
       " 'yield']"
      ]
     },
     "execution_count": 9,
     "metadata": {},
     "output_type": "execute_result"
    }
   ],
   "source": [
    "import keyword   # Keywords or Reserved words\n",
    "keyword.kwlist"
   ]
  },
  {
   "cell_type": "code",
   "execution_count": 10,
   "id": "3582d2f9-25c5-4315-8235-c74c4de23b80",
   "metadata": {},
   "outputs": [
    {
     "data": {
      "text/plain": [
       "35"
      ]
     },
     "execution_count": 10,
     "metadata": {},
     "output_type": "execute_result"
    }
   ],
   "source": [
    "len(keyword.kwlist)"
   ]
  },
  {
   "cell_type": "code",
   "execution_count": 12,
   "id": "7a013484-6820-4443-92e5-ba508bffc5b6",
   "metadata": {},
   "outputs": [
    {
     "ename": "SyntaxError",
     "evalue": "invalid syntax (1907045559.py, line 1)",
     "output_type": "error",
     "traceback": [
      "\u001b[1;36m  Cell \u001b[1;32mIn[12], line 1\u001b[1;36m\u001b[0m\n\u001b[1;33m    for = 67\u001b[0m\n\u001b[1;37m        ^\u001b[0m\n\u001b[1;31mSyntaxError\u001b[0m\u001b[1;31m:\u001b[0m invalid syntax\n"
     ]
    }
   ],
   "source": [
    "for = 67\n",
    "for"
   ]
  },
  {
   "cell_type": "code",
   "execution_count": 13,
   "id": "941f7dad-bd76-4cdc-b878-d334915ef1da",
   "metadata": {},
   "outputs": [
    {
     "data": {
      "text/plain": [
       "97"
      ]
     },
     "execution_count": 13,
     "metadata": {},
     "output_type": "execute_result"
    }
   ],
   "source": [
    "For = 97\n",
    "For"
   ]
  },
  {
   "cell_type": "markdown",
   "id": "a4eeb608-fc56-4bcb-8473-50303c99c7ca",
   "metadata": {},
   "source": [
    "# Print\n",
    "1. If user has only one variable 'Print not required'\n",
    "2. If user have multiple variables 'Print required'"
   ]
  },
  {
   "cell_type": "code",
   "execution_count": 14,
   "id": "e670d34b-ddcf-433c-b3f7-d8bc15c4fc20",
   "metadata": {},
   "outputs": [
    {
     "name": "stdout",
     "output_type": "stream",
     "text": [
      "5\n",
      "6\n",
      "7\n"
     ]
    }
   ],
   "source": [
    "a = 5\n",
    "b = 6\n",
    "c = 7\n",
    "\n",
    "print(a)\n",
    "print(b)\n",
    "print(c)"
   ]
  },
  {
   "cell_type": "code",
   "execution_count": 15,
   "id": "50f62b85-a81c-45a4-a2a6-f83e77ee3c8f",
   "metadata": {},
   "outputs": [
    {
     "data": {
      "text/plain": [
       "'3.12.4 | packaged by Anaconda, Inc. | (main, Jun 18 2024, 15:03:56) [MSC v.1929 64 bit (AMD64)]'"
      ]
     },
     "execution_count": 15,
     "metadata": {},
     "output_type": "execute_result"
    }
   ],
   "source": [
    "import sys\n",
    "sys.version"
   ]
  },
  {
   "cell_type": "markdown",
   "id": "23032464-a2b5-4ef7-ba15-4681842f3c49",
   "metadata": {},
   "source": [
    "# 16th April 2025"
   ]
  },
  {
   "cell_type": "markdown",
   "id": "d2875168-3254-4d6f-be4e-02651b620cda",
   "metadata": {},
   "source": [
    "# Data types\n",
    "1. Integer Data type\n",
    "2. Float Data type\n",
    "3. Strings Data type\n",
    "4. Boolean Data type\n",
    "5. Complex Data type"
   ]
  },
  {
   "cell_type": "code",
   "execution_count": 3,
   "id": "86c1f3d4-66a6-4acc-91fa-3205bc22cbe4",
   "metadata": {},
   "outputs": [
    {
     "name": "stdout",
     "output_type": "stream",
     "text": [
      "45\n",
      "<class 'int'>\n",
      "140731179548472\n"
     ]
    }
   ],
   "source": [
    "i = 45\n",
    "print(i)\n",
    "print(type(i))\n",
    "print(id(i))"
   ]
  },
  {
   "cell_type": "code",
   "execution_count": 5,
   "id": "ff13c9b0-9346-4d8b-b06b-d68cddd91ddc",
   "metadata": {},
   "outputs": [
    {
     "name": "stdout",
     "output_type": "stream",
     "text": [
      "110.56\n",
      "2136811298192\n",
      "110\n",
      "<class 'float'>\n"
     ]
    }
   ],
   "source": [
    "petrol = 110.56\n",
    "print(petrol)\n",
    "print(id(petrol))\n",
    "print(int(petrol))\n",
    "print(type(petrol))"
   ]
  },
  {
   "cell_type": "code",
   "execution_count": 7,
   "id": "de177bed-a8ff-430b-9ac4-b46b862e075d",
   "metadata": {},
   "outputs": [
    {
     "name": "stdout",
     "output_type": "stream",
     "text": [
      "10\n",
      "20\n",
      "30\n"
     ]
    }
   ],
   "source": [
    "i1,i2 = 10,20\n",
    "print(i1)\n",
    "print(i2)\n",
    "print(i1+i2)"
   ]
  },
  {
   "cell_type": "code",
   "execution_count": 14,
   "id": "acb9f1f5-7ab5-4566-a85a-6b369caa3860",
   "metadata": {},
   "outputs": [
    {
     "name": "stdout",
     "output_type": "stream",
     "text": [
      "Vihari Nandan\n",
      "2136818937904\n",
      "<class 'str'>\n",
      "vihari nandan\n",
      "VIHARI NANDAN\n",
      "Vihari Candan\n",
      "ari Nandan\n",
      "da\n"
     ]
    }
   ],
   "source": [
    "s = 'Vihari Nandan'\n",
    "print(s)\n",
    "print(id(s))\n",
    "print(type(s))\n",
    "print(s.lower())\n",
    "print(s.upper())\n",
    "print(s.replace(\"N\",\"C\"))\n",
    "print(s[3:])\n",
    "print(s[-3:-1])"
   ]
  },
  {
   "cell_type": "markdown",
   "id": "bfc7fcc7-99e8-4ac2-847b-1d63e9e8305d",
   "metadata": {},
   "source": [
    "# 17th April 2025"
   ]
  },
  {
   "cell_type": "code",
   "execution_count": 1,
   "id": "867c65de-d192-4aeb-948e-6b9f71ebe57c",
   "metadata": {},
   "outputs": [
    {
     "ename": "NameError",
     "evalue": "name 'true' is not defined",
     "output_type": "error",
     "traceback": [
      "\u001b[1;31m---------------------------------------------------------------------------\u001b[0m",
      "\u001b[1;31mNameError\u001b[0m                                 Traceback (most recent call last)",
      "Cell \u001b[1;32mIn[1], line 3\u001b[0m\n\u001b[0;32m      1\u001b[0m \u001b[38;5;66;03m# Boolean Data Types\u001b[39;00m\n\u001b[1;32m----> 3\u001b[0m \u001b[43mtrue\u001b[49m\n",
      "\u001b[1;31mNameError\u001b[0m: name 'true' is not defined"
     ]
    }
   ],
   "source": [
    "# Boolean Data Types\n",
    "\n",
    "true"
   ]
  },
  {
   "cell_type": "code",
   "execution_count": 2,
   "id": "9eec33d9-262f-41a5-9cab-8ffcb70e7742",
   "metadata": {},
   "outputs": [
    {
     "data": {
      "text/plain": [
       "True"
      ]
     },
     "execution_count": 2,
     "metadata": {},
     "output_type": "execute_result"
    }
   ],
   "source": [
    "True"
   ]
  },
  {
   "cell_type": "code",
   "execution_count": 3,
   "id": "44095fff-cb6d-45e2-9e5e-505e5820c635",
   "metadata": {},
   "outputs": [
    {
     "data": {
      "text/plain": [
       "False"
      ]
     },
     "execution_count": 3,
     "metadata": {},
     "output_type": "execute_result"
    }
   ],
   "source": [
    "False"
   ]
  },
  {
   "cell_type": "code",
   "execution_count": 4,
   "id": "780b1abd-bf21-4567-82bb-e9f36b395831",
   "metadata": {},
   "outputs": [
    {
     "ename": "NameError",
     "evalue": "name 'false' is not defined",
     "output_type": "error",
     "traceback": [
      "\u001b[1;31m---------------------------------------------------------------------------\u001b[0m",
      "\u001b[1;31mNameError\u001b[0m                                 Traceback (most recent call last)",
      "Cell \u001b[1;32mIn[4], line 1\u001b[0m\n\u001b[1;32m----> 1\u001b[0m \u001b[43mfalse\u001b[49m\n",
      "\u001b[1;31mNameError\u001b[0m: name 'false' is not defined"
     ]
    }
   ],
   "source": [
    "false"
   ]
  },
  {
   "cell_type": "code",
   "execution_count": 9,
   "id": "06378d64-300b-4206-90eb-e55d927ab258",
   "metadata": {},
   "outputs": [
    {
     "name": "stdout",
     "output_type": "stream",
     "text": [
      "1\n",
      "1\n",
      "0\n",
      "0.0\n",
      "0\n"
     ]
    }
   ],
   "source": [
    "b = True\n",
    "b1 = False\n",
    "print(b + b1)\n",
    "print(b-b1)\n",
    "print(b*b1)\n",
    "print(b1/b)   # float division\n",
    "print(b1//b)  # int division"
   ]
  },
  {
   "cell_type": "code",
   "execution_count": null,
   "id": "6edbc034-7566-4c09-ade6-81f99bfcb024",
   "metadata": {},
   "outputs": [],
   "source": [
    "# Complex datatypes - datatype we can use more math operation \n",
    "a+bj\n",
    "\n",
    "a - real part\n",
    "b - imaginary part\n",
    "j - square root of -1"
   ]
  },
  {
   "cell_type": "code",
   "execution_count": 12,
   "id": "9dfd53c5-0740-4a72-ac15-965d82dc30fe",
   "metadata": {},
   "outputs": [
    {
     "name": "stdout",
     "output_type": "stream",
     "text": [
      "(10+20j)\n",
      "<class 'complex'>\n"
     ]
    }
   ],
   "source": [
    "c1 = 10+20j\n",
    "print(c1)\n",
    "print(type(c1))"
   ]
  },
  {
   "cell_type": "code",
   "execution_count": 13,
   "id": "be35eb57-77d0-454e-9f30-735982a94283",
   "metadata": {},
   "outputs": [
    {
     "data": {
      "text/plain": [
       "10.0"
      ]
     },
     "execution_count": 13,
     "metadata": {},
     "output_type": "execute_result"
    }
   ],
   "source": [
    "c1.real"
   ]
  },
  {
   "cell_type": "code",
   "execution_count": 15,
   "id": "a1b77d14-062f-4235-88f7-ed162cc1ac7d",
   "metadata": {},
   "outputs": [
    {
     "data": {
      "text/plain": [
       "20.0"
      ]
     },
     "execution_count": 15,
     "metadata": {},
     "output_type": "execute_result"
    }
   ],
   "source": [
    "c1.imag"
   ]
  },
  {
   "cell_type": "markdown",
   "id": "3a0d37e7-2217-49ff-a1e6-bfdbfe1c0b2c",
   "metadata": {},
   "source": [
    "# Type Casting or Type Conversions\n"
   ]
  },
  {
   "cell_type": "code",
   "execution_count": 16,
   "id": "794f035e-c752-423f-a236-f61033a0c6c3",
   "metadata": {},
   "outputs": [
    {
     "data": {
      "text/plain": [
       "3"
      ]
     },
     "execution_count": 16,
     "metadata": {},
     "output_type": "execute_result"
    }
   ],
   "source": [
    "int(3.4)  # float to int"
   ]
  },
  {
   "cell_type": "code",
   "execution_count": 17,
   "id": "c5014a94-d0d3-4524-91d2-b6fee53a61ca",
   "metadata": {},
   "outputs": [
    {
     "ename": "TypeError",
     "evalue": "int() can't convert non-string with explicit base",
     "output_type": "error",
     "traceback": [
      "\u001b[1;31m---------------------------------------------------------------------------\u001b[0m",
      "\u001b[1;31mTypeError\u001b[0m                                 Traceback (most recent call last)",
      "Cell \u001b[1;32mIn[17], line 1\u001b[0m\n\u001b[1;32m----> 1\u001b[0m \u001b[38;5;28;43mint\u001b[39;49m\u001b[43m(\u001b[49m\u001b[38;5;28;43;01mTrue\u001b[39;49;00m\u001b[43m,\u001b[49m\u001b[43m \u001b[49m\u001b[38;5;28;43;01mFalse\u001b[39;49;00m\u001b[43m)\u001b[49m\n",
      "\u001b[1;31mTypeError\u001b[0m: int() can't convert non-string with explicit base"
     ]
    }
   ],
   "source": [
    "int(True, False)"
   ]
  },
  {
   "cell_type": "code",
   "execution_count": 18,
   "id": "a1854a45-24b8-4518-932b-854e9c4ba9ea",
   "metadata": {},
   "outputs": [
    {
     "data": {
      "text/plain": [
       "2.0"
      ]
     },
     "execution_count": 18,
     "metadata": {},
     "output_type": "execute_result"
    }
   ],
   "source": [
    "float(2)   # into to float"
   ]
  },
  {
   "cell_type": "code",
   "execution_count": 19,
   "id": "fd10664e-5702-4bf6-9c90-77c07ecc2c25",
   "metadata": {},
   "outputs": [
    {
     "ename": "TypeError",
     "evalue": "'float' object cannot be interpreted as an integer",
     "output_type": "error",
     "traceback": [
      "\u001b[1;31m---------------------------------------------------------------------------\u001b[0m",
      "\u001b[1;31mTypeError\u001b[0m                                 Traceback (most recent call last)",
      "Cell \u001b[1;32mIn[19], line 1\u001b[0m\n\u001b[1;32m----> 1\u001b[0m \u001b[38;5;28;43mint\u001b[39;49m\u001b[43m(\u001b[49m\u001b[38;5;241;43m3.4\u001b[39;49m\u001b[43m,\u001b[49m\u001b[43m \u001b[49m\u001b[38;5;241;43m5.7\u001b[39;49m\u001b[43m)\u001b[49m\n",
      "\u001b[1;31mTypeError\u001b[0m: 'float' object cannot be interpreted as an integer"
     ]
    }
   ],
   "source": [
    "int(3.4, 5.7)"
   ]
  },
  {
   "cell_type": "code",
   "execution_count": 20,
   "id": "6a6b653d-424f-4ba8-be30-2fd05e8bc7de",
   "metadata": {},
   "outputs": [
    {
     "ename": "TypeError",
     "evalue": "int() can't convert non-string with explicit base",
     "output_type": "error",
     "traceback": [
      "\u001b[1;31m---------------------------------------------------------------------------\u001b[0m",
      "\u001b[1;31mTypeError\u001b[0m                                 Traceback (most recent call last)",
      "Cell \u001b[1;32mIn[20], line 1\u001b[0m\n\u001b[1;32m----> 1\u001b[0m \u001b[38;5;28;43mint\u001b[39;49m\u001b[43m(\u001b[49m\u001b[38;5;241;43m3\u001b[39;49m\u001b[43m,\u001b[49m\u001b[38;5;241;43m6\u001b[39;49m\u001b[43m)\u001b[49m\n",
      "\u001b[1;31mTypeError\u001b[0m: int() can't convert non-string with explicit base"
     ]
    }
   ],
   "source": [
    "int(3,6)"
   ]
  },
  {
   "cell_type": "code",
   "execution_count": 26,
   "id": "05808ae3-1e4d-43da-89ad-b42249636d21",
   "metadata": {},
   "outputs": [
    {
     "name": "stdout",
     "output_type": "stream",
     "text": [
      "3\n",
      "1\n",
      "10\n"
     ]
    }
   ],
   "source": [
    "print(int(3.4))\n",
    "print(int(True))\n",
    "print(int('10'))"
   ]
  },
  {
   "cell_type": "code",
   "execution_count": 27,
   "id": "753b9ad8-1238-445f-adee-17f82719d4b5",
   "metadata": {},
   "outputs": [
    {
     "ename": "TypeError",
     "evalue": "int() argument must be a string, a bytes-like object or a real number, not 'complex'",
     "output_type": "error",
     "traceback": [
      "\u001b[1;31m---------------------------------------------------------------------------\u001b[0m",
      "\u001b[1;31mTypeError\u001b[0m                                 Traceback (most recent call last)",
      "Cell \u001b[1;32mIn[27], line 1\u001b[0m\n\u001b[1;32m----> 1\u001b[0m \u001b[38;5;28mprint\u001b[39m(\u001b[38;5;28;43mint\u001b[39;49m\u001b[43m(\u001b[49m\u001b[38;5;241;43m2\u001b[39;49m\u001b[38;5;241;43m+\u001b[39;49m\u001b[38;5;241;43m3\u001b[39;49m\u001b[43mj\u001b[49m\u001b[43m)\u001b[49m)\n\u001b[0;32m      2\u001b[0m \u001b[38;5;28mprint\u001b[39m(\u001b[38;5;28mint\u001b[39m(\u001b[38;5;124m'\u001b[39m\u001b[38;5;124mten\u001b[39m\u001b[38;5;124m'\u001b[39m))\n",
      "\u001b[1;31mTypeError\u001b[0m: int() argument must be a string, a bytes-like object or a real number, not 'complex'"
     ]
    }
   ],
   "source": [
    "print(int(2+3j))\n",
    "print(int('ten'))"
   ]
  },
  {
   "cell_type": "markdown",
   "id": "f7cdfb9f-b8f8-49c9-b068-49de9534722f",
   "metadata": {},
   "source": [
    "# 18th April 2025"
   ]
  },
  {
   "cell_type": "code",
   "execution_count": 1,
   "id": "df1e5e14-c08b-4767-93b8-9b05e0d59118",
   "metadata": {},
   "outputs": [
    {
     "data": {
      "text/plain": [
       "23.0"
      ]
     },
     "execution_count": 1,
     "metadata": {},
     "output_type": "execute_result"
    }
   ],
   "source": [
    "float(23)"
   ]
  },
  {
   "cell_type": "code",
   "execution_count": 2,
   "id": "9e911e64-1c75-4a4a-b27f-73899a789248",
   "metadata": {},
   "outputs": [
    {
     "ename": "TypeError",
     "evalue": "float expected at most 1 argument, got 2",
     "output_type": "error",
     "traceback": [
      "\u001b[1;31m---------------------------------------------------------------------------\u001b[0m",
      "\u001b[1;31mTypeError\u001b[0m                                 Traceback (most recent call last)",
      "Cell \u001b[1;32mIn[2], line 1\u001b[0m\n\u001b[1;32m----> 1\u001b[0m \u001b[38;5;28;43mfloat\u001b[39;49m\u001b[43m(\u001b[49m\u001b[38;5;241;43m23\u001b[39;49m\u001b[43m,\u001b[49m\u001b[38;5;241;43m56\u001b[39;49m\u001b[43m)\u001b[49m\n",
      "\u001b[1;31mTypeError\u001b[0m: float expected at most 1 argument, got 2"
     ]
    }
   ],
   "source": [
    "float(23,56)"
   ]
  },
  {
   "cell_type": "code",
   "execution_count": 3,
   "id": "a4f5d8db-26e3-4cbf-ba82-36d8187ab518",
   "metadata": {},
   "outputs": [
    {
     "data": {
      "text/plain": [
       "1.0"
      ]
     },
     "execution_count": 3,
     "metadata": {},
     "output_type": "execute_result"
    }
   ],
   "source": [
    "float(True)"
   ]
  },
  {
   "cell_type": "code",
   "execution_count": 4,
   "id": "5552d0e5-abb4-4ac4-b494-8dfc71665db1",
   "metadata": {},
   "outputs": [
    {
     "data": {
      "text/plain": [
       "0.0"
      ]
     },
     "execution_count": 4,
     "metadata": {},
     "output_type": "execute_result"
    }
   ],
   "source": [
    "float(False)"
   ]
  },
  {
   "cell_type": "code",
   "execution_count": 5,
   "id": "4229c483-a39a-4a29-86b9-08e5ebc6aaea",
   "metadata": {},
   "outputs": [
    {
     "ename": "TypeError",
     "evalue": "float() argument must be a string or a real number, not 'complex'",
     "output_type": "error",
     "traceback": [
      "\u001b[1;31m---------------------------------------------------------------------------\u001b[0m",
      "\u001b[1;31mTypeError\u001b[0m                                 Traceback (most recent call last)",
      "Cell \u001b[1;32mIn[5], line 1\u001b[0m\n\u001b[1;32m----> 1\u001b[0m \u001b[38;5;28;43mfloat\u001b[39;49m\u001b[43m(\u001b[49m\u001b[38;5;241;43m1\u001b[39;49m\u001b[38;5;241;43m+\u001b[39;49m\u001b[38;5;241;43m2\u001b[39;49m\u001b[43mj\u001b[49m\u001b[43m)\u001b[49m\n",
      "\u001b[1;31mTypeError\u001b[0m: float() argument must be a string or a real number, not 'complex'"
     ]
    }
   ],
   "source": [
    "float(1+2j)"
   ]
  },
  {
   "cell_type": "code",
   "execution_count": 6,
   "id": "ab465ce5-0d5f-4360-82d2-837d1cf81af6",
   "metadata": {},
   "outputs": [
    {
     "data": {
      "text/plain": [
       "10.0"
      ]
     },
     "execution_count": 6,
     "metadata": {},
     "output_type": "execute_result"
    }
   ],
   "source": [
    "float('10')"
   ]
  },
  {
   "cell_type": "code",
   "execution_count": 7,
   "id": "2ad1069e-0f76-4519-9c6e-3f0dc379bde1",
   "metadata": {},
   "outputs": [
    {
     "ename": "ValueError",
     "evalue": "could not convert string to float: 'ten'",
     "output_type": "error",
     "traceback": [
      "\u001b[1;31m---------------------------------------------------------------------------\u001b[0m",
      "\u001b[1;31mValueError\u001b[0m                                Traceback (most recent call last)",
      "Cell \u001b[1;32mIn[7], line 1\u001b[0m\n\u001b[1;32m----> 1\u001b[0m \u001b[38;5;28;43mfloat\u001b[39;49m\u001b[43m(\u001b[49m\u001b[38;5;124;43m'\u001b[39;49m\u001b[38;5;124;43mten\u001b[39;49m\u001b[38;5;124;43m'\u001b[39;49m\u001b[43m)\u001b[49m\n",
      "\u001b[1;31mValueError\u001b[0m: could not convert string to float: 'ten'"
     ]
    }
   ],
   "source": [
    "float('ten')"
   ]
  },
  {
   "cell_type": "markdown",
   "id": "905a2152-31c3-457e-bb32-a327639e0ffa",
   "metadata": {},
   "source": [
    "### from other datatypes to float except complex& string text"
   ]
  },
  {
   "cell_type": "code",
   "execution_count": 8,
   "id": "b874e16e-d2b2-4bd4-9b60-2b7ad9224306",
   "metadata": {},
   "outputs": [
    {
     "data": {
      "text/plain": [
       "(10+0j)"
      ]
     },
     "execution_count": 8,
     "metadata": {},
     "output_type": "execute_result"
    }
   ],
   "source": [
    "complex(10)"
   ]
  },
  {
   "cell_type": "code",
   "execution_count": 9,
   "id": "3a986ef8-ddb8-46df-b9ce-a524e2afaa43",
   "metadata": {},
   "outputs": [
    {
     "data": {
      "text/plain": [
       "(10+20j)"
      ]
     },
     "execution_count": 9,
     "metadata": {},
     "output_type": "execute_result"
    }
   ],
   "source": [
    "complex(10,20)"
   ]
  },
  {
   "cell_type": "code",
   "execution_count": 10,
   "id": "dad783ad-874e-4bcd-9344-9e0c8ddcd007",
   "metadata": {},
   "outputs": [
    {
     "data": {
      "text/plain": [
       "(1+0j)"
      ]
     },
     "execution_count": 10,
     "metadata": {},
     "output_type": "execute_result"
    }
   ],
   "source": [
    "complex(True)"
   ]
  },
  {
   "cell_type": "code",
   "execution_count": 11,
   "id": "3f2b9475-aa00-4cb0-9e51-6a0e800037b4",
   "metadata": {},
   "outputs": [
    {
     "data": {
      "text/plain": [
       "0j"
      ]
     },
     "execution_count": 11,
     "metadata": {},
     "output_type": "execute_result"
    }
   ],
   "source": [
    "complex(False)"
   ]
  },
  {
   "cell_type": "code",
   "execution_count": 12,
   "id": "70d296a9-0203-425d-b9a4-11bcf0506307",
   "metadata": {},
   "outputs": [
    {
     "data": {
      "text/plain": [
       "(3.2+56j)"
      ]
     },
     "execution_count": 12,
     "metadata": {},
     "output_type": "execute_result"
    }
   ],
   "source": [
    "complex(3.2, 56)"
   ]
  },
  {
   "cell_type": "code",
   "execution_count": 13,
   "id": "76a19ae7-4b38-4d89-90d3-c4aa5541081a",
   "metadata": {},
   "outputs": [
    {
     "data": {
      "text/plain": [
       "(3.2+5.6j)"
      ]
     },
     "execution_count": 13,
     "metadata": {},
     "output_type": "execute_result"
    }
   ],
   "source": [
    "complex(3.2, 5.6)"
   ]
  },
  {
   "cell_type": "code",
   "execution_count": 15,
   "id": "19940033-775e-462b-8944-f0f3cfd5ac44",
   "metadata": {},
   "outputs": [
    {
     "data": {
      "text/plain": [
       "False"
      ]
     },
     "execution_count": 15,
     "metadata": {},
     "output_type": "execute_result"
    }
   ],
   "source": [
    "# Bool\n",
    "\n",
    "bool(0)"
   ]
  },
  {
   "cell_type": "code",
   "execution_count": 16,
   "id": "c9794e01-8d45-48b5-a841-303ccdc28318",
   "metadata": {},
   "outputs": [
    {
     "data": {
      "text/plain": [
       "True"
      ]
     },
     "execution_count": 16,
     "metadata": {},
     "output_type": "execute_result"
    }
   ],
   "source": [
    "bool(3.2)"
   ]
  },
  {
   "cell_type": "code",
   "execution_count": 17,
   "id": "27c92caa-089b-4e9b-90ca-0980a7cbaea5",
   "metadata": {},
   "outputs": [
    {
     "data": {
      "text/plain": [
       "False"
      ]
     },
     "execution_count": 17,
     "metadata": {},
     "output_type": "execute_result"
    }
   ],
   "source": [
    "bool(0.0)"
   ]
  },
  {
   "cell_type": "code",
   "execution_count": 18,
   "id": "ff38cecc-dcdf-4e11-900e-db90488db571",
   "metadata": {},
   "outputs": [
    {
     "data": {
      "text/plain": [
       "True"
      ]
     },
     "execution_count": 18,
     "metadata": {},
     "output_type": "execute_result"
    }
   ],
   "source": [
    "bool(1+2j)"
   ]
  },
  {
   "cell_type": "code",
   "execution_count": 19,
   "id": "fd422036-d090-488a-9d34-202b7544a59d",
   "metadata": {},
   "outputs": [
    {
     "data": {
      "text/plain": [
       "False"
      ]
     },
     "execution_count": 19,
     "metadata": {},
     "output_type": "execute_result"
    }
   ],
   "source": [
    "bool(0+0j)"
   ]
  },
  {
   "cell_type": "code",
   "execution_count": 20,
   "id": "61b6861b-83cf-4564-8345-c05bebcc530a",
   "metadata": {},
   "outputs": [
    {
     "data": {
      "text/plain": [
       "True"
      ]
     },
     "execution_count": 20,
     "metadata": {},
     "output_type": "execute_result"
    }
   ],
   "source": [
    "bool('ten')"
   ]
  },
  {
   "cell_type": "code",
   "execution_count": 21,
   "id": "1a33e767-109e-4a31-bc48-c07b9873e854",
   "metadata": {},
   "outputs": [
    {
     "data": {
      "text/plain": [
       "True"
      ]
     },
     "execution_count": 21,
     "metadata": {},
     "output_type": "execute_result"
    }
   ],
   "source": [
    "bool('10')"
   ]
  },
  {
   "cell_type": "code",
   "execution_count": 22,
   "id": "90a4f82f-d3a0-4f32-bd98-374369b5c8f0",
   "metadata": {},
   "outputs": [
    {
     "data": {
      "text/plain": [
       "True"
      ]
     },
     "execution_count": 22,
     "metadata": {},
     "output_type": "execute_result"
    }
   ],
   "source": [
    "bool(_)        # Interview Question"
   ]
  },
  {
   "cell_type": "code",
   "execution_count": 23,
   "id": "d2b09b58-546d-4d77-843c-e963f5841145",
   "metadata": {},
   "outputs": [
    {
     "data": {
      "text/plain": [
       "False"
      ]
     },
     "execution_count": 23,
     "metadata": {},
     "output_type": "execute_result"
    }
   ],
   "source": [
    "bool( )          # Non-Zero means True, Zero means False"
   ]
  },
  {
   "cell_type": "markdown",
   "id": "0af92b74-6fd6-42e8-8afd-054cd0ce4e3b",
   "metadata": {},
   "source": [
    "# String Indexing & Slicing & Advanced Slicing"
   ]
  },
  {
   "cell_type": "code",
   "execution_count": 26,
   "id": "7e54f7df-47ca-41aa-99c9-112fa17fe36b",
   "metadata": {},
   "outputs": [
    {
     "name": "stdout",
     "output_type": "stream",
     "text": [
      "Hello Python\n"
     ]
    }
   ],
   "source": [
    "s9 = 'Hello Python'\n",
    "print(s9)"
   ]
  },
  {
   "cell_type": "code",
   "execution_count": 27,
   "id": "40806e9a-f32b-4c63-946c-38c9b26896aa",
   "metadata": {},
   "outputs": [
    {
     "data": {
      "text/plain": [
       "'Hello Python'"
      ]
     },
     "execution_count": 27,
     "metadata": {},
     "output_type": "execute_result"
    }
   ],
   "source": [
    "s9[:]      # : is called as Empty Slicing (displays entire string)"
   ]
  },
  {
   "cell_type": "code",
   "execution_count": 28,
   "id": "ab4bac7c-b877-4189-98de-5e36650ac408",
   "metadata": {},
   "outputs": [
    {
     "name": "stdout",
     "output_type": "stream",
     "text": [
      "H\n",
      "e\n",
      "l\n",
      "l\n",
      "o\n",
      " \n",
      "P\n",
      "y\n",
      "t\n",
      "h\n",
      "o\n",
      "n\n"
     ]
    }
   ],
   "source": [
    "for i in s9:\n",
    "    print(i)"
   ]
  },
  {
   "cell_type": "code",
   "execution_count": 29,
   "id": "bc92e00c-6463-4191-be95-49f28c67d8fd",
   "metadata": {},
   "outputs": [
    {
     "data": {
      "text/plain": [
       "'H'"
      ]
     },
     "execution_count": 29,
     "metadata": {},
     "output_type": "execute_result"
    }
   ],
   "source": [
    "s9[0]"
   ]
  },
  {
   "cell_type": "code",
   "execution_count": 30,
   "id": "537b8dec-c723-4dcb-80df-f932006bf3d8",
   "metadata": {},
   "outputs": [
    {
     "data": {
      "text/plain": [
       "'e'"
      ]
     },
     "execution_count": 30,
     "metadata": {},
     "output_type": "execute_result"
    }
   ],
   "source": [
    "s9[1]"
   ]
  },
  {
   "cell_type": "code",
   "execution_count": 32,
   "id": "785fc7ac-5c19-41f6-a259-33f0434b0a91",
   "metadata": {},
   "outputs": [
    {
     "data": {
      "text/plain": [
       "'n'"
      ]
     },
     "execution_count": 32,
     "metadata": {},
     "output_type": "execute_result"
    }
   ],
   "source": [
    "s9[-1]"
   ]
  },
  {
   "cell_type": "code",
   "execution_count": 33,
   "id": "2b3705b2-610b-4e3d-99ca-11f88379c3ba",
   "metadata": {},
   "outputs": [
    {
     "data": {
      "text/plain": [
       "'t'"
      ]
     },
     "execution_count": 33,
     "metadata": {},
     "output_type": "execute_result"
    }
   ],
   "source": [
    "s9[-4]"
   ]
  },
  {
   "cell_type": "code",
   "execution_count": 34,
   "id": "7a1ec77d-fa58-4fd6-8f52-04280b50402c",
   "metadata": {},
   "outputs": [
    {
     "data": {
      "text/plain": [
       "'nohtyP olleH'"
      ]
     },
     "execution_count": 34,
     "metadata": {},
     "output_type": "execute_result"
    }
   ],
   "source": [
    "s9[::-1]        # Interview Questions"
   ]
  },
  {
   "cell_type": "code",
   "execution_count": 35,
   "id": "854e47e2-6b8e-4984-a856-4dd118f31b0f",
   "metadata": {},
   "outputs": [
    {
     "data": {
      "text/plain": [
       "'Hello'"
      ]
     },
     "execution_count": 35,
     "metadata": {},
     "output_type": "execute_result"
    }
   ],
   "source": [
    "s9[0:5]"
   ]
  },
  {
   "cell_type": "code",
   "execution_count": 39,
   "id": "71a14bac-58a9-4196-ab06-472ace865f8a",
   "metadata": {},
   "outputs": [
    {
     "name": "stdout",
     "output_type": "stream",
     "text": [
      "lo Pyt\n",
      "Hello Pyt\n",
      "lo Python\n"
     ]
    }
   ],
   "source": [
    "print(s9[3:9])   # from 3rd index to 9th index\n",
    "print(s9[:9])    # from 0th index to 9th index\n",
    "print(s9[3:])    # from 3rd index to 0th index"
   ]
  },
  {
   "cell_type": "code",
   "execution_count": 40,
   "id": "ad9ba7e2-eb2b-4855-b7c9-2dde4cafdd16",
   "metadata": {},
   "outputs": [
    {
     "name": "stdout",
     "output_type": "stream",
     "text": [
      "HloPto\n"
     ]
    }
   ],
   "source": [
    "print(s9[0:11:2])"
   ]
  },
  {
   "cell_type": "markdown",
   "id": "979f8995-f207-4acd-93c7-59faee13501b",
   "metadata": {},
   "source": [
    "# 21st April 2025"
   ]
  },
  {
   "cell_type": "markdown",
   "id": "f1662ae8-aae1-417c-8926-e50830715f4e",
   "metadata": {},
   "source": [
    "# Data Structures\n",
    "\n",
    "- data type = user or developer can declare only one value (int, float, string, complex, bool)\n",
    "- data structure = user or developer can declare more than one value\n",
    "- matrix = collection of rows * columns\n",
    "  \n",
    "- 2 types: In-build/ Build-In/Build In data structure (list, tuple, set, dict)\n",
    "           User-defined data structure (stack, linklist, array, tree)\n",
    "-   a =5   # is data type\n",
    "    b= 3,4,5,6  # is data structure\n",
    "    c = Table (rows & columns)   # matrices"
   ]
  },
  {
   "cell_type": "code",
   "execution_count": 1,
   "id": "54899dd5-5b46-46e4-8e1f-c87845d9938d",
   "metadata": {},
   "outputs": [
    {
     "data": {
      "text/plain": [
       "int"
      ]
     },
     "execution_count": 1,
     "metadata": {},
     "output_type": "execute_result"
    }
   ],
   "source": [
    "i = 5\n",
    "type(i)"
   ]
  },
  {
   "cell_type": "code",
   "execution_count": 2,
   "id": "58153aff-c7c3-4289-a4d9-cdd88ccf6100",
   "metadata": {},
   "outputs": [
    {
     "data": {
      "text/plain": [
       "float"
      ]
     },
     "execution_count": 2,
     "metadata": {},
     "output_type": "execute_result"
    }
   ],
   "source": [
    "i = 5.5\n",
    "type(i)"
   ]
  },
  {
   "cell_type": "markdown",
   "id": "947fe35b-f679-491b-bcb3-0e51c7fca3ed",
   "metadata": {},
   "source": [
    "# LIST Data Structures\n",
    "\n",
    "- denoted by []\n",
    "- List is a collection of items/elements which are Mutable (add adn modify), list is growable, Duplicate is allowed, append() add element at last\n",
    "- .append: add element in list\n",
    "- .copy: copy entire list\n",
    "- list inside list is called as Nested List\n",
    "- Multiple datatype we defined"
   ]
  },
  {
   "cell_type": "code",
   "execution_count": 3,
   "id": "d44845bb-ca9a-431b-8203-55b75d8fea34",
   "metadata": {},
   "outputs": [
    {
     "data": {
      "text/plain": [
       "[]"
      ]
     },
     "execution_count": 3,
     "metadata": {},
     "output_type": "execute_result"
    }
   ],
   "source": [
    "l = []\n",
    "l"
   ]
  },
  {
   "cell_type": "code",
   "execution_count": 4,
   "id": "11edcf5f-fa72-4be7-8300-7c3f41bd63ed",
   "metadata": {},
   "outputs": [
    {
     "data": {
      "text/plain": [
       "list"
      ]
     },
     "execution_count": 4,
     "metadata": {},
     "output_type": "execute_result"
    }
   ],
   "source": [
    "type(l)"
   ]
  },
  {
   "cell_type": "code",
   "execution_count": 5,
   "id": "c387a012-0e84-43ff-adb5-8899eaf051bd",
   "metadata": {},
   "outputs": [
    {
     "name": "stdout",
     "output_type": "stream",
     "text": [
      "[10]\n"
     ]
    }
   ],
   "source": [
    "l.append(10)\n",
    "print(l)"
   ]
  },
  {
   "cell_type": "code",
   "execution_count": 7,
   "id": "a5c628e2-aa90-473c-aad6-7178e50ce780",
   "metadata": {},
   "outputs": [
    {
     "name": "stdout",
     "output_type": "stream",
     "text": [
      "None\n",
      "None\n",
      "None\n",
      "[10, 20, 30, 40, 20, 30, 40]\n"
     ]
    }
   ],
   "source": [
    "print(l.append(20))\n",
    "print(l.append(30))\n",
    "print(l.append(40))\n",
    "print(l)"
   ]
  },
  {
   "cell_type": "code",
   "execution_count": 8,
   "id": "64f2486e-6601-4e95-964e-69806559d061",
   "metadata": {},
   "outputs": [
    {
     "ename": "TypeError",
     "evalue": "list.append() takes exactly one argument (3 given)",
     "output_type": "error",
     "traceback": [
      "\u001b[1;31m---------------------------------------------------------------------------\u001b[0m",
      "\u001b[1;31mTypeError\u001b[0m                                 Traceback (most recent call last)",
      "Cell \u001b[1;32mIn[8], line 1\u001b[0m\n\u001b[1;32m----> 1\u001b[0m \u001b[43ml\u001b[49m\u001b[38;5;241;43m.\u001b[39;49m\u001b[43mappend\u001b[49m\u001b[43m(\u001b[49m\u001b[38;5;241;43m70\u001b[39;49m\u001b[43m,\u001b[49m\u001b[38;5;241;43m80\u001b[39;49m\u001b[43m,\u001b[49m\u001b[38;5;241;43m90\u001b[39;49m\u001b[43m)\u001b[49m\n",
      "\u001b[1;31mTypeError\u001b[0m: list.append() takes exactly one argument (3 given)"
     ]
    }
   ],
   "source": [
    "l.append(70,80,90)"
   ]
  },
  {
   "cell_type": "code",
   "execution_count": 10,
   "id": "337f274e-4a3b-471e-af26-b7e8cd877567",
   "metadata": {},
   "outputs": [
    {
     "name": "stdout",
     "output_type": "stream",
     "text": [
      "[10, 20, 30, 40, 20, 30, 40, 78, 78]\n",
      "9\n"
     ]
    }
   ],
   "source": [
    "l.append(78)\n",
    "print(l)\n",
    "print(len(l))"
   ]
  },
  {
   "cell_type": "code",
   "execution_count": 11,
   "id": "202f7a3f-da72-4a56-9f0d-421ee2a8688a",
   "metadata": {},
   "outputs": [
    {
     "name": "stdout",
     "output_type": "stream",
     "text": [
      "[10, 20, 30, 40, 20, 30, 40, 78, 78]\n"
     ]
    }
   ],
   "source": [
    "l1 = l.copy()\n",
    "print(l1)"
   ]
  },
  {
   "cell_type": "code",
   "execution_count": 18,
   "id": "d4f0337c-4724-438c-b548-1b0482709765",
   "metadata": {},
   "outputs": [
    {
     "name": "stdout",
     "output_type": "stream",
     "text": [
      "[10, 20, 30, 40, 20, 30, 40, 78, 78]\n",
      "[10, 20, 30, 40, 20, 30, 40, 78, 78, 2.3, 'nit', (1+2j), [1, 2, 3], 2.3, 'nit', (1+2j), [1, 2, 3], 2.3, 'vihari', (1+2j), [1, 2, 3], 2.3, 'vihari', (1+2j), [1, 2, 3], 2.3, 'vihari', (1+2j), [1, 2, 3], 2.3, 'vihari', (1+2j), [1, 2, 3], 2.3, 'vihari', (1+2j), [1, 2, 3]]\n",
      "9\n",
      "37\n"
     ]
    }
   ],
   "source": [
    "l1.append(2.3)\n",
    "l1.append('vihari')\n",
    "l1.append(1+2j)\n",
    "l1.append([1,2,3])\n",
    "\n",
    "print(l)\n",
    "print(l1)\n",
    "print(len(l))\n",
    "print(len(l1))"
   ]
  },
  {
   "cell_type": "code",
   "execution_count": 19,
   "id": "5ffa3897-04ea-46e7-b9f6-fe5ddb87d58d",
   "metadata": {},
   "outputs": [
    {
     "data": {
      "text/plain": [
       "False"
      ]
     },
     "execution_count": 19,
     "metadata": {},
     "output_type": "execute_result"
    }
   ],
   "source": [
    "l == l1"
   ]
  },
  {
   "cell_type": "code",
   "execution_count": 21,
   "id": "d9deb253-62b6-4d89-9123-d5ee07effcb7",
   "metadata": {},
   "outputs": [
    {
     "name": "stdout",
     "output_type": "stream",
     "text": [
      "[10, 20, 30, 40, 20, 30, 40, 78, 78]\n"
     ]
    },
    {
     "data": {
      "text/plain": [
       "True"
      ]
     },
     "execution_count": 21,
     "metadata": {},
     "output_type": "execute_result"
    }
   ],
   "source": [
    "l2 = l.copy()\n",
    "print(l2)\n",
    "l == l2"
   ]
  },
  {
   "cell_type": "code",
   "execution_count": 22,
   "id": "974e2ecd-bf59-40b0-a165-bfa6e5e7ab93",
   "metadata": {},
   "outputs": [
    {
     "name": "stdout",
     "output_type": "stream",
     "text": [
      "[10, 20, 30, 40, 20, 30, 40, 78, 78]\n",
      "[10, 20, 30, 40, 20, 30, 40, 78, 78, 2.3, 'nit', (1+2j), [1, 2, 3], 2.3, 'nit', (1+2j), [1, 2, 3], 2.3, 'vihari', (1+2j), [1, 2, 3], 2.3, 'vihari', (1+2j), [1, 2, 3], 2.3, 'vihari', (1+2j), [1, 2, 3], 2.3, 'vihari', (1+2j), [1, 2, 3], 2.3, 'vihari', (1+2j), [1, 2, 3]]\n",
      "[10, 20, 30, 40, 20, 30, 40, 78, 78]\n"
     ]
    }
   ],
   "source": [
    "print(l)\n",
    "print(l1)\n",
    "print(l2)"
   ]
  },
  {
   "cell_type": "code",
   "execution_count": 24,
   "id": "2c175644-9aea-453f-b932-5fe57e3f452a",
   "metadata": {},
   "outputs": [
    {
     "name": "stdout",
     "output_type": "stream",
     "text": [
      "[10, 20, 30, 40, 20, 30, 40, 78, 78]\n",
      "10\n",
      "[100, 20, 30, 40, 20, 30, 40, 78, 78]\n"
     ]
    }
   ],
   "source": [
    "print(l[:])\n",
    "print(l[0])\n",
    "l[0] = 100\n",
    "print(l)"
   ]
  },
  {
   "cell_type": "code",
   "execution_count": 25,
   "id": "202f6c42-b76d-4524-8b89-2d40d1a6a30b",
   "metadata": {},
   "outputs": [
    {
     "name": "stdout",
     "output_type": "stream",
     "text": [
      "[100, 20, 30, 40, 20, 30, 40, 78, 200]\n"
     ]
    }
   ],
   "source": [
    "l[-1] = 200\n",
    "print(l)"
   ]
  },
  {
   "cell_type": "code",
   "execution_count": 26,
   "id": "b1fcd35c-f8c0-4e4e-9bfd-9238731ace1b",
   "metadata": {},
   "outputs": [
    {
     "data": {
      "text/plain": [
       "[40, 20, 30, 40, 78, 200]"
      ]
     },
     "execution_count": 26,
     "metadata": {},
     "output_type": "execute_result"
    }
   ],
   "source": [
    "l[3:]"
   ]
  },
  {
   "cell_type": "code",
   "execution_count": 27,
   "id": "a678c26f-b5e0-4623-a57d-e17e4980712a",
   "metadata": {},
   "outputs": [
    {
     "data": {
      "text/plain": [
       "[]"
      ]
     },
     "execution_count": 27,
     "metadata": {},
     "output_type": "execute_result"
    }
   ],
   "source": [
    "l[10:]"
   ]
  },
  {
   "cell_type": "code",
   "execution_count": 28,
   "id": "41e2d5be-4be4-4b2b-9a0f-baf9cf9da73d",
   "metadata": {},
   "outputs": [
    {
     "data": {
      "text/plain": [
       "[100, 20, 30, 40, 20, 30, 40, 78, 200]"
      ]
     },
     "execution_count": 28,
     "metadata": {},
     "output_type": "execute_result"
    }
   ],
   "source": [
    "l[:10]"
   ]
  },
  {
   "cell_type": "code",
   "execution_count": 29,
   "id": "ed7413ac-2314-4d56-9427-edada46f293f",
   "metadata": {},
   "outputs": [
    {
     "name": "stdout",
     "output_type": "stream",
     "text": [
      "[]\n"
     ]
    }
   ],
   "source": [
    "l2.clear()\n",
    "print(l2)"
   ]
  },
  {
   "cell_type": "code",
   "execution_count": 30,
   "id": "ae156dc4-b152-4b11-bc9d-6c3a65e3f8ea",
   "metadata": {},
   "outputs": [
    {
     "ename": "NameError",
     "evalue": "name 'l2' is not defined",
     "output_type": "error",
     "traceback": [
      "\u001b[1;31m---------------------------------------------------------------------------\u001b[0m",
      "\u001b[1;31mNameError\u001b[0m                                 Traceback (most recent call last)",
      "Cell \u001b[1;32mIn[30], line 2\u001b[0m\n\u001b[0;32m      1\u001b[0m \u001b[38;5;28;01mdel\u001b[39;00m l2\n\u001b[1;32m----> 2\u001b[0m \u001b[38;5;28mprint\u001b[39m(\u001b[43ml2\u001b[49m)\n",
      "\u001b[1;31mNameError\u001b[0m: name 'l2' is not defined"
     ]
    }
   ],
   "source": [
    "del l2\n",
    "print(l2)"
   ]
  },
  {
   "cell_type": "code",
   "execution_count": 31,
   "id": "6bbdebba-589a-4f0f-94a9-fcfe6e2edbde",
   "metadata": {},
   "outputs": [
    {
     "data": {
      "text/plain": [
       "[10, 30, 'nit']"
      ]
     },
     "execution_count": 31,
     "metadata": {},
     "output_type": "execute_result"
    }
   ],
   "source": [
    "l1[0:12:5]"
   ]
  },
  {
   "cell_type": "code",
   "execution_count": 32,
   "id": "d833ab5d-f465-4cf7-88ad-14143a31bb98",
   "metadata": {},
   "outputs": [
    {
     "data": {
      "text/plain": [
       "[10, 40, 40, 2.3]"
      ]
     },
     "execution_count": 32,
     "metadata": {},
     "output_type": "execute_result"
    }
   ],
   "source": [
    "l1[0:11:3]"
   ]
  },
  {
   "cell_type": "code",
   "execution_count": 37,
   "id": "a1516027-3cff-4774-917a-2f2f525b5f79",
   "metadata": {},
   "outputs": [
    {
     "data": {
      "text/plain": [
       "10"
      ]
     },
     "execution_count": 37,
     "metadata": {},
     "output_type": "execute_result"
    }
   ],
   "source": [
    "l1.index('nit')"
   ]
  },
  {
   "cell_type": "markdown",
   "id": "bf3c13cd-dc46-4a1f-83a0-00f3aaf79e3f",
   "metadata": {},
   "source": [
    "# 22nd April 2025"
   ]
  },
  {
   "cell_type": "code",
   "execution_count": 8,
   "id": "ac578055-f796-4a0c-9bb3-0d7844523fa8",
   "metadata": {},
   "outputs": [
    {
     "name": "stdout",
     "output_type": "stream",
     "text": [
      "[100, 20, 30, 40, 20, 30, 40, 78, 200]\n"
     ]
    }
   ],
   "source": [
    "l = [100, 20, 30, 40, 20, 30, 40, 78, 200]\n",
    "print(l)"
   ]
  },
  {
   "cell_type": "code",
   "execution_count": 9,
   "id": "1fc00694-c3fe-47f9-b04c-e05be8ef5f16",
   "metadata": {},
   "outputs": [
    {
     "data": {
      "text/plain": [
       "1"
      ]
     },
     "execution_count": 9,
     "metadata": {},
     "output_type": "execute_result"
    }
   ],
   "source": [
    "# Count\n",
    "l.count(100)"
   ]
  },
  {
   "cell_type": "code",
   "execution_count": 10,
   "id": "fde8964f-faa3-43d1-9d1f-ed538207f728",
   "metadata": {},
   "outputs": [
    {
     "data": {
      "text/plain": [
       "2"
      ]
     },
     "execution_count": 10,
     "metadata": {},
     "output_type": "execute_result"
    }
   ],
   "source": [
    "l.count(20)"
   ]
  },
  {
   "cell_type": "code",
   "execution_count": 14,
   "id": "0910415f-3f0b-4464-a149-9231bdeb07c2",
   "metadata": {},
   "outputs": [
    {
     "name": "stdout",
     "output_type": "stream",
     "text": [
      "[100, 30, 40, 20, 30, 40, 78, 200]\n"
     ]
    }
   ],
   "source": [
    "# Remove  - it remove first occurance\n",
    "l.remove(20)\n",
    "print(l)"
   ]
  },
  {
   "cell_type": "code",
   "execution_count": 15,
   "id": "52807f45-a078-41e4-b9d8-633f80883c2c",
   "metadata": {},
   "outputs": [
    {
     "name": "stdout",
     "output_type": "stream",
     "text": [
      "[100, 30, 40, 20, 30, 40, 78, 200, 'IoT']\n"
     ]
    }
   ],
   "source": [
    "l.append(\"IoT\")\n",
    "print(l)"
   ]
  },
  {
   "cell_type": "code",
   "execution_count": 16,
   "id": "88583400-4e16-4d73-9373-b52313d72403",
   "metadata": {},
   "outputs": [
    {
     "name": "stdout",
     "output_type": "stream",
     "text": [
      "[100, 30, 25, 40, 20, 30, 40, 78, 200, 'IoT']\n"
     ]
    }
   ],
   "source": [
    "# insert bydefault user need to pass 2 arguments. 1st arg is Index position & 2nd arg is value\n",
    "l.insert(2, 25)\n",
    "print(l)"
   ]
  },
  {
   "cell_type": "code",
   "execution_count": 19,
   "id": "f0088e78-a814-442e-85a2-13196d919661",
   "metadata": {},
   "outputs": [
    {
     "name": "stdout",
     "output_type": "stream",
     "text": [
      "[100, 25, 40, 20, 30, 40, 78]\n",
      "[100, 25, 20, 30, 40, 78]\n"
     ]
    }
   ],
   "source": [
    "# POP - Remove element by indexing & default is last item will remove\n",
    "l.pop()\n",
    "print(l)\n",
    "l.pop(2)\n",
    "print(l)"
   ]
  },
  {
   "cell_type": "code",
   "execution_count": 18,
   "id": "33af8cdb-a7e1-4288-9647-4714a85d5e5a",
   "metadata": {},
   "outputs": [
    {
     "name": "stdout",
     "output_type": "stream",
     "text": [
      "[100, 25, 40, 20, 30, 40, 78, 200]\n"
     ]
    }
   ],
   "source": [
    "l.remove(30)\n",
    "print(l)"
   ]
  },
  {
   "cell_type": "code",
   "execution_count": 22,
   "id": "d8c0f16f-69ab-4cf8-9db3-cff3d4c4a039",
   "metadata": {},
   "outputs": [
    {
     "name": "stdout",
     "output_type": "stream",
     "text": [
      "[1, 2, 1, 2]\n"
     ]
    }
   ],
   "source": [
    "# Extend\n",
    "l3 = [1,2]\n",
    "l3.extend(l)\n",
    "print(l3)"
   ]
  },
  {
   "cell_type": "code",
   "execution_count": 23,
   "id": "2d2a45b7-a04e-4068-a390-70795c2004b9",
   "metadata": {},
   "outputs": [
    {
     "name": "stdout",
     "output_type": "stream",
     "text": [
      "[2, 1]\n"
     ]
    }
   ],
   "source": [
    "# Reverse\n",
    "l.reverse()\n",
    "print(l)"
   ]
  },
  {
   "cell_type": "code",
   "execution_count": null,
   "id": "337bb7b3-2646-4d7a-9475-e1f7c845dc78",
   "metadata": {},
   "outputs": [],
   "source": [
    "# Sort\n"
   ]
  },
  {
   "cell_type": "code",
   "execution_count": null,
   "id": "2e1f7b16-f46f-4ea2-8a75-616e8e133f3a",
   "metadata": {},
   "outputs": [],
   "source": []
  },
  {
   "cell_type": "markdown",
   "id": "d316b225-5654-4526-87d1-fdacda52c03e",
   "metadata": {},
   "source": [
    "# 23rd April 2025"
   ]
  },
  {
   "cell_type": "code",
   "execution_count": 3,
   "id": "cbbccb8f-7970-4bff-bd8f-896ccfc02379",
   "metadata": {},
   "outputs": [
    {
     "data": {
      "text/plain": [
       "['a', 'c', 'b', 'd']"
      ]
     },
     "execution_count": 3,
     "metadata": {},
     "output_type": "execute_result"
    }
   ],
   "source": [
    "l6 = ['a','c','b','d']\n",
    "l6"
   ]
  },
  {
   "cell_type": "code",
   "execution_count": 4,
   "id": "79495029-3aae-4731-83ce-0b3d35609ed7",
   "metadata": {},
   "outputs": [
    {
     "name": "stdout",
     "output_type": "stream",
     "text": [
      "['a', 'b', 'c', 'd']\n"
     ]
    }
   ],
   "source": [
    "l6.sort()    # Parameter Tuning\n",
    "print(l6)"
   ]
  },
  {
   "cell_type": "code",
   "execution_count": 5,
   "id": "f86f7377-246f-469f-8b91-71ee0b3b0e75",
   "metadata": {},
   "outputs": [
    {
     "name": "stdout",
     "output_type": "stream",
     "text": [
      "['d', 'c', 'b', 'a']\n"
     ]
    }
   ],
   "source": [
    "l6.sort(reverse=True)    # default reverse is False  (Ascending)   # Hyperparameter Tuning\n",
    "print(l6)      # Decending "
   ]
  },
  {
   "cell_type": "code",
   "execution_count": 6,
   "id": "97d32587-0412-4ace-bf4d-6182c96eaf3f",
   "metadata": {},
   "outputs": [
    {
     "name": "stdout",
     "output_type": "stream",
     "text": [
      "d\n",
      "c\n",
      "b\n",
      "a\n"
     ]
    }
   ],
   "source": [
    "for i in l6:                   # i,k, j etc means iteration (next value)\n",
    "    print(i)"
   ]
  },
  {
   "cell_type": "code",
   "execution_count": 7,
   "id": "4a111eaa-2949-4c98-92f8-ca0be3fa28ea",
   "metadata": {},
   "outputs": [
    {
     "data": {
      "text/plain": [
       "True"
      ]
     },
     "execution_count": 7,
     "metadata": {},
     "output_type": "execute_result"
    }
   ],
   "source": [
    "# List Membership\n",
    "'b' in l6"
   ]
  },
  {
   "cell_type": "code",
   "execution_count": 8,
   "id": "5c2fe26b-c56b-42c2-a92f-c8a57c5f3360",
   "metadata": {},
   "outputs": [
    {
     "name": "stdout",
     "output_type": "stream",
     "text": [
      "(0, 'd')\n",
      "(1, 'c')\n",
      "(2, 'b')\n",
      "(3, 'a')\n"
     ]
    }
   ],
   "source": [
    "for i in enumerate(l6):     # enumerate will give count with items\n",
    "    print(i)"
   ]
  },
  {
   "cell_type": "code",
   "execution_count": 9,
   "id": "3154604d-9130-4364-ae7b-7fbd4d1b0a92",
   "metadata": {},
   "outputs": [
    {
     "data": {
      "text/plain": [
       "True"
      ]
     },
     "execution_count": 9,
     "metadata": {},
     "output_type": "execute_result"
    }
   ],
   "source": [
    "all(l6)"
   ]
  },
  {
   "cell_type": "code",
   "execution_count": 10,
   "id": "e15da62a-44f9-47ab-a165-a5194eee3c20",
   "metadata": {},
   "outputs": [
    {
     "data": {
      "text/plain": [
       "True"
      ]
     },
     "execution_count": 10,
     "metadata": {},
     "output_type": "execute_result"
    }
   ],
   "source": [
    "any(l6)"
   ]
  },
  {
   "cell_type": "code",
   "execution_count": 11,
   "id": "6d3ad117-8686-4b5f-a3a9-4c6094e3c043",
   "metadata": {},
   "outputs": [
    {
     "data": {
      "text/plain": [
       "['d', 'c', 'b', 'a', 0]"
      ]
     },
     "execution_count": 11,
     "metadata": {},
     "output_type": "execute_result"
    }
   ],
   "source": [
    "l6.append(0)\n",
    "l6"
   ]
  },
  {
   "cell_type": "code",
   "execution_count": 12,
   "id": "659d15b2-bdb5-4f6d-a64f-9ba66d745803",
   "metadata": {},
   "outputs": [
    {
     "data": {
      "text/plain": [
       "False"
      ]
     },
     "execution_count": 12,
     "metadata": {},
     "output_type": "execute_result"
    }
   ],
   "source": [
    "all(l6)"
   ]
  },
  {
   "cell_type": "code",
   "execution_count": 13,
   "id": "89871098-ac12-4009-af60-2b68a8418aec",
   "metadata": {},
   "outputs": [
    {
     "data": {
      "text/plain": [
       "True"
      ]
     },
     "execution_count": 13,
     "metadata": {},
     "output_type": "execute_result"
    }
   ],
   "source": [
    "any(l6)"
   ]
  },
  {
   "cell_type": "markdown",
   "id": "7f150e4b-206a-4853-bfe9-053f6428c918",
   "metadata": {},
   "source": [
    "# Tuple\n",
    "- Immutable (Not changeable)"
   ]
  },
  {
   "cell_type": "code",
   "execution_count": 16,
   "id": "c77d72a9-cd39-4653-8774-2485e5455543",
   "metadata": {},
   "outputs": [
    {
     "name": "stdout",
     "output_type": "stream",
     "text": [
      "()\n",
      "0\n",
      "140708801435368\n"
     ]
    }
   ],
   "source": [
    "t = ()\n",
    "print(t)\n",
    "print(len(t))\n",
    "print(id(t))"
   ]
  },
  {
   "cell_type": "code",
   "execution_count": 17,
   "id": "dcbd00f1-ebd3-492f-a07c-3d373b98ecba",
   "metadata": {},
   "outputs": [
    {
     "name": "stdout",
     "output_type": "stream",
     "text": [
      "(10, 20, 30, 40, 50)\n",
      "('a', 'z', 'm', 'n')\n"
     ]
    }
   ],
   "source": [
    "t1 = (10,20,30,40,50)\n",
    "t2 = ('a','z','m','n')\n",
    "print(t1)\n",
    "print(t2)"
   ]
  },
  {
   "cell_type": "code",
   "execution_count": 18,
   "id": "d1567491-b5c3-4586-b2e7-0bdf2da46d74",
   "metadata": {},
   "outputs": [
    {
     "data": {
      "text/plain": [
       "1"
      ]
     },
     "execution_count": 18,
     "metadata": {},
     "output_type": "execute_result"
    }
   ],
   "source": [
    "t2.count('z')"
   ]
  },
  {
   "cell_type": "code",
   "execution_count": 20,
   "id": "27e0b15f-a752-4e34-b565-fbd628d5be6c",
   "metadata": {},
   "outputs": [
    {
     "data": {
      "text/plain": [
       "0"
      ]
     },
     "execution_count": 20,
     "metadata": {},
     "output_type": "execute_result"
    }
   ],
   "source": [
    "t2.index('a')"
   ]
  },
  {
   "cell_type": "code",
   "execution_count": 21,
   "id": "456cb53f-737d-43b3-bceb-25dabb02a99f",
   "metadata": {},
   "outputs": [
    {
     "name": "stdout",
     "output_type": "stream",
     "text": [
      "10\n"
     ]
    }
   ],
   "source": [
    "t1 = (10,20,30,40,50)\n",
    "print(t1[0])"
   ]
  },
  {
   "cell_type": "code",
   "execution_count": 22,
   "id": "3029e5fe-5ba5-469f-ab3e-fc6355989bed",
   "metadata": {},
   "outputs": [
    {
     "name": "stdout",
     "output_type": "stream",
     "text": [
      "(10, 20, 30, 40, 50, 10, 20, 30, 40, 50, 10, 20, 30, 40, 50)\n"
     ]
    }
   ],
   "source": [
    "t3 = t1 * 3\n",
    "print(t3)"
   ]
  },
  {
   "cell_type": "markdown",
   "id": "36ce7dfc-44f5-44cf-ad58-a5df1a4a68f9",
   "metadata": {},
   "source": [
    "# 24th April 2025\n",
    "# SET Data Structure"
   ]
  },
  {
   "cell_type": "code",
   "execution_count": 25,
   "id": "95888833-031a-442a-b489-341131a576ef",
   "metadata": {},
   "outputs": [
    {
     "name": "stdout",
     "output_type": "stream",
     "text": [
      "{}\n",
      "<class 'dict'>\n"
     ]
    }
   ],
   "source": [
    "s = {}\n",
    "print(s)\n",
    "print(type(s))"
   ]
  },
  {
   "cell_type": "code",
   "execution_count": 26,
   "id": "17087580-8cac-4261-b2a9-bd4850dedf85",
   "metadata": {},
   "outputs": [
    {
     "name": "stdout",
     "output_type": "stream",
     "text": [
      "set()\n"
     ]
    }
   ],
   "source": [
    "s1 = set()\n",
    "print(s1)"
   ]
  },
  {
   "cell_type": "code",
   "execution_count": 28,
   "id": "da97046f-d9ad-48df-81d2-029950445fb8",
   "metadata": {},
   "outputs": [
    {
     "name": "stdout",
     "output_type": "stream",
     "text": [
      "{10}\n"
     ]
    }
   ],
   "source": [
    "s1.add(10)\n",
    "print(s1)"
   ]
  },
  {
   "cell_type": "code",
   "execution_count": 30,
   "id": "4db160cd-1b3c-4c1a-81dc-57fdc9c04298",
   "metadata": {},
   "outputs": [
    {
     "name": "stdout",
     "output_type": "stream",
     "text": [
      "{True, 3.2, (1+2j), 10, 20, 'nit'}\n"
     ]
    }
   ],
   "source": [
    "s1.add(20)\n",
    "s1.add('nit')\n",
    "s1.add(True)\n",
    "s1.add(1+2j)\n",
    "s1.add(3.2)\n",
    "print(s1)"
   ]
  },
  {
   "cell_type": "code",
   "execution_count": 31,
   "id": "daf207ab-c16d-4f2e-b0db-ab165e490f1e",
   "metadata": {},
   "outputs": [
    {
     "name": "stdout",
     "output_type": "stream",
     "text": [
      "set()\n"
     ]
    }
   ],
   "source": [
    "s2 = set()\n",
    "print(s2)"
   ]
  },
  {
   "cell_type": "code",
   "execution_count": 32,
   "id": "5ade4cea-c4d6-488d-bf0d-7254df9a7b7d",
   "metadata": {},
   "outputs": [
    {
     "name": "stdout",
     "output_type": "stream",
     "text": [
      "{200, 9, 10, 100}\n"
     ]
    }
   ],
   "source": [
    "s2.add(100)\n",
    "s2.add(10)\n",
    "s2.add(200)\n",
    "s2.add(9)\n",
    "print(s2)"
   ]
  },
  {
   "cell_type": "code",
   "execution_count": 33,
   "id": "00e04d08-071a-43f3-a2b3-89bb18e18f8f",
   "metadata": {},
   "outputs": [
    {
     "name": "stdout",
     "output_type": "stream",
     "text": [
      "set()\n"
     ]
    }
   ],
   "source": [
    "s3 = set()\n",
    "print(s3)"
   ]
  },
  {
   "cell_type": "code",
   "execution_count": 34,
   "id": "38435e6f-3855-481f-b124-2e15cf00861c",
   "metadata": {},
   "outputs": [
    {
     "name": "stdout",
     "output_type": "stream",
     "text": [
      "{'z', 'm', 'b', 'a'}\n"
     ]
    }
   ],
   "source": [
    "s3.add('z')\n",
    "s3.add('a')\n",
    "s3.add('m')\n",
    "s3.add('b')\n",
    "print(s3)"
   ]
  },
  {
   "cell_type": "code",
   "execution_count": 35,
   "id": "bb80084a-40c4-4240-9bb1-ea2ab4b945df",
   "metadata": {},
   "outputs": [
    {
     "name": "stdout",
     "output_type": "stream",
     "text": [
      "{True, 3.2, (1+2j), 10, 20, 'nit'}\n",
      "{200, 9, 10, 100}\n",
      "{'z', 'm', 'b', 'a'}\n"
     ]
    }
   ],
   "source": [
    "print(s1)\n",
    "print(s2)\n",
    "print(s3)"
   ]
  },
  {
   "cell_type": "code",
   "execution_count": 36,
   "id": "78482bd0-4853-4ca1-a176-2d44caaebb7f",
   "metadata": {},
   "outputs": [
    {
     "name": "stdout",
     "output_type": "stream",
     "text": [
      "4\n"
     ]
    }
   ],
   "source": [
    "print(len(s3))"
   ]
  },
  {
   "cell_type": "code",
   "execution_count": 37,
   "id": "8868d116-b11b-470a-b889-8d68aae66483",
   "metadata": {},
   "outputs": [
    {
     "name": "stdout",
     "output_type": "stream",
     "text": [
      "{'z', 'm', 'b', 'a'}\n"
     ]
    }
   ],
   "source": [
    "print(s3)"
   ]
  },
  {
   "cell_type": "code",
   "execution_count": 38,
   "id": "dbcdc9cd-3494-45c5-9ea4-a3bea901b641",
   "metadata": {},
   "outputs": [
    {
     "ename": "TypeError",
     "evalue": "'set' object is not subscriptable",
     "output_type": "error",
     "traceback": [
      "\u001b[1;31m---------------------------------------------------------------------------\u001b[0m",
      "\u001b[1;31mTypeError\u001b[0m                                 Traceback (most recent call last)",
      "Cell \u001b[1;32mIn[38], line 1\u001b[0m\n\u001b[1;32m----> 1\u001b[0m \u001b[38;5;28mprint\u001b[39m(\u001b[43ms3\u001b[49m\u001b[43m[\u001b[49m\u001b[38;5;241;43m0\u001b[39;49m\u001b[43m]\u001b[49m)\n",
      "\u001b[1;31mTypeError\u001b[0m: 'set' object is not subscriptable"
     ]
    }
   ],
   "source": [
    "print(s3[0])   # Index not possible in SET"
   ]
  },
  {
   "cell_type": "code",
   "execution_count": 39,
   "id": "63beaaff-d937-4b8f-a9a9-305319b3f376",
   "metadata": {},
   "outputs": [
    {
     "ename": "TypeError",
     "evalue": "'set' object is not subscriptable",
     "output_type": "error",
     "traceback": [
      "\u001b[1;31m---------------------------------------------------------------------------\u001b[0m",
      "\u001b[1;31mTypeError\u001b[0m                                 Traceback (most recent call last)",
      "Cell \u001b[1;32mIn[39], line 1\u001b[0m\n\u001b[1;32m----> 1\u001b[0m \u001b[38;5;28mprint\u001b[39m(\u001b[43ms3\u001b[49m\u001b[43m[\u001b[49m\u001b[43m:\u001b[49m\u001b[43m]\u001b[49m)\n",
      "\u001b[1;31mTypeError\u001b[0m: 'set' object is not subscriptable"
     ]
    }
   ],
   "source": [
    "print(s3[:])    # Slicing not possible in SET"
   ]
  },
  {
   "cell_type": "code",
   "execution_count": 40,
   "id": "7ada9952-430c-4676-a8c6-1f5098b6a25f",
   "metadata": {},
   "outputs": [
    {
     "name": "stdout",
     "output_type": "stream",
     "text": [
      "{'z', 'm', 'b', 'a'}\n"
     ]
    }
   ],
   "source": [
    "s4 = s3.copy()\n",
    "print(s4)"
   ]
  },
  {
   "cell_type": "code",
   "execution_count": 41,
   "id": "ecedd0d9-b188-4895-96e4-c8c56f0d4812",
   "metadata": {},
   "outputs": [
    {
     "name": "stdout",
     "output_type": "stream",
     "text": [
      "{'z', 'm', 'b', 'a'}\n"
     ]
    }
   ],
   "source": [
    "print(s3)"
   ]
  },
  {
   "cell_type": "code",
   "execution_count": 42,
   "id": "9bc6ba05-2981-423b-8654-9f5fcc098ca4",
   "metadata": {},
   "outputs": [
    {
     "name": "stdout",
     "output_type": "stream",
     "text": [
      "True\n"
     ]
    }
   ],
   "source": [
    "print(s3 == s4)"
   ]
  },
  {
   "cell_type": "code",
   "execution_count": 43,
   "id": "ef14c190-b8b4-4cb2-9d65-45d2a66fa470",
   "metadata": {},
   "outputs": [
    {
     "name": "stdout",
     "output_type": "stream",
     "text": [
      "{'z', 'm', 'b', 'a'}\n"
     ]
    }
   ],
   "source": [
    "print(s4)"
   ]
  },
  {
   "cell_type": "code",
   "execution_count": 44,
   "id": "c3eb7649-491d-43d5-921d-5d2d09e48a65",
   "metadata": {},
   "outputs": [
    {
     "name": "stdout",
     "output_type": "stream",
     "text": [
      "None\n"
     ]
    }
   ],
   "source": [
    "print(s4.clear())"
   ]
  },
  {
   "cell_type": "code",
   "execution_count": 45,
   "id": "b611c5eb-0a61-4bfe-94d0-38ea0ea5f2e2",
   "metadata": {},
   "outputs": [
    {
     "name": "stdout",
     "output_type": "stream",
     "text": [
      "set()\n"
     ]
    }
   ],
   "source": [
    "print(s4)"
   ]
  },
  {
   "cell_type": "code",
   "execution_count": 46,
   "id": "1d83e953-5466-4c61-b88a-c43caa53a399",
   "metadata": {},
   "outputs": [
    {
     "name": "stdout",
     "output_type": "stream",
     "text": [
      "{200, 9, 10, 100}\n"
     ]
    }
   ],
   "source": [
    "s4 = s2.copy()\n",
    "print(s4)"
   ]
  },
  {
   "cell_type": "code",
   "execution_count": 47,
   "id": "fde21444-0d7b-4626-87b7-56329d4d059b",
   "metadata": {},
   "outputs": [
    {
     "name": "stdout",
     "output_type": "stream",
     "text": [
      "{9, 10, 100}\n"
     ]
    }
   ],
   "source": [
    "s4.pop()\n",
    "print(s4)"
   ]
  },
  {
   "cell_type": "code",
   "execution_count": 48,
   "id": "a0f1113f-fc71-4598-95fa-d9606204ee38",
   "metadata": {},
   "outputs": [
    {
     "name": "stdout",
     "output_type": "stream",
     "text": [
      "{'z', 'm', 'b', 'a'}\n",
      "{True, 3.2, (1+2j), 10, 20, 'nit'}\n"
     ]
    }
   ],
   "source": [
    "print(s3)\n",
    "print(s1)"
   ]
  },
  {
   "cell_type": "code",
   "execution_count": 50,
   "id": "d3087b84-28ce-460b-8a31-6cd470e5e193",
   "metadata": {},
   "outputs": [
    {
     "ename": "TypeError",
     "evalue": "set.pop() takes no arguments (1 given)",
     "output_type": "error",
     "traceback": [
      "\u001b[1;31m---------------------------------------------------------------------------\u001b[0m",
      "\u001b[1;31mTypeError\u001b[0m                                 Traceback (most recent call last)",
      "Cell \u001b[1;32mIn[50], line 1\u001b[0m\n\u001b[1;32m----> 1\u001b[0m \u001b[43ms1\u001b[49m\u001b[38;5;241;43m.\u001b[39;49m\u001b[43mpop\u001b[49m\u001b[43m(\u001b[49m\u001b[38;5;241;43m0\u001b[39;49m\u001b[43m)\u001b[49m   \u001b[38;5;66;03m# No Arguments\u001b[39;00m\n",
      "\u001b[1;31mTypeError\u001b[0m: set.pop() takes no arguments (1 given)"
     ]
    }
   ],
   "source": [
    "s1.pop(0)   # No Arguments"
   ]
  },
  {
   "cell_type": "code",
   "execution_count": 51,
   "id": "f1ddd6bd-db38-4f24-8274-cdfe16993115",
   "metadata": {},
   "outputs": [
    {
     "name": "stdout",
     "output_type": "stream",
     "text": [
      "{True, 3.2, (1+2j), 10, 20, 'nit'}\n"
     ]
    }
   ],
   "source": [
    "print(s1)"
   ]
  },
  {
   "cell_type": "code",
   "execution_count": 52,
   "id": "abb0036d-831e-4de9-8ef4-2ca6a912053d",
   "metadata": {},
   "outputs": [
    {
     "name": "stdout",
     "output_type": "stream",
     "text": [
      "{True, 3.2, 10, 20, 'nit'}\n"
     ]
    }
   ],
   "source": [
    "s1.remove((1+2j))\n",
    "print(s1)"
   ]
  },
  {
   "cell_type": "code",
   "execution_count": 53,
   "id": "cc883252-9aa1-45cf-a2e2-854db7f50229",
   "metadata": {},
   "outputs": [
    {
     "name": "stdout",
     "output_type": "stream",
     "text": [
      "True\n",
      "3.2\n",
      "10\n",
      "20\n",
      "nit\n"
     ]
    }
   ],
   "source": [
    "for i in s1:\n",
    "    print(i)"
   ]
  },
  {
   "cell_type": "code",
   "execution_count": 54,
   "id": "abbdab82-dc69-4af8-8f42-7b82222eb270",
   "metadata": {},
   "outputs": [
    {
     "name": "stdout",
     "output_type": "stream",
     "text": [
      "(0, True)\n",
      "(1, 3.2)\n",
      "(2, 10)\n",
      "(3, 20)\n",
      "(4, 'nit')\n"
     ]
    }
   ],
   "source": [
    "for i in enumerate(s1):\n",
    "    print(i)"
   ]
  },
  {
   "cell_type": "markdown",
   "id": "51267ac5-5f6b-4e25-8e08-c069278bd4fb",
   "metadata": {},
   "source": [
    "# Set Operation"
   ]
  },
  {
   "cell_type": "code",
   "execution_count": 3,
   "id": "6c773d6e-e97b-41c9-8af2-c42a4ecd0b73",
   "metadata": {},
   "outputs": [],
   "source": [
    "A = {1,2,3,4,5}\n",
    "B = {4,5,6,7,8}\n",
    "C = {8,9,10}"
   ]
  },
  {
   "cell_type": "code",
   "execution_count": 4,
   "id": "ffca1f66-5717-411b-a79b-865ac9f69215",
   "metadata": {},
   "outputs": [
    {
     "data": {
      "text/plain": [
       "{1, 2, 3, 4, 5, 6, 7, 8}"
      ]
     },
     "execution_count": 4,
     "metadata": {},
     "output_type": "execute_result"
    }
   ],
   "source": [
    "A | B   # Union"
   ]
  },
  {
   "cell_type": "code",
   "execution_count": 6,
   "id": "7167781f-9e74-4268-91a5-7d34dc07e25d",
   "metadata": {},
   "outputs": [
    {
     "data": {
      "text/plain": [
       "{4, 5, 6, 7, 8, 9, 10}"
      ]
     },
     "execution_count": 6,
     "metadata": {},
     "output_type": "execute_result"
    }
   ],
   "source": [
    "B.union(C)"
   ]
  },
  {
   "cell_type": "code",
   "execution_count": 7,
   "id": "9a803d0b-60e1-45f0-b105-fb1355c2bcf6",
   "metadata": {},
   "outputs": [
    {
     "data": {
      "text/plain": [
       "{1, 2, 3, 4, 5, 6, 7, 8, 9, 10}"
      ]
     },
     "execution_count": 7,
     "metadata": {},
     "output_type": "execute_result"
    }
   ],
   "source": [
    "C | B | A"
   ]
  },
  {
   "cell_type": "code",
   "execution_count": 8,
   "id": "2fb9da86-eed6-470f-9e71-f58128a2987a",
   "metadata": {},
   "outputs": [
    {
     "data": {
      "text/plain": [
       "{8, 9, 10}"
      ]
     },
     "execution_count": 8,
     "metadata": {},
     "output_type": "execute_result"
    }
   ],
   "source": [
    "C"
   ]
  },
  {
   "cell_type": "code",
   "execution_count": 9,
   "id": "9c07a71f-560d-419f-93f0-61eaf9d447c2",
   "metadata": {},
   "outputs": [
    {
     "data": {
      "text/plain": [
       "{8, 9, 10}"
      ]
     },
     "execution_count": 9,
     "metadata": {},
     "output_type": "execute_result"
    }
   ],
   "source": [
    "D = C.copy()\n",
    "D"
   ]
  },
  {
   "cell_type": "code",
   "execution_count": 10,
   "id": "2ae32dac-b592-4f6c-a6b6-1cad50e17926",
   "metadata": {},
   "outputs": [
    {
     "name": "stdout",
     "output_type": "stream",
     "text": [
      "{8, 9, 10}\n",
      "{8, 9, 10}\n"
     ]
    }
   ],
   "source": [
    "print(C)\n",
    "print(D)"
   ]
  },
  {
   "cell_type": "code",
   "execution_count": 11,
   "id": "705c75b0-07df-47c8-a7b7-f937925f7608",
   "metadata": {},
   "outputs": [
    {
     "name": "stdout",
     "output_type": "stream",
     "text": [
      "{8, 9, 10}\n"
     ]
    }
   ],
   "source": [
    "C.update(D)\n",
    "print(C)"
   ]
  },
  {
   "cell_type": "code",
   "execution_count": 12,
   "id": "36a3a00c-b81e-4d9b-9b6a-ef23f18407b1",
   "metadata": {},
   "outputs": [
    {
     "name": "stdout",
     "output_type": "stream",
     "text": [
      "{4, 5, 6, 7, 8, 9, 10}\n"
     ]
    }
   ],
   "source": [
    "C.update(B)\n",
    "print(C)"
   ]
  },
  {
   "cell_type": "code",
   "execution_count": 13,
   "id": "ceeeddb7-d045-4a79-b372-d9365c9d3c04",
   "metadata": {},
   "outputs": [
    {
     "name": "stdout",
     "output_type": "stream",
     "text": [
      "{1, 2, 3, 4, 5}\n",
      "{4, 5, 6, 7, 8}\n",
      "{4, 5, 6, 7, 8, 9, 10}\n"
     ]
    }
   ],
   "source": [
    "print(A)\n",
    "print(B)\n",
    "print(C)"
   ]
  },
  {
   "cell_type": "code",
   "execution_count": 14,
   "id": "e755a5a3-9f90-4338-891d-cb9e0e7538f8",
   "metadata": {},
   "outputs": [
    {
     "name": "stdout",
     "output_type": "stream",
     "text": [
      "{4, 5}\n"
     ]
    }
   ],
   "source": [
    "print( A & B)   # Intersection"
   ]
  },
  {
   "cell_type": "code",
   "execution_count": 17,
   "id": "6b54914e-2098-4786-b517-b45241715889",
   "metadata": {},
   "outputs": [
    {
     "name": "stdout",
     "output_type": "stream",
     "text": [
      "{4, 5, 6, 7, 8}\n"
     ]
    }
   ],
   "source": [
    "print(B.intersection (C))"
   ]
  },
  {
   "cell_type": "code",
   "execution_count": 18,
   "id": "1ce5ef82-e5ca-4694-9e68-b6fe49ee88f4",
   "metadata": {},
   "outputs": [
    {
     "name": "stdout",
     "output_type": "stream",
     "text": [
      "{4, 5}\n"
     ]
    }
   ],
   "source": [
    "print( A & B & C)"
   ]
  },
  {
   "cell_type": "markdown",
   "id": "7789d1ca-87fd-488b-835e-2ea7a6f5e80c",
   "metadata": {},
   "source": [
    "# Difference"
   ]
  },
  {
   "cell_type": "code",
   "execution_count": 3,
   "id": "d3e1263c-00d5-41ad-8218-6e3d0e70bfa3",
   "metadata": {},
   "outputs": [
    {
     "name": "stdout",
     "output_type": "stream",
     "text": [
      "{1, 2, 3, 4, 5}\n",
      "{4, 5, 6, 7, 8}\n",
      "{8, 9, 10}\n"
     ]
    }
   ],
   "source": [
    "A = {1,2,3,4,5}\n",
    "B = {4,5,6,7,8}\n",
    "C = {8,9,10}\n",
    "print(A)\n",
    "print(B)\n",
    "print(C)"
   ]
  },
  {
   "cell_type": "code",
   "execution_count": 20,
   "id": "3dd32432-30b3-4e17-ae14-a09352466e9b",
   "metadata": {},
   "outputs": [
    {
     "name": "stdout",
     "output_type": "stream",
     "text": [
      "{1, 2, 3}\n"
     ]
    }
   ],
   "source": [
    "print(A-B)         # difference  (prints uncommon items)"
   ]
  },
  {
   "cell_type": "code",
   "execution_count": 21,
   "id": "1ff898ac-4be6-4308-98cc-4c5a41280d9b",
   "metadata": {},
   "outputs": [
    {
     "name": "stdout",
     "output_type": "stream",
     "text": [
      "set()\n"
     ]
    }
   ],
   "source": [
    "print(B-C)"
   ]
  },
  {
   "cell_type": "code",
   "execution_count": 22,
   "id": "96dbb3bb-474a-4cfc-b5d5-ac656bef4391",
   "metadata": {},
   "outputs": [
    {
     "name": "stdout",
     "output_type": "stream",
     "text": [
      "{9, 10}\n"
     ]
    }
   ],
   "source": [
    "print(C-B)"
   ]
  },
  {
   "cell_type": "code",
   "execution_count": 23,
   "id": "7cc05b92-295c-47b6-9ee4-4820c3fb6485",
   "metadata": {},
   "outputs": [
    {
     "data": {
      "text/plain": [
       "{6, 7, 8, 9, 10}"
      ]
     },
     "execution_count": 23,
     "metadata": {},
     "output_type": "execute_result"
    }
   ],
   "source": [
    "C.difference(A)"
   ]
  },
  {
   "cell_type": "markdown",
   "id": "ea2c1f64-920c-43a2-9113-dfcbc345fcd6",
   "metadata": {},
   "source": [
    "# 25th April 2025"
   ]
  },
  {
   "cell_type": "code",
   "execution_count": 4,
   "id": "366a6b80-2d70-4775-aeb5-eef2e7dd6ced",
   "metadata": {},
   "outputs": [
    {
     "name": "stdout",
     "output_type": "stream",
     "text": [
      "{1, 2, 3, 4, 5}\n",
      "{4, 5, 6, 7, 8}\n",
      "{8, 9, 10}\n"
     ]
    }
   ],
   "source": [
    "print(A)\n",
    "print(B)\n",
    "print(C)"
   ]
  },
  {
   "cell_type": "code",
   "execution_count": 5,
   "id": "e24e1fcd-e4c6-43f8-8d9b-7e66f12ffa7e",
   "metadata": {},
   "outputs": [
    {
     "data": {
      "text/plain": [
       "{1, 2, 3}"
      ]
     },
     "execution_count": 5,
     "metadata": {},
     "output_type": "execute_result"
    }
   ],
   "source": [
    "A.difference(B)"
   ]
  },
  {
   "cell_type": "code",
   "execution_count": 6,
   "id": "fa8337ba-a516-4888-ba51-345019f33ecb",
   "metadata": {},
   "outputs": [
    {
     "data": {
      "text/plain": [
       "{1, 2, 3, 6, 7, 8}"
      ]
     },
     "execution_count": 6,
     "metadata": {},
     "output_type": "execute_result"
    }
   ],
   "source": [
    "A.symmetric_difference(B)"
   ]
  },
  {
   "cell_type": "code",
   "execution_count": 8,
   "id": "94b95bf0-e169-443f-b638-83e47f56b3ae",
   "metadata": {},
   "outputs": [],
   "source": [
    "s3 = {'a', 'b', 'm', 'z'}"
   ]
  },
  {
   "cell_type": "code",
   "execution_count": 9,
   "id": "1153d9a7-dad3-4ccb-81b2-994930049109",
   "metadata": {},
   "outputs": [
    {
     "ename": "KeyError",
     "evalue": "'x'",
     "output_type": "error",
     "traceback": [
      "\u001b[1;31m---------------------------------------------------------------------------\u001b[0m",
      "\u001b[1;31mKeyError\u001b[0m                                  Traceback (most recent call last)",
      "Cell \u001b[1;32mIn[9], line 1\u001b[0m\n\u001b[1;32m----> 1\u001b[0m \u001b[43ms3\u001b[49m\u001b[38;5;241;43m.\u001b[39;49m\u001b[43mremove\u001b[49m\u001b[43m(\u001b[49m\u001b[38;5;124;43m'\u001b[39;49m\u001b[38;5;124;43mx\u001b[39;49m\u001b[38;5;124;43m'\u001b[39;49m\u001b[43m)\u001b[49m\n",
      "\u001b[1;31mKeyError\u001b[0m: 'x'"
     ]
    }
   ],
   "source": [
    "s3.remove('x')"
   ]
  },
  {
   "cell_type": "code",
   "execution_count": 11,
   "id": "3bea9feb-ee96-45c2-9a34-425f8ea72201",
   "metadata": {},
   "outputs": [
    {
     "data": {
      "text/plain": [
       "{'a', 'b', 'm'}"
      ]
     },
     "execution_count": 11,
     "metadata": {},
     "output_type": "execute_result"
    }
   ],
   "source": [
    "s3.discard('z')\n",
    "s3"
   ]
  },
  {
   "cell_type": "markdown",
   "id": "f1cb3da4-c0ae-4fc3-a75a-c2392409cffd",
   "metadata": {},
   "source": [
    "# superset\n",
    "# subset\n",
    "# disjoint"
   ]
  },
  {
   "cell_type": "code",
   "execution_count": 12,
   "id": "8e7310dc-de3c-410f-a152-437eb58ad4b6",
   "metadata": {},
   "outputs": [],
   "source": [
    "a9 = {1,2,3,4,5,6,7,8,9}\n",
    "b9 = {3,4,5,6,7,8}\n",
    "c9 = {10,20,30,40}"
   ]
  },
  {
   "cell_type": "code",
   "execution_count": 13,
   "id": "a40f749e-6105-46ea-ad28-70b6fc126820",
   "metadata": {},
   "outputs": [
    {
     "data": {
      "text/plain": [
       "True"
      ]
     },
     "execution_count": 13,
     "metadata": {},
     "output_type": "execute_result"
    }
   ],
   "source": [
    "b9.issubset(a9)"
   ]
  },
  {
   "cell_type": "code",
   "execution_count": 14,
   "id": "76710e6d-dbae-4053-bef9-676e3c09eb0a",
   "metadata": {},
   "outputs": [
    {
     "data": {
      "text/plain": [
       "True"
      ]
     },
     "execution_count": 14,
     "metadata": {},
     "output_type": "execute_result"
    }
   ],
   "source": [
    "a9.issuperset(b9)"
   ]
  },
  {
   "cell_type": "code",
   "execution_count": 15,
   "id": "eed88bbe-5ad0-454e-9e62-bf6a8ef1f28a",
   "metadata": {},
   "outputs": [
    {
     "data": {
      "text/plain": [
       "False"
      ]
     },
     "execution_count": 15,
     "metadata": {},
     "output_type": "execute_result"
    }
   ],
   "source": [
    "c9.issubset(b9)"
   ]
  },
  {
   "cell_type": "code",
   "execution_count": 16,
   "id": "357cd8e1-0435-4874-8e55-35951fdcdad7",
   "metadata": {},
   "outputs": [
    {
     "data": {
      "text/plain": [
       "True"
      ]
     },
     "execution_count": 16,
     "metadata": {},
     "output_type": "execute_result"
    }
   ],
   "source": [
    "c9.isdisjoint(b9)"
   ]
  },
  {
   "cell_type": "code",
   "execution_count": 17,
   "id": "6b0d4ce6-5074-46b5-be55-957805a44bd8",
   "metadata": {},
   "outputs": [
    {
     "data": {
      "text/plain": [
       "True"
      ]
     },
     "execution_count": 17,
     "metadata": {},
     "output_type": "execute_result"
    }
   ],
   "source": [
    "c9.isdisjoint(a9)"
   ]
  },
  {
   "cell_type": "code",
   "execution_count": 18,
   "id": "8fa0b49d-ed3b-426b-bddc-9a20be20d630",
   "metadata": {},
   "outputs": [],
   "source": [
    "a8 = {1,2,3,4,5,6}\n",
    "b8 = {7,8,9}\n",
    "c8 = {10,20,30,40}"
   ]
  },
  {
   "cell_type": "code",
   "execution_count": 19,
   "id": "6ef5a9dc-64bd-4a06-8ade-e68e048970ad",
   "metadata": {},
   "outputs": [
    {
     "data": {
      "text/plain": [
       "False"
      ]
     },
     "execution_count": 19,
     "metadata": {},
     "output_type": "execute_result"
    }
   ],
   "source": [
    "a8.issuperset(b8)"
   ]
  },
  {
   "cell_type": "code",
   "execution_count": 20,
   "id": "d5b4134e-9f5c-49f0-9043-5d2f24caee74",
   "metadata": {},
   "outputs": [
    {
     "data": {
      "text/plain": [
       "False"
      ]
     },
     "execution_count": 20,
     "metadata": {},
     "output_type": "execute_result"
    }
   ],
   "source": [
    "b8.issubset(a8)"
   ]
  },
  {
   "cell_type": "code",
   "execution_count": 21,
   "id": "ff8b3723-267e-4fbf-b691-94bdfcefa6ae",
   "metadata": {},
   "outputs": [
    {
     "data": {
      "text/plain": [
       "True"
      ]
     },
     "execution_count": 21,
     "metadata": {},
     "output_type": "execute_result"
    }
   ],
   "source": [
    "c8.isdisjoint(b8)"
   ]
  },
  {
   "cell_type": "code",
   "execution_count": 22,
   "id": "27fa3772-4c7f-4411-9e62-a8993d88eb3f",
   "metadata": {},
   "outputs": [
    {
     "data": {
      "text/plain": [
       "True"
      ]
     },
     "execution_count": 22,
     "metadata": {},
     "output_type": "execute_result"
    }
   ],
   "source": [
    "c8.isdisjoint(a8)"
   ]
  },
  {
   "cell_type": "markdown",
   "id": "17c23e49-8fa0-4459-8808-9b6b4f2d5b1f",
   "metadata": {},
   "source": [
    "# Dictionary Data Structure"
   ]
  },
  {
   "cell_type": "code",
   "execution_count": 23,
   "id": "f321614c-b671-40cd-b6a8-9b067cfc715d",
   "metadata": {},
   "outputs": [
    {
     "data": {
      "text/plain": [
       "dict"
      ]
     },
     "execution_count": 23,
     "metadata": {},
     "output_type": "execute_result"
    }
   ],
   "source": [
    "d = {}\n",
    "type(d)"
   ]
  },
  {
   "cell_type": "code",
   "execution_count": 24,
   "id": "e691e9f9-9153-4672-bfc3-cc9ab947f272",
   "metadata": {},
   "outputs": [],
   "source": [
    "d = {1:'one', 2:'two', 3:'three', 4:'four'}"
   ]
  },
  {
   "cell_type": "code",
   "execution_count": 25,
   "id": "863fc04b-7a49-477e-9423-3c41dc157031",
   "metadata": {},
   "outputs": [
    {
     "data": {
      "text/plain": [
       "dict_keys([1, 2, 3, 4])"
      ]
     },
     "execution_count": 25,
     "metadata": {},
     "output_type": "execute_result"
    }
   ],
   "source": [
    "d.keys()"
   ]
  },
  {
   "cell_type": "code",
   "execution_count": 26,
   "id": "e50a5984-676a-455e-8f8c-104554400d02",
   "metadata": {},
   "outputs": [
    {
     "data": {
      "text/plain": [
       "dict_values(['one', 'two', 'three', 'four'])"
      ]
     },
     "execution_count": 26,
     "metadata": {},
     "output_type": "execute_result"
    }
   ],
   "source": [
    "d.values()"
   ]
  },
  {
   "cell_type": "code",
   "execution_count": 27,
   "id": "fb0e0ff6-949d-4a11-940f-8df26fd6eaca",
   "metadata": {},
   "outputs": [
    {
     "data": {
      "text/plain": [
       "dict_items([(1, 'one'), (2, 'two'), (3, 'three'), (4, 'four')])"
      ]
     },
     "execution_count": 27,
     "metadata": {},
     "output_type": "execute_result"
    }
   ],
   "source": [
    "d.items()"
   ]
  },
  {
   "cell_type": "code",
   "execution_count": 28,
   "id": "506756ec-a602-494f-9df6-f2c1026d37b4",
   "metadata": {},
   "outputs": [
    {
     "data": {
      "text/plain": [
       "4"
      ]
     },
     "execution_count": 28,
     "metadata": {},
     "output_type": "execute_result"
    }
   ],
   "source": [
    "len(d)"
   ]
  },
  {
   "cell_type": "code",
   "execution_count": 29,
   "id": "d3004458-ad7a-4b5a-8597-db7e22620966",
   "metadata": {},
   "outputs": [
    {
     "data": {
      "text/plain": [
       "'four'"
      ]
     },
     "execution_count": 29,
     "metadata": {},
     "output_type": "execute_result"
    }
   ],
   "source": [
    "d[4]"
   ]
  },
  {
   "cell_type": "code",
   "execution_count": 30,
   "id": "84a1d06e-e355-4595-b3f5-1f49aa02f330",
   "metadata": {},
   "outputs": [
    {
     "data": {
      "text/plain": [
       "'one'"
      ]
     },
     "execution_count": 30,
     "metadata": {},
     "output_type": "execute_result"
    }
   ],
   "source": [
    "d.get(1)"
   ]
  },
  {
   "cell_type": "code",
   "execution_count": 31,
   "id": "746cc9d6-1dc6-4d97-a2f0-409e97ec565c",
   "metadata": {},
   "outputs": [],
   "source": [
    "d.get('one') # wrong"
   ]
  },
  {
   "cell_type": "code",
   "execution_count": 32,
   "id": "a1757bdd-7a2a-4b23-a2e6-727a6e25c316",
   "metadata": {},
   "outputs": [],
   "source": [
    "d1 = d.copy()"
   ]
  },
  {
   "cell_type": "code",
   "execution_count": 33,
   "id": "deb779b8-35aa-4153-9314-cec47c97cd55",
   "metadata": {},
   "outputs": [
    {
     "data": {
      "text/plain": [
       "{1: 'one', 2: 'two', 3: 'three', 4: 'four'}"
      ]
     },
     "execution_count": 33,
     "metadata": {},
     "output_type": "execute_result"
    }
   ],
   "source": [
    "d1"
   ]
  },
  {
   "cell_type": "code",
   "execution_count": 34,
   "id": "3439a59c-3a80-4261-8e33-833c53937ec6",
   "metadata": {},
   "outputs": [
    {
     "data": {
      "text/plain": [
       "'one'"
      ]
     },
     "execution_count": 34,
     "metadata": {},
     "output_type": "execute_result"
    }
   ],
   "source": [
    "d1.pop(1)"
   ]
  },
  {
   "cell_type": "code",
   "execution_count": 35,
   "id": "882566fd-85e0-4877-9ba9-e443d3e2ac49",
   "metadata": {},
   "outputs": [
    {
     "data": {
      "text/plain": [
       "(4, 'four')"
      ]
     },
     "execution_count": 35,
     "metadata": {},
     "output_type": "execute_result"
    }
   ],
   "source": [
    "d1.popitem()"
   ]
  },
  {
   "cell_type": "code",
   "execution_count": 37,
   "id": "b30afd61-98b4-4703-945f-eb4c11086ed7",
   "metadata": {},
   "outputs": [
    {
     "name": "stdout",
     "output_type": "stream",
     "text": [
      "1\n",
      "2\n",
      "3\n",
      "4\n"
     ]
    }
   ],
   "source": [
    "for i in d:\n",
    "    print(i)    "
   ]
  },
  {
   "cell_type": "code",
   "execution_count": 38,
   "id": "51b53efe-79a5-4282-b4e7-ce5c0b9c1cf6",
   "metadata": {},
   "outputs": [
    {
     "name": "stdout",
     "output_type": "stream",
     "text": [
      "1 : one\n",
      "2 : two\n",
      "3 : three\n",
      "4 : four\n"
     ]
    }
   ],
   "source": [
    "for i in d:\n",
    "    print(i,':', d[i]) "
   ]
  },
  {
   "cell_type": "code",
   "execution_count": 39,
   "id": "b3296cda-286a-4b27-9059-0a0287db07ec",
   "metadata": {},
   "outputs": [
    {
     "name": "stdout",
     "output_type": "stream",
     "text": [
      "1 : {1: 'one', 2: 'two', 3: 'three', 4: 'four'}\n",
      "2 : {1: 'one', 2: 'two', 3: 'three', 4: 'four'}\n",
      "3 : {1: 'one', 2: 'two', 3: 'three', 4: 'four'}\n",
      "4 : {1: 'one', 2: 'two', 3: 'three', 4: 'four'}\n"
     ]
    }
   ],
   "source": [
    "for i in d:\n",
    "    print(i,':', d) "
   ]
  },
  {
   "cell_type": "markdown",
   "id": "67472146-6f86-492f-9413-097651468efd",
   "metadata": {},
   "source": [
    "# Range"
   ]
  },
  {
   "cell_type": "code",
   "execution_count": 40,
   "id": "a192729b-f9e2-4909-9e39-9066bc29853f",
   "metadata": {},
   "outputs": [
    {
     "data": {
      "text/plain": [
       "range(0, 10)"
      ]
     },
     "execution_count": 40,
     "metadata": {},
     "output_type": "execute_result"
    }
   ],
   "source": [
    "range(10)"
   ]
  },
  {
   "cell_type": "code",
   "execution_count": 41,
   "id": "236feba4-7d6e-45ad-9239-f3753dfe4557",
   "metadata": {},
   "outputs": [
    {
     "data": {
      "text/plain": [
       "range(0, 10)"
      ]
     },
     "execution_count": 41,
     "metadata": {},
     "output_type": "execute_result"
    }
   ],
   "source": [
    "r = range(10)\n",
    "r"
   ]
  },
  {
   "cell_type": "code",
   "execution_count": 42,
   "id": "cd84c888-3319-4b12-b8d0-326625e433ca",
   "metadata": {},
   "outputs": [
    {
     "name": "stdout",
     "output_type": "stream",
     "text": [
      "0\n",
      "1\n",
      "2\n",
      "3\n",
      "4\n",
      "5\n",
      "6\n",
      "7\n",
      "8\n",
      "9\n"
     ]
    }
   ],
   "source": [
    "for i in r:\n",
    "    print(i)"
   ]
  },
  {
   "cell_type": "code",
   "execution_count": 43,
   "id": "4f9a0723-7d4d-4a7b-9d03-8c44e85221eb",
   "metadata": {},
   "outputs": [
    {
     "data": {
      "text/plain": [
       "[0, 1, 2, 3, 4, 5, 6, 7, 8, 9]"
      ]
     },
     "execution_count": 43,
     "metadata": {},
     "output_type": "execute_result"
    }
   ],
   "source": [
    "list(r)"
   ]
  },
  {
   "cell_type": "code",
   "execution_count": 44,
   "id": "950dbd56-47c8-4ef6-97bb-4c697f07e100",
   "metadata": {},
   "outputs": [
    {
     "data": {
      "text/plain": [
       "range(10, 20)"
      ]
     },
     "execution_count": 44,
     "metadata": {},
     "output_type": "execute_result"
    }
   ],
   "source": [
    "r1 = range(10,20)\n",
    "r1"
   ]
  },
  {
   "cell_type": "code",
   "execution_count": 45,
   "id": "b8ef1c8f-7859-4b64-a65b-dc1558f5ced5",
   "metadata": {},
   "outputs": [
    {
     "data": {
      "text/plain": [
       "[10, 11, 12, 13, 14, 15, 16, 17, 18, 19]"
      ]
     },
     "execution_count": 45,
     "metadata": {},
     "output_type": "execute_result"
    }
   ],
   "source": [
    "list(r1)"
   ]
  },
  {
   "cell_type": "code",
   "execution_count": 46,
   "id": "9e44168d-2ea9-44a4-a2d9-ddbc5a7547d0",
   "metadata": {},
   "outputs": [
    {
     "data": {
      "text/plain": [
       "[0, 1, 2, 3, 4, 5, 6, 7, 8, 9]"
      ]
     },
     "execution_count": 46,
     "metadata": {},
     "output_type": "execute_result"
    }
   ],
   "source": [
    "list(range(0,10))"
   ]
  },
  {
   "cell_type": "code",
   "execution_count": 47,
   "id": "c2c3e8de-cec0-4f1c-b097-eb536019fdf7",
   "metadata": {},
   "outputs": [
    {
     "data": {
      "text/plain": [
       "[10, 11, 12, 13, 14, 15, 16, 17, 18, 19]"
      ]
     },
     "execution_count": 47,
     "metadata": {},
     "output_type": "execute_result"
    }
   ],
   "source": [
    "list(range(10,20))"
   ]
  },
  {
   "cell_type": "code",
   "execution_count": 48,
   "id": "466940d6-e8b5-4e3c-b240-e0b4cc4e5e2a",
   "metadata": {},
   "outputs": [
    {
     "data": {
      "text/plain": [
       "[10, 20, 30, 40, 50, 60, 70, 80, 90]"
      ]
     },
     "execution_count": 48,
     "metadata": {},
     "output_type": "execute_result"
    }
   ],
   "source": [
    "list(range(10,100,10))"
   ]
  },
  {
   "cell_type": "code",
   "execution_count": 49,
   "id": "4c4b3884-794a-4e04-808f-1cfef31350fa",
   "metadata": {},
   "outputs": [
    {
     "ename": "TypeError",
     "evalue": "range expected at most 3 arguments, got 4",
     "output_type": "error",
     "traceback": [
      "\u001b[1;31m---------------------------------------------------------------------------\u001b[0m",
      "\u001b[1;31mTypeError\u001b[0m                                 Traceback (most recent call last)",
      "Cell \u001b[1;32mIn[49], line 1\u001b[0m\n\u001b[1;32m----> 1\u001b[0m \u001b[38;5;28mlist\u001b[39m(\u001b[38;5;28;43mrange\u001b[39;49m\u001b[43m(\u001b[49m\u001b[38;5;241;43m10\u001b[39;49m\u001b[43m,\u001b[49m\u001b[38;5;241;43m100\u001b[39;49m\u001b[43m,\u001b[49m\u001b[38;5;241;43m10\u001b[39;49m\u001b[43m,\u001b[49m\u001b[38;5;241;43m5\u001b[39;49m\u001b[43m)\u001b[49m)\n",
      "\u001b[1;31mTypeError\u001b[0m: range expected at most 3 arguments, got 4"
     ]
    }
   ],
   "source": [
    "list(range(10,100,10,5))"
   ]
  },
  {
   "cell_type": "markdown",
   "id": "ca01fd11-f5df-4877-896e-c16ab3f8fc2d",
   "metadata": {},
   "source": [
    "# 28th April 2025"
   ]
  },
  {
   "cell_type": "raw",
   "id": "b5c66e7a-561d-4a84-95ce-76d4d1d5ed11",
   "metadata": {},
   "source": [
    "# Number System\n",
    "1. Binary - base value is 2 (0b) (bin)\n",
    "2. Octal - base value is 8 (0o) (oct)\n",
    "3. Decimal - base value is 10 (0x) (Dec)\n",
    "4. HexaDecimal - base value is 0,1,2,3,4,5,6,7,8,9,a=10,b=11,c=12,d=13,e=14,f=15 (0x) (Hex)\n",
    "\n",
    "binary : base (0-1) --> please divide 15/2 & count in reverse order \n",
    "octal : base (0-7)\n",
    "hexadecimal : base (0-9 & then a-f)\n",
    "when you check ipaddress you will these format --> cmd - ipconfig"
   ]
  },
  {
   "cell_type": "code",
   "execution_count": 1,
   "id": "ac8a7f1a-f265-4676-aa66-f0ad0e92fdff",
   "metadata": {},
   "outputs": [
    {
     "data": {
      "text/plain": [
       "'0b11001'"
      ]
     },
     "execution_count": 1,
     "metadata": {},
     "output_type": "execute_result"
    }
   ],
   "source": [
    "25\n",
    "bin(25)"
   ]
  },
  {
   "cell_type": "code",
   "execution_count": 2,
   "id": "c58d6d5e-8282-4067-8883-63a620b91632",
   "metadata": {},
   "outputs": [
    {
     "data": {
      "text/plain": [
       "25"
      ]
     },
     "execution_count": 2,
     "metadata": {},
     "output_type": "execute_result"
    }
   ],
   "source": [
    "int(0b11001)"
   ]
  },
  {
   "cell_type": "code",
   "execution_count": 3,
   "id": "93f4ee80-a05d-4c32-8878-76607ab75397",
   "metadata": {},
   "outputs": [
    {
     "data": {
      "text/plain": [
       "'0b100011'"
      ]
     },
     "execution_count": 3,
     "metadata": {},
     "output_type": "execute_result"
    }
   ],
   "source": [
    "bin(35)"
   ]
  },
  {
   "cell_type": "code",
   "execution_count": 4,
   "id": "456ac5a6-3f02-4353-b666-d5111ca50cdd",
   "metadata": {},
   "outputs": [
    {
     "data": {
      "text/plain": [
       "'0b10100'"
      ]
     },
     "execution_count": 4,
     "metadata": {},
     "output_type": "execute_result"
    }
   ],
   "source": [
    "bin(20)"
   ]
  },
  {
   "cell_type": "code",
   "execution_count": 5,
   "id": "cef0171a-c135-4df5-914a-2efe0c9e1ee9",
   "metadata": {},
   "outputs": [
    {
     "data": {
      "text/plain": [
       "20"
      ]
     },
     "execution_count": 5,
     "metadata": {},
     "output_type": "execute_result"
    }
   ],
   "source": [
    "int(0b10100)"
   ]
  },
  {
   "cell_type": "code",
   "execution_count": 6,
   "id": "d40432ab-3851-4522-880d-536542c67780",
   "metadata": {},
   "outputs": [
    {
     "data": {
      "text/plain": [
       "15"
      ]
     },
     "execution_count": 6,
     "metadata": {},
     "output_type": "execute_result"
    }
   ],
   "source": [
    "0b1111"
   ]
  },
  {
   "cell_type": "code",
   "execution_count": 7,
   "id": "175feabc-c296-419f-8c9d-86b80eb62b68",
   "metadata": {},
   "outputs": [
    {
     "data": {
      "text/plain": [
       "'0o17'"
      ]
     },
     "execution_count": 7,
     "metadata": {},
     "output_type": "execute_result"
    }
   ],
   "source": [
    "oct(15)"
   ]
  },
  {
   "cell_type": "code",
   "execution_count": 8,
   "id": "09a80de1-1429-448d-8254-3ca9ce731cde",
   "metadata": {},
   "outputs": [
    {
     "data": {
      "text/plain": [
       "'0x9'"
      ]
     },
     "execution_count": 8,
     "metadata": {},
     "output_type": "execute_result"
    }
   ],
   "source": [
    "hex(9)"
   ]
  },
  {
   "cell_type": "code",
   "execution_count": 9,
   "id": "22a590e9-8767-4834-b2dd-637cf90ee603",
   "metadata": {},
   "outputs": [
    {
     "data": {
      "text/plain": [
       "15"
      ]
     },
     "execution_count": 9,
     "metadata": {},
     "output_type": "execute_result"
    }
   ],
   "source": [
    "0xf"
   ]
  },
  {
   "cell_type": "code",
   "execution_count": 10,
   "id": "200af8a3-f009-4929-83be-b3b1c3558533",
   "metadata": {},
   "outputs": [
    {
     "data": {
      "text/plain": [
       "'0xa'"
      ]
     },
     "execution_count": 10,
     "metadata": {},
     "output_type": "execute_result"
    }
   ],
   "source": [
    "hex(10)"
   ]
  },
  {
   "cell_type": "code",
   "execution_count": 11,
   "id": "ec77be5a-961b-470e-99e9-82e505b287ec",
   "metadata": {},
   "outputs": [
    {
     "data": {
      "text/plain": [
       "'0x19'"
      ]
     },
     "execution_count": 11,
     "metadata": {},
     "output_type": "execute_result"
    }
   ],
   "source": [
    "hex(25)"
   ]
  },
  {
   "cell_type": "code",
   "execution_count": 12,
   "id": "add91884-c91a-4edb-a594-d2b55550f589",
   "metadata": {},
   "outputs": [
    {
     "data": {
      "text/plain": [
       "21"
      ]
     },
     "execution_count": 12,
     "metadata": {},
     "output_type": "execute_result"
    }
   ],
   "source": [
    "0x15"
   ]
  },
  {
   "cell_type": "markdown",
   "id": "b63c600b-da83-4464-ab0e-e1776d802f1f",
   "metadata": {},
   "source": [
    "# Swap variable in python \n",
    "\n",
    "(a,b = 5,6) After swap we should get  ==> (a, b = 6,5 )"
   ]
  },
  {
   "cell_type": "code",
   "execution_count": 13,
   "id": "372f335f-9edb-4c7c-b467-c6445308745d",
   "metadata": {},
   "outputs": [],
   "source": [
    "a = 5\n",
    "b = 6"
   ]
  },
  {
   "cell_type": "code",
   "execution_count": 14,
   "id": "84e90374-5666-41bd-a9af-98f8c5082eab",
   "metadata": {},
   "outputs": [],
   "source": [
    "a = b\n",
    "b = a"
   ]
  },
  {
   "cell_type": "code",
   "execution_count": 15,
   "id": "4723dc5b-552a-46db-8ec3-43fc96a833b1",
   "metadata": {},
   "outputs": [],
   "source": [
    "a,b = b,a "
   ]
  },
  {
   "cell_type": "code",
   "execution_count": 16,
   "id": "7f0ae805-5218-473b-8d17-2e220b953aaf",
   "metadata": {},
   "outputs": [
    {
     "name": "stdout",
     "output_type": "stream",
     "text": [
      "6\n",
      "6\n"
     ]
    }
   ],
   "source": [
    "print(a)\n",
    "print(b)"
   ]
  },
  {
   "cell_type": "code",
   "execution_count": 17,
   "id": "6eb0da5d-0b98-44d9-b2cd-617f08f00105",
   "metadata": {},
   "outputs": [],
   "source": [
    "# in above scenario we lost the value 5 \n",
    "a1 = 7\n",
    "b1 = 8"
   ]
  },
  {
   "cell_type": "code",
   "execution_count": 18,
   "id": "8b66afac-2344-4ef6-85ee-b382fe84e54f",
   "metadata": {},
   "outputs": [],
   "source": [
    "temp = a1 \n",
    "a1 = b1\n",
    "b1 = temp"
   ]
  },
  {
   "cell_type": "code",
   "execution_count": 19,
   "id": "2a638413-731f-4d7b-a291-eff5900188c3",
   "metadata": {},
   "outputs": [
    {
     "name": "stdout",
     "output_type": "stream",
     "text": [
      "8\n",
      "7\n"
     ]
    }
   ],
   "source": [
    "print(a1)\n",
    "print(b1)"
   ]
  },
  {
   "cell_type": "code",
   "execution_count": 22,
   "id": "b352b8b6-41ca-47a2-8e3b-cf4dc03b2833",
   "metadata": {},
   "outputs": [],
   "source": [
    "#swap variable formulas\n",
    "\n",
    "a2 = 5\n",
    "b2 = 6\n",
    "\n",
    "a2 = a2 + b2\n",
    "b2 = a2 - b2\n",
    "a2 = a2 - b2"
   ]
  },
  {
   "cell_type": "code",
   "execution_count": 23,
   "id": "0e7dade6-58f6-4ae8-9044-cd44299f6630",
   "metadata": {},
   "outputs": [
    {
     "name": "stdout",
     "output_type": "stream",
     "text": [
      "6\n",
      "5\n"
     ]
    }
   ],
   "source": [
    "print(a2)\n",
    "print(b2)"
   ]
  },
  {
   "cell_type": "code",
   "execution_count": 24,
   "id": "8d712643-be6a-4a1b-b723-a023a58b040c",
   "metadata": {},
   "outputs": [
    {
     "name": "stdout",
     "output_type": "stream",
     "text": [
      "5\n",
      "6\n"
     ]
    }
   ],
   "source": [
    "print(0b101) # 101 is 3 bit \n",
    "print(0b110) # 110 also 3bit "
   ]
  },
  {
   "cell_type": "code",
   "execution_count": 25,
   "id": "b81cbbb4-3e23-4062-b527-c70a04684529",
   "metadata": {},
   "outputs": [
    {
     "name": "stdout",
     "output_type": "stream",
     "text": [
      "0b1011\n",
      "11\n"
     ]
    }
   ],
   "source": [
    "#but when we use a2 + b2 then we get 11 that means we will get 4 bit which is 1 bit extra \n",
    "print(bin(11))\n",
    "print(0b1011)"
   ]
  },
  {
   "cell_type": "code",
   "execution_count": 26,
   "id": "5d5b0918-c62a-4a0f-bda8-35aae2206271",
   "metadata": {},
   "outputs": [],
   "source": [
    "#there is other way to work using swap variable also which is XOR because it will not waste extra bit \n",
    "a2 = a2 ^ b2\n",
    "b2 = a2 ^ b2\n",
    "a2 = a2 ^ b2"
   ]
  },
  {
   "cell_type": "code",
   "execution_count": 27,
   "id": "2090c761-f7b5-4492-a58f-47bd13352ec2",
   "metadata": {},
   "outputs": [
    {
     "name": "stdout",
     "output_type": "stream",
     "text": [
      "5\n",
      "6\n"
     ]
    }
   ],
   "source": [
    "print(a2)\n",
    "print(b2)"
   ]
  },
  {
   "cell_type": "code",
   "execution_count": 28,
   "id": "4f95616e-5929-42ad-9b6f-8726b0a8ee04",
   "metadata": {},
   "outputs": [
    {
     "name": "stdout",
     "output_type": "stream",
     "text": [
      "6\n",
      "5\n"
     ]
    }
   ],
   "source": [
    "a2 , b2 = b2, a2\n",
    "\n",
    "print(a2)\n",
    "print(b2)"
   ]
  },
  {
   "cell_type": "markdown",
   "id": "a38f61d3-8beb-4df7-8387-47bff6277f9e",
   "metadata": {},
   "source": [
    "# Operators "
   ]
  },
  {
   "cell_type": "raw",
   "id": "e6bb19d9-e09b-4ac1-b014-154de00e0522",
   "metadata": {},
   "source": [
    "1. Arithematic \n",
    "2. Assignment\n",
    "3. Relational\n",
    "4. Logical\n",
    "5. Unary\n",
    "\n",
    "\n",
    "1- ARITHMETIC OPERATOR ( + , -, *, /, %, %%, **, ^\n",
    "2- ASSIGNMEN OPERATOR (=)\n",
    "3- RELATIONAL OPERATOR\n",
    "4- LOGICAL OPERATOR\n",
    "5- UNARY OPERATOR\n",
    "6. BITWISE OPERATOR"
   ]
  },
  {
   "cell_type": "markdown",
   "id": "cd0880e5-711b-482a-9e9a-850387d2631b",
   "metadata": {},
   "source": [
    "# 1. Arithematic"
   ]
  },
  {
   "cell_type": "code",
   "execution_count": 30,
   "id": "a6987939-ef82-4316-98b1-234672480a0f",
   "metadata": {},
   "outputs": [
    {
     "name": "stdout",
     "output_type": "stream",
     "text": [
      "15\n",
      "5\n",
      "50\n",
      "2.0\n",
      "2\n",
      "0\n",
      "100000\n"
     ]
    }
   ],
   "source": [
    "x1, y1 = 10, 5\n",
    "\n",
    "print(x1  + y1) \n",
    "print(x1 - y1)\n",
    "print(x1 * y1)\n",
    "print(x1 / y1)\n",
    "print(x1 // y1)\n",
    "print(x1 % y1)\n",
    "print(x1 ** y1)"
   ]
  },
  {
   "cell_type": "markdown",
   "id": "f2895c42-69e6-47b1-a91f-baaf884cd4ae",
   "metadata": {},
   "source": [
    "# 2. Assignment operator "
   ]
  },
  {
   "cell_type": "code",
   "execution_count": 31,
   "id": "dbe5f9a2-1e29-4413-ab1a-4053ee78fda1",
   "metadata": {},
   "outputs": [],
   "source": [
    "x = 2"
   ]
  },
  {
   "cell_type": "code",
   "execution_count": 32,
   "id": "4a5d4613-a340-43fd-8b7a-b83c0fbd2a5d",
   "metadata": {},
   "outputs": [
    {
     "data": {
      "text/plain": [
       "4"
      ]
     },
     "execution_count": 32,
     "metadata": {},
     "output_type": "execute_result"
    }
   ],
   "source": [
    "x = x + 2\n",
    "x"
   ]
  },
  {
   "cell_type": "code",
   "execution_count": 33,
   "id": "a1282f0f-89b8-4faa-afb4-93836cd68f2f",
   "metadata": {},
   "outputs": [
    {
     "data": {
      "text/plain": [
       "6"
      ]
     },
     "execution_count": 33,
     "metadata": {},
     "output_type": "execute_result"
    }
   ],
   "source": [
    "x += 2\n",
    "x"
   ]
  },
  {
   "cell_type": "code",
   "execution_count": 34,
   "id": "166f2cc9-65b2-41b4-ab71-0e285119180f",
   "metadata": {},
   "outputs": [
    {
     "data": {
      "text/plain": [
       "8"
      ]
     },
     "execution_count": 34,
     "metadata": {},
     "output_type": "execute_result"
    }
   ],
   "source": [
    "x += 2\n",
    "x"
   ]
  },
  {
   "cell_type": "code",
   "execution_count": 35,
   "id": "fb4de075-4b20-40de-a84b-aa9299ab4b49",
   "metadata": {},
   "outputs": [
    {
     "data": {
      "text/plain": [
       "16"
      ]
     },
     "execution_count": 35,
     "metadata": {},
     "output_type": "execute_result"
    }
   ],
   "source": [
    "x *= 2\n",
    "x"
   ]
  },
  {
   "cell_type": "code",
   "execution_count": 36,
   "id": "0bd97b5f-9ef3-48a0-be9c-2732f5cde46a",
   "metadata": {},
   "outputs": [
    {
     "data": {
      "text/plain": [
       "14"
      ]
     },
     "execution_count": 36,
     "metadata": {},
     "output_type": "execute_result"
    }
   ],
   "source": [
    "x -= 2\n",
    "x"
   ]
  },
  {
   "cell_type": "code",
   "execution_count": 37,
   "id": "e72ec51d-6249-406c-b742-5dde88cdbff7",
   "metadata": {},
   "outputs": [
    {
     "data": {
      "text/plain": [
       "7.0"
      ]
     },
     "execution_count": 37,
     "metadata": {},
     "output_type": "execute_result"
    }
   ],
   "source": [
    "x /= 2\n",
    "x"
   ]
  },
  {
   "cell_type": "code",
   "execution_count": 38,
   "id": "ba859368-0ac9-42d3-93ee-676c26e510da",
   "metadata": {},
   "outputs": [
    {
     "data": {
      "text/plain": [
       "7.0"
      ]
     },
     "execution_count": 38,
     "metadata": {},
     "output_type": "execute_result"
    }
   ],
   "source": [
    "x"
   ]
  },
  {
   "cell_type": "markdown",
   "id": "493afb38-e967-4cfe-84a1-1a5716502c6f",
   "metadata": {},
   "source": [
    "# 5. Unary operator \n",
    "\n",
    "Here we are applying unary minus operator(-) on the operand n; the value of m becomes -7, which indicates it as a negative value."
   ]
  },
  {
   "cell_type": "code",
   "execution_count": 40,
   "id": "5f210b9f-ccdd-4d8c-800e-645004b4dfab",
   "metadata": {},
   "outputs": [
    {
     "data": {
      "text/plain": [
       "-7"
      ]
     },
     "execution_count": 40,
     "metadata": {},
     "output_type": "execute_result"
    }
   ],
   "source": [
    "n = 7 #negattion\n",
    "m = -(n)\n",
    "m"
   ]
  },
  {
   "cell_type": "markdown",
   "id": "80bbcfda-80f3-47dc-b770-d48ba1fc9be4",
   "metadata": {},
   "source": [
    "# 3. Relational\n",
    "- we are using this operator for comparing"
   ]
  },
  {
   "cell_type": "code",
   "execution_count": 41,
   "id": "fa5a7c32-7ad5-442b-bd30-c66c7c23d4c5",
   "metadata": {},
   "outputs": [
    {
     "data": {
      "text/plain": [
       "False"
      ]
     },
     "execution_count": 41,
     "metadata": {},
     "output_type": "execute_result"
    }
   ],
   "source": [
    "a = 5\n",
    "b = 7\n",
    "\n",
    "a == b"
   ]
  },
  {
   "cell_type": "code",
   "execution_count": 42,
   "id": "506573b3-a00b-46de-9444-f73ad015edfe",
   "metadata": {},
   "outputs": [
    {
     "data": {
      "text/plain": [
       "True"
      ]
     },
     "execution_count": 42,
     "metadata": {},
     "output_type": "execute_result"
    }
   ],
   "source": [
    "a<b"
   ]
  },
  {
   "cell_type": "code",
   "execution_count": 43,
   "id": "111987c0-2359-4cbf-ad64-660fc7e31ff1",
   "metadata": {},
   "outputs": [
    {
     "data": {
      "text/plain": [
       "False"
      ]
     },
     "execution_count": 43,
     "metadata": {},
     "output_type": "execute_result"
    }
   ],
   "source": [
    "a>b"
   ]
  },
  {
   "cell_type": "code",
   "execution_count": 45,
   "id": "0f6b0a34-01ac-4fd9-9229-674dc63e8c6d",
   "metadata": {},
   "outputs": [
    {
     "data": {
      "text/plain": [
       "True"
      ]
     },
     "execution_count": 45,
     "metadata": {},
     "output_type": "execute_result"
    }
   ],
   "source": [
    "a = 10\n",
    "a != b"
   ]
  },
  {
   "cell_type": "code",
   "execution_count": 46,
   "id": "66afa9e7-ed36-495e-9a42-eb1307a0e357",
   "metadata": {},
   "outputs": [
    {
     "data": {
      "text/plain": [
       "True"
      ]
     },
     "execution_count": 46,
     "metadata": {},
     "output_type": "execute_result"
    }
   ],
   "source": [
    "b = 10\n",
    "a == b"
   ]
  },
  {
   "cell_type": "code",
   "execution_count": 47,
   "id": "fa4dfa9b-3cb1-4e63-95ee-d4590805a676",
   "metadata": {},
   "outputs": [
    {
     "data": {
      "text/plain": [
       "True"
      ]
     },
     "execution_count": 47,
     "metadata": {},
     "output_type": "execute_result"
    }
   ],
   "source": [
    "a >= b"
   ]
  },
  {
   "cell_type": "code",
   "execution_count": 48,
   "id": "a943a11f-b6cb-4c64-9f81-0bf5abbc12c8",
   "metadata": {},
   "outputs": [
    {
     "data": {
      "text/plain": [
       "True"
      ]
     },
     "execution_count": 48,
     "metadata": {},
     "output_type": "execute_result"
    }
   ],
   "source": [
    "a <= b"
   ]
  },
  {
   "cell_type": "code",
   "execution_count": 49,
   "id": "0e9ba4ee-550b-4f7a-9466-56d4b305ce1f",
   "metadata": {},
   "outputs": [
    {
     "data": {
      "text/plain": [
       "False"
      ]
     },
     "execution_count": 49,
     "metadata": {},
     "output_type": "execute_result"
    }
   ],
   "source": [
    "a < b"
   ]
  },
  {
   "cell_type": "code",
   "execution_count": 50,
   "id": "38155fd4-9609-40af-9f5a-b106277aa8d1",
   "metadata": {},
   "outputs": [
    {
     "data": {
      "text/plain": [
       "False"
      ]
     },
     "execution_count": 50,
     "metadata": {},
     "output_type": "execute_result"
    }
   ],
   "source": [
    "a>b"
   ]
  },
  {
   "cell_type": "code",
   "execution_count": 51,
   "id": "2c50a78a-0c7c-4750-a04d-a9ebb1933d52",
   "metadata": {},
   "outputs": [
    {
     "data": {
      "text/plain": [
       "True"
      ]
     },
     "execution_count": 51,
     "metadata": {},
     "output_type": "execute_result"
    }
   ],
   "source": [
    "b = 7\n",
    "\n",
    "a != b"
   ]
  },
  {
   "cell_type": "markdown",
   "id": "5c350b7d-8b6c-4b18-95b0-8078e1670188",
   "metadata": {},
   "source": [
    "# 4. Logical \n",
    "- AND, OR, NOT"
   ]
  },
  {
   "cell_type": "code",
   "execution_count": 52,
   "id": "4d81d53b-95ab-4830-a623-56694c98b84c",
   "metadata": {},
   "outputs": [],
   "source": [
    "a = 5\n",
    "b = 4"
   ]
  },
  {
   "cell_type": "code",
   "execution_count": 53,
   "id": "94e156f7-e20f-4165-8ac4-06bc74dad328",
   "metadata": {},
   "outputs": [
    {
     "data": {
      "text/plain": [
       "True"
      ]
     },
     "execution_count": 53,
     "metadata": {},
     "output_type": "execute_result"
    }
   ],
   "source": [
    "a < 8 and b < 5 #refer to the truth table "
   ]
  },
  {
   "cell_type": "code",
   "execution_count": 54,
   "id": "8ec8b216-03b4-4d51-a058-3c811bd90172",
   "metadata": {},
   "outputs": [
    {
     "data": {
      "text/plain": [
       "False"
      ]
     },
     "execution_count": 54,
     "metadata": {},
     "output_type": "execute_result"
    }
   ],
   "source": [
    "a < 8 and b < 2"
   ]
  },
  {
   "cell_type": "code",
   "execution_count": 55,
   "id": "8970945c-5647-45d9-a10e-d5363782e673",
   "metadata": {},
   "outputs": [
    {
     "data": {
      "text/plain": [
       "True"
      ]
     },
     "execution_count": 55,
     "metadata": {},
     "output_type": "execute_result"
    }
   ],
   "source": [
    "a < 8 or b < 2"
   ]
  },
  {
   "cell_type": "code",
   "execution_count": 56,
   "id": "24992d0f-34fd-4805-9341-47f9ffc7d010",
   "metadata": {},
   "outputs": [
    {
     "data": {
      "text/plain": [
       "False"
      ]
     },
     "execution_count": 56,
     "metadata": {},
     "output_type": "execute_result"
    }
   ],
   "source": [
    "a>8 or b<2"
   ]
  },
  {
   "cell_type": "code",
   "execution_count": 57,
   "id": "1a141515-627d-46e8-9e47-75cf7d21aa2c",
   "metadata": {},
   "outputs": [
    {
     "data": {
      "text/plain": [
       "False"
      ]
     },
     "execution_count": 57,
     "metadata": {},
     "output_type": "execute_result"
    }
   ],
   "source": [
    "not x  # you can reverse the operation"
   ]
  },
  {
   "cell_type": "code",
   "execution_count": 58,
   "id": "59e139c6-6422-4534-bed3-053c75b7dda9",
   "metadata": {},
   "outputs": [
    {
     "data": {
      "text/plain": [
       "False"
      ]
     },
     "execution_count": 58,
     "metadata": {},
     "output_type": "execute_result"
    }
   ],
   "source": [
    "x = not x\n",
    "x"
   ]
  },
  {
   "cell_type": "code",
   "execution_count": 59,
   "id": "7643fcf7-c14a-4b61-a809-9464e18f07e2",
   "metadata": {},
   "outputs": [
    {
     "data": {
      "text/plain": [
       "False"
      ]
     },
     "execution_count": 59,
     "metadata": {},
     "output_type": "execute_result"
    }
   ],
   "source": [
    "x"
   ]
  },
  {
   "cell_type": "code",
   "execution_count": 60,
   "id": "f380f266-6080-4830-bd39-c71e4114effe",
   "metadata": {},
   "outputs": [
    {
     "data": {
      "text/plain": [
       "True"
      ]
     },
     "execution_count": 60,
     "metadata": {},
     "output_type": "execute_result"
    }
   ],
   "source": [
    "not x"
   ]
  },
  {
   "cell_type": "markdown",
   "id": "30daf8e3-f651-4524-8dd5-481dac51bd84",
   "metadata": {},
   "source": [
    "# 6. Bitwise Operator\n",
    "\n",
    "- WE HAVE 6 OPERATORS \n",
    "COMPLEMENT ( ~ ) || AND ( & )  || OR ( | ) || XOR ( ^ ) || LEFT SHIFT ( << ) || RIGHT SHIFT ( >> )"
   ]
  },
  {
   "cell_type": "code",
   "execution_count": 61,
   "id": "74509c07-b776-4e15-9fad-5f54c7dfd760",
   "metadata": {},
   "outputs": [
    {
     "name": "stdout",
     "output_type": "stream",
     "text": [
      "0b1100\n",
      "0b1101\n"
     ]
    }
   ],
   "source": [
    "print(bin(12))\n",
    "print(bin(13))"
   ]
  },
  {
   "cell_type": "markdown",
   "id": "da4ff881-2394-473e-bcce-e2976b483060",
   "metadata": {},
   "source": [
    "# complement --> you will get this key below esc character\n",
    "12 ==> 1100 || \n",
    "first thing we need to understand what is mean by complement. \n",
    "complement means it will do reverse of the binary format i.e. - ~0 it will give you 1 ~1 it will give 0\n",
    "12 binary format is 00001100 ( complement of ~00001100 reverse the number - 11110011 which is (-13)\n",
    "\n",
    " but the question is why we got -13 \n",
    " to understand this concept ( we have concept of 2's complement\n",
    " 2's complement mean (1's complement + 1)\n",
    " in the system we can store +Ve number but how to store -ve number\n",
    " \n",
    " lets understand binary form of 13 - 00001101 + 1 \n"
   ]
  },
  {
   "cell_type": "code",
   "execution_count": 62,
   "id": "b990fe6d-9f4f-4ee9-9581-83550ffa9cde",
   "metadata": {},
   "outputs": [
    {
     "data": {
      "text/plain": [
       "-13"
      ]
     },
     "execution_count": 62,
     "metadata": {},
     "output_type": "execute_result"
    }
   ],
   "source": [
    "# COMPLEMENT (~) (TILDE  OR TILD)\n",
    "~12 # why we get -13 . first we understand what is complment means (reversr of binary format)"
   ]
  },
  {
   "cell_type": "code",
   "execution_count": 63,
   "id": "66255a78-b2ae-4a77-b937-9f568d41f725",
   "metadata": {},
   "outputs": [
    {
     "data": {
      "text/plain": [
       "-46"
      ]
     },
     "execution_count": 63,
     "metadata": {},
     "output_type": "execute_result"
    }
   ],
   "source": [
    "~45"
   ]
  },
  {
   "cell_type": "code",
   "execution_count": 64,
   "id": "864e0841-f816-4d56-b9df-9ad281e0e359",
   "metadata": {},
   "outputs": [
    {
     "data": {
      "text/plain": [
       "-7"
      ]
     },
     "execution_count": 64,
     "metadata": {},
     "output_type": "execute_result"
    }
   ],
   "source": [
    "~6"
   ]
  },
  {
   "cell_type": "code",
   "execution_count": 65,
   "id": "df3fa86a-bfb3-4fd9-96fe-01bc0b1cbcd9",
   "metadata": {},
   "outputs": [
    {
     "data": {
      "text/plain": [
       "5"
      ]
     },
     "execution_count": 65,
     "metadata": {},
     "output_type": "execute_result"
    }
   ],
   "source": [
    "~-6"
   ]
  },
  {
   "cell_type": "code",
   "execution_count": 66,
   "id": "b8ec5153-861b-4783-8baa-1e6cdfc9d230",
   "metadata": {},
   "outputs": [
    {
     "data": {
      "text/plain": [
       "0"
      ]
     },
     "execution_count": 66,
     "metadata": {},
     "output_type": "execute_result"
    }
   ],
   "source": [
    "~-1"
   ]
  },
  {
   "cell_type": "markdown",
   "id": "c9212a4b-e4d2-4923-97b1-a73b49d9ca36",
   "metadata": {},
   "source": [
    "# bit wise and operator \n",
    "\n",
    "AND - LOGICAL OPERATOR ||| & - BITWISE AND OPERATOR  \n",
    "(we know that 1 & 1 is 1)\n",
    "12 - 00001100 \n",
    "13 - 00001101\n",
    "when we are add both then then outut we will get as 12 "
   ]
  },
  {
   "cell_type": "code",
   "execution_count": 67,
   "id": "c6d6b18f-3d92-4330-910c-fef0b2aa6533",
   "metadata": {},
   "outputs": [
    {
     "data": {
      "text/plain": [
       "12"
      ]
     },
     "execution_count": 67,
     "metadata": {},
     "output_type": "execute_result"
    }
   ],
   "source": [
    "12 & 13"
   ]
  },
  {
   "cell_type": "code",
   "execution_count": 68,
   "id": "a928d224-7578-49d9-9437-9b593a9269e8",
   "metadata": {},
   "outputs": [
    {
     "data": {
      "text/plain": [
       "1"
      ]
     },
     "execution_count": 68,
     "metadata": {},
     "output_type": "execute_result"
    }
   ],
   "source": [
    "1 & 1"
   ]
  },
  {
   "cell_type": "code",
   "execution_count": 69,
   "id": "4de29c24-e29a-4487-94be-707763c46973",
   "metadata": {},
   "outputs": [
    {
     "data": {
      "text/plain": [
       "1"
      ]
     },
     "execution_count": 69,
     "metadata": {},
     "output_type": "execute_result"
    }
   ],
   "source": [
    "1 | 0"
   ]
  },
  {
   "cell_type": "code",
   "execution_count": 70,
   "id": "83e38729-2fd7-4c7a-accb-d25b2d0c34b7",
   "metadata": {},
   "outputs": [
    {
     "data": {
      "text/plain": [
       "0"
      ]
     },
     "execution_count": 70,
     "metadata": {},
     "output_type": "execute_result"
    }
   ],
   "source": [
    "1 & 0"
   ]
  },
  {
   "cell_type": "code",
   "execution_count": 71,
   "id": "5b1cc0f8-ad41-4164-8398-c72333dd6a40",
   "metadata": {},
   "outputs": [
    {
     "data": {
      "text/plain": [
       "13"
      ]
     },
     "execution_count": 71,
     "metadata": {},
     "output_type": "execute_result"
    }
   ],
   "source": [
    "12 | 13"
   ]
  },
  {
   "cell_type": "code",
   "execution_count": 72,
   "id": "aa3c1778-3087-4288-a954-e72974f1ab92",
   "metadata": {},
   "outputs": [
    {
     "data": {
      "text/plain": [
       "32"
      ]
     },
     "execution_count": 72,
     "metadata": {},
     "output_type": "execute_result"
    }
   ],
   "source": [
    "35 & 40 #please do the homework conververt 35,40 to binary format "
   ]
  },
  {
   "cell_type": "code",
   "execution_count": 73,
   "id": "91601c75-ed9e-4cce-bacd-3a721d7439c2",
   "metadata": {},
   "outputs": [
    {
     "data": {
      "text/plain": [
       "43"
      ]
     },
     "execution_count": 73,
     "metadata": {},
     "output_type": "execute_result"
    }
   ],
   "source": [
    "35 | 40"
   ]
  },
  {
   "cell_type": "code",
   "execution_count": 74,
   "id": "d503d9a7-5fac-4fca-a7e4-a597b174b6b4",
   "metadata": {},
   "outputs": [
    {
     "data": {
      "text/plain": [
       "1"
      ]
     },
     "execution_count": 74,
     "metadata": {},
     "output_type": "execute_result"
    }
   ],
   "source": [
    "# in XOR if the both number are different then we will get 1 or else we will get 0\n",
    "\n",
    "12 ^ 13"
   ]
  },
  {
   "cell_type": "code",
   "execution_count": 75,
   "id": "8ca2d3b8-eb25-4d26-be77-e296856f4227",
   "metadata": {},
   "outputs": [
    {
     "data": {
      "text/plain": [
       "7"
      ]
     },
     "execution_count": 75,
     "metadata": {},
     "output_type": "execute_result"
    }
   ],
   "source": [
    "25 ^ 30"
   ]
  },
  {
   "cell_type": "code",
   "execution_count": 76,
   "id": "a3443280-a5dc-4717-bce2-2b9f252714bd",
   "metadata": {},
   "outputs": [
    {
     "data": {
      "text/plain": [
       "'0b11001'"
      ]
     },
     "execution_count": 76,
     "metadata": {},
     "output_type": "execute_result"
    }
   ],
   "source": [
    "bin(25)"
   ]
  },
  {
   "cell_type": "code",
   "execution_count": 77,
   "id": "abf94e6c-3797-41b8-9f4c-67e05f7ecddf",
   "metadata": {},
   "outputs": [
    {
     "data": {
      "text/plain": [
       "'0b11110'"
      ]
     },
     "execution_count": 77,
     "metadata": {},
     "output_type": "execute_result"
    }
   ],
   "source": [
    "bin(30)"
   ]
  },
  {
   "cell_type": "code",
   "execution_count": 78,
   "id": "0d4c7525-55e0-4630-b93f-31231fc964f1",
   "metadata": {},
   "outputs": [
    {
     "data": {
      "text/plain": [
       "7"
      ]
     },
     "execution_count": 78,
     "metadata": {},
     "output_type": "execute_result"
    }
   ],
   "source": [
    "int(0b000111)"
   ]
  },
  {
   "cell_type": "markdown",
   "id": "63cc7daf-0417-4d2f-8910-1bd4e25e598f",
   "metadata": {},
   "source": [
    "# BIT WISE LEFT OPERATOR\n",
    "#bit wise left operator bydefault you will take 2 zeros ( )\n",
    "#10 binary operator is 1010 | also i can say 1010\n",
    "10<<2"
   ]
  },
  {
   "cell_type": "code",
   "execution_count": 79,
   "id": "418269d7-d831-4c7e-8709-a0247df4857b",
   "metadata": {},
   "outputs": [
    {
     "data": {
      "text/plain": [
       "320"
      ]
     },
     "execution_count": 79,
     "metadata": {},
     "output_type": "execute_result"
    }
   ],
   "source": [
    "20<<4 #can we do this"
   ]
  },
  {
   "cell_type": "markdown",
   "id": "541938d6-6dbe-4ef0-ada1-971955c79e9f",
   "metadata": {},
   "source": [
    "# BITWISE RIGHTSHIFT OPERATOR"
   ]
  },
  {
   "cell_type": "code",
   "execution_count": 80,
   "id": "470bcc2f-e6ad-4b18-beef-dbe6e6bb825c",
   "metadata": {},
   "outputs": [
    {
     "data": {
      "text/plain": [
       "2"
      ]
     },
     "execution_count": 80,
     "metadata": {},
     "output_type": "execute_result"
    }
   ],
   "source": [
    "10>>2"
   ]
  },
  {
   "cell_type": "code",
   "execution_count": 81,
   "id": "96683c3a-b611-429a-9a28-ca4913347dcd",
   "metadata": {},
   "outputs": [
    {
     "data": {
      "text/plain": [
       "'0b10100'"
      ]
     },
     "execution_count": 81,
     "metadata": {},
     "output_type": "execute_result"
    }
   ],
   "source": [
    "bin(20)"
   ]
  },
  {
   "cell_type": "code",
   "execution_count": 82,
   "id": "dc743120-ae94-4f63-8b25-2d9320c76259",
   "metadata": {},
   "outputs": [
    {
     "data": {
      "text/plain": [
       "1"
      ]
     },
     "execution_count": 82,
     "metadata": {},
     "output_type": "execute_result"
    }
   ],
   "source": [
    "20>>4"
   ]
  },
  {
   "cell_type": "markdown",
   "id": "8703cbff-da73-48fc-8a5a-e479add52b1c",
   "metadata": {},
   "source": [
    "# 29th April 2025"
   ]
  },
  {
   "cell_type": "raw",
   "id": "c52abc29-5b36-4844-a41f-a4475b13587b",
   "metadata": {},
   "source": [
    "# print(), Input(), Interview Questions"
   ]
  },
  {
   "cell_type": "markdown",
   "id": "162d6746-a482-4602-bfb7-6dd4558c7034",
   "metadata": {},
   "source": [
    "# Basic Phython Completed"
   ]
  }
 ],
 "metadata": {
  "kernelspec": {
   "display_name": "Python 3 (ipykernel)",
   "language": "python",
   "name": "python3"
  },
  "language_info": {
   "codemirror_mode": {
    "name": "ipython",
    "version": 3
   },
   "file_extension": ".py",
   "mimetype": "text/x-python",
   "name": "python",
   "nbconvert_exporter": "python",
   "pygments_lexer": "ipython3",
   "version": "3.12.4"
  }
 },
 "nbformat": 4,
 "nbformat_minor": 5
}
